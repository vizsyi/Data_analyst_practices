{
 "cells": [
  {
   "cell_type": "markdown",
   "metadata": {},
   "source": [
    "### Website traffic analysis"
   ]
  },
  {
   "cell_type": "code",
   "execution_count": 1,
   "metadata": {},
   "outputs": [],
   "source": [
    "#import wget\n",
    "\n",
    "#wget.download(\"https://gist.githubusercontent.com/escape-velocity-labs/17c3ba12aef542afe5055a859e0fbd98/raw/af9e2431fb69c76618aeec9940cd5fd6deab8b1f/style.css\"\n",
    "#              , out=\"assets\")\n",
    "#wget.download(\"https://gist.githubusercontent.com/escape-velocity-labs/81b8225d72306541018bf868f3a23436/raw/c14fdac538abc45f8e19c4828bb015aa931c41c5/web_data.csv\"\n",
    "#              , out=\"data\")"
   ]
  },
  {
   "cell_type": "code",
   "execution_count": 2,
   "metadata": {},
   "outputs": [],
   "source": [
    "import pandas as pd\n",
    "import dash\n",
    "from dash import dcc\n",
    "from dash import html\n",
    "from dash.dependencies import Input, Output\n",
    "from jupyter_dash import JupyterDash\n",
    "import plotly.express as px\n",
    "import plotly.graph_objects as go\n",
    "import plotly.io as pio"
   ]
  },
  {
   "cell_type": "code",
   "execution_count": 3,
   "metadata": {},
   "outputs": [
    {
     "name": "stderr",
     "output_type": "stream",
     "text": [
      "c:\\Users\\Vizsy.Istvan\\Development\\Data_analyst_practices\\venv\\Lib\\site-packages\\dash\\dash.py:556: UserWarning:\n",
      "\n",
      "JupyterDash is deprecated, use Dash instead.\n",
      "See https://dash.plotly.com/dash-in-jupyter for more details.\n",
      "\n"
     ]
    }
   ],
   "source": [
    "app = JupyterDash(__name__)\n",
    "app.title = \"Website analytics\""
   ]
  },
  {
   "cell_type": "code",
   "execution_count": 4,
   "metadata": {},
   "outputs": [
    {
     "data": {
      "text/html": [
       "<div>\n",
       "<style scoped>\n",
       "    .dataframe tbody tr th:only-of-type {\n",
       "        vertical-align: middle;\n",
       "    }\n",
       "\n",
       "    .dataframe tbody tr th {\n",
       "        vertical-align: top;\n",
       "    }\n",
       "\n",
       "    .dataframe thead th {\n",
       "        text-align: right;\n",
       "    }\n",
       "</style>\n",
       "<table border=\"1\" class=\"dataframe\">\n",
       "  <thead>\n",
       "    <tr style=\"text-align: right;\">\n",
       "      <th></th>\n",
       "      <th>date</th>\n",
       "      <th>time</th>\n",
       "      <th>weekday</th>\n",
       "      <th>os</th>\n",
       "      <th>country</th>\n",
       "      <th>page</th>\n",
       "    </tr>\n",
       "  </thead>\n",
       "  <tbody>\n",
       "    <tr>\n",
       "      <th>0</th>\n",
       "      <td>2021-10-01</td>\n",
       "      <td>00:00:00</td>\n",
       "      <td>Friday</td>\n",
       "      <td>Windows</td>\n",
       "      <td>United States</td>\n",
       "      <td>Detail</td>\n",
       "    </tr>\n",
       "    <tr>\n",
       "      <th>1</th>\n",
       "      <td>2021-10-01</td>\n",
       "      <td>00:00:00</td>\n",
       "      <td>Friday</td>\n",
       "      <td>Mac</td>\n",
       "      <td>United Kingdom</td>\n",
       "      <td>Shopping Cart</td>\n",
       "    </tr>\n",
       "    <tr>\n",
       "      <th>2</th>\n",
       "      <td>2021-10-01</td>\n",
       "      <td>00:00:00</td>\n",
       "      <td>Friday</td>\n",
       "      <td>Linux</td>\n",
       "      <td>Brazil</td>\n",
       "      <td>Detail</td>\n",
       "    </tr>\n",
       "    <tr>\n",
       "      <th>3</th>\n",
       "      <td>2021-10-01</td>\n",
       "      <td>00:00:00</td>\n",
       "      <td>Friday</td>\n",
       "      <td>Windows</td>\n",
       "      <td>Canada</td>\n",
       "      <td>Detail</td>\n",
       "    </tr>\n",
       "    <tr>\n",
       "      <th>4</th>\n",
       "      <td>2021-10-01</td>\n",
       "      <td>00:00:00</td>\n",
       "      <td>Friday</td>\n",
       "      <td>Linux</td>\n",
       "      <td>Germany</td>\n",
       "      <td>Landing</td>\n",
       "    </tr>\n",
       "    <tr>\n",
       "      <th>5</th>\n",
       "      <td>2021-10-01</td>\n",
       "      <td>00:00:00</td>\n",
       "      <td>Friday</td>\n",
       "      <td>Mac</td>\n",
       "      <td>New Zealand</td>\n",
       "      <td>Landing</td>\n",
       "    </tr>\n",
       "    <tr>\n",
       "      <th>6</th>\n",
       "      <td>2021-10-01</td>\n",
       "      <td>00:00:00</td>\n",
       "      <td>Friday</td>\n",
       "      <td>Mac</td>\n",
       "      <td>Russia</td>\n",
       "      <td>Shopping Cart</td>\n",
       "    </tr>\n",
       "  </tbody>\n",
       "</table>\n",
       "</div>"
      ],
      "text/plain": [
       "         date      time weekday       os         country           page\n",
       "0  2021-10-01  00:00:00  Friday  Windows   United States         Detail\n",
       "1  2021-10-01  00:00:00  Friday      Mac  United Kingdom  Shopping Cart\n",
       "2  2021-10-01  00:00:00  Friday    Linux          Brazil         Detail\n",
       "3  2021-10-01  00:00:00  Friday  Windows          Canada         Detail\n",
       "4  2021-10-01  00:00:00  Friday    Linux         Germany        Landing\n",
       "5  2021-10-01  00:00:00  Friday      Mac     New Zealand        Landing\n",
       "6  2021-10-01  00:00:00  Friday      Mac          Russia  Shopping Cart"
      ]
     },
     "execution_count": 4,
     "metadata": {},
     "output_type": "execute_result"
    }
   ],
   "source": [
    "sitedata = pd.read_csv(\"./data/web_data.csv\")\n",
    "sitedata.head(7)"
   ]
  },
  {
   "cell_type": "code",
   "execution_count": 5,
   "metadata": {},
   "outputs": [],
   "source": [
    "colors = [\"#f2fffb\", \"#98ffe0\", \"#6df0c8\", \"#59dab2\",\n",
    "          \"#31c194\", \"#25a27b\", \"#188463\", \"#11684d\"]\n",
    "\n",
    "custom_theme = pio.templates[\"plotly_dark\"]\n",
    "custom_theme.layout.update({\n",
    "    \"paper_bgcolor\": \"#1f2630\",\n",
    "    \"plot_bgcolor\": \"#1f2630\",\n",
    "    \"colorway\": colors,\n",
    "    \"colorscale_sequential\": colors,\n",
    "    \"font\": {\n",
    "        \"color\": \"#2cfec1\"\n",
    "    },\n",
    "    \"margin\": {\n",
    "        \"t\": 75,\n",
    "        \"r\": 50,\n",
    "        \"b\": 100,\n",
    "        \"l\": 75\n",
    "    }\n",
    "})\n",
    "\n",
    "pio.templates.default = custom_theme"
   ]
  },
  {
   "cell_type": "markdown",
   "metadata": {},
   "source": [
    "### Dashboard structure"
   ]
  },
  {
   "cell_type": "markdown",
   "metadata": {},
   "source": [
    "#### Dashboard header"
   ]
  },
  {
   "cell_type": "code",
   "execution_count": 6,
   "metadata": {},
   "outputs": [],
   "source": [
    "header = html.Div(\n",
    "    id=\"header\",\n",
    "    children=[\n",
    "        html.H4(\"Website traffic analytics\"),\n",
    "        html.P(\n",
    "            id=\"description\",\n",
    "            children=\"This application will display the evolution and key variables related to an e-commerce website.\"\n",
    "        )\n",
    "    ]\n",
    ")"
   ]
  },
  {
   "cell_type": "markdown",
   "metadata": {},
   "source": [
    "#### Evolution of website visits"
   ]
  },
  {
   "cell_type": "code",
   "execution_count": 7,
   "metadata": {},
   "outputs": [
    {
     "data": {
      "text/plain": [
       "date\n",
       "2021-10-01    307\n",
       "2021-10-02    308\n",
       "2021-10-03    342\n",
       "2021-10-04    325\n",
       "2021-10-05    331\n",
       "Name: count, dtype: int64"
      ]
     },
     "execution_count": 7,
     "metadata": {},
     "output_type": "execute_result"
    }
   ],
   "source": [
    "visits_per_day = sitedata.value_counts(\"date\", sort=False)\n",
    "visits_per_day.head()"
   ]
  },
  {
   "cell_type": "code",
   "execution_count": 8,
   "metadata": {},
   "outputs": [
    {
     "data": {
      "text/plain": [
       "pandas.core.series.Series"
      ]
     },
     "execution_count": 8,
     "metadata": {},
     "output_type": "execute_result"
    }
   ],
   "source": [
    "type(visits_per_day)"
   ]
  },
  {
   "cell_type": "code",
   "execution_count": 9,
   "metadata": {},
   "outputs": [],
   "source": [
    "trend_title = html.P(className=\"chart-header\", children=\"Website visits per day\")"
   ]
  },
  {
   "cell_type": "code",
   "execution_count": 10,
   "metadata": {},
   "outputs": [
    {
     "data": {
      "text/plain": [
       "Layout({\n",
       "    'legend': {'title': {'text': 'variable'}, 'tracegroupgap': 0},\n",
       "    'showlegend': False,\n",
       "    'template': '...',\n",
       "    'xaxis': {'anchor': 'y', 'domain': [0.0, 1.0], 'title': {'text': 'Date'}},\n",
       "    'yaxis': {'anchor': 'x', 'domain': [0.0, 1.0], 'title': {'text': 'Value'}}\n",
       "})"
      ]
     },
     "execution_count": 10,
     "metadata": {},
     "output_type": "execute_result"
    }
   ],
   "source": [
    "labels = {\"date\": \"Date\", \"value\": \"Value\"}\n",
    "trend_figure = px.line(visits_per_day, labels=labels, markers=True)\n",
    "trend_figure.layout.update(showlegend=False)\n",
    "#trend_figure.show()"
   ]
  },
  {
   "cell_type": "code",
   "execution_count": 11,
   "metadata": {},
   "outputs": [],
   "source": [
    "trend_graph = dcc.Graph(figure=trend_figure, className=\"graph\")"
   ]
  },
  {
   "cell_type": "markdown",
   "metadata": {},
   "source": [
    "#### First row"
   ]
  },
  {
   "cell_type": "code",
   "execution_count": 12,
   "metadata": {},
   "outputs": [],
   "source": [
    "first_row = html.Div(\n",
    "    className=\"graph-row\",\n",
    "    children=[\n",
    "        html.Div(\n",
    "            className=\"graph-container\",\n",
    "            children=[\n",
    "                trend_title,\n",
    "                trend_graph\n",
    "            ]\n",
    "        )\n",
    "    ]\n",
    ")"
   ]
  },
  {
   "cell_type": "markdown",
   "metadata": {},
   "source": [
    "#### Sales funnel"
   ]
  },
  {
   "cell_type": "code",
   "execution_count": 13,
   "metadata": {},
   "outputs": [],
   "source": [
    "funnel_title = html.P(className=\"chart-header\", children=\"Sales funnel\")"
   ]
  },
  {
   "cell_type": "code",
   "execution_count": 14,
   "metadata": {},
   "outputs": [],
   "source": [
    "@app.callback(Output(\"funnel-graph\", \"figure\"),\n",
    "              [Input(\"os-dropdown\", \"value\"), Input(\"country-dropdown\", \"value\")])\n",
    "def update_funnel_graph(os, country):\n",
    "    subset = sitedata\n",
    "    if os:\n",
    "        subset = subset.query(f\"os == '{os}'\")\n",
    "    if country:\n",
    "        subset = subset.query(f\"country == '{country}'\")\n",
    "\n",
    "    visits_per_day = subset.value_counts(\"page\")\n",
    "    fig = px.funnel(visits_per_day, color=visits_per_day)\n",
    "    \n",
    "    return fig"
   ]
  },
  {
   "cell_type": "code",
   "execution_count": 15,
   "metadata": {},
   "outputs": [],
   "source": [
    "os_dropdown = dcc.Dropdown(\n",
    "    id=\"os-dropdown\",\n",
    "    placeholder=\"Filter by oprating system\",\n",
    "    options=[\n",
    "        {\"label\": \"Windows\", \"value\": \"Windows\"},\n",
    "        {\"label\": \"Android\", \"value\": \"Android\"},\n",
    "        {\"label\": \"Mac\", \"value\": \"Mac\"},\n",
    "        {\"label\": \"iOS\", \"value\": \"iOS\"},\n",
    "        {\"label\": \"Linux\", \"value\": \"Linux\"}\n",
    "    ]\n",
    ")\n",
    "\n",
    "country_dropdown = dcc.Dropdown(\n",
    "    id=\"country-dropdown\",\n",
    "    placeholder=\"Filter by country\",\n",
    "    options=[\n",
    "        {\"label\": \"United States\", \"value\": \"United States\"},\n",
    "        {\"label\": \"Canada\", \"value\": \"Canada\"},\n",
    "        {\"label\": \"United Kingdom\", \"value\": \"United Kingdom\"},\n",
    "        {\"label\": \"Australia\", \"value\": \"Australia\"},\n",
    "        {\"label\": \"New Zealand\", \"value\": \"New Zealand\"},\n",
    "        {\"label\": \"Brazil\", \"value\": \"Brazil\"},\n",
    "        {\"label\": \"Russia\", \"value\": \"Russia\"},\n",
    "        {\"label\": \"Germany\", \"value\": \"Germany\"},\n",
    "        {\"label\": \"Mexico\", \"value\": \"Mexico\"}\n",
    "    ]\n",
    ")"
   ]
  },
  {
   "cell_type": "code",
   "execution_count": 16,
   "metadata": {},
   "outputs": [],
   "source": [
    "funnel_controls = html.Div(\n",
    "    className=\"controler-row\",\n",
    "    children=[\n",
    "        os_dropdown,\n",
    "        country_dropdown\n",
    "            ]\n",
    ")"
   ]
  },
  {
   "cell_type": "code",
   "execution_count": 17,
   "metadata": {},
   "outputs": [],
   "source": [
    "funnel_graph = dcc.Graph(id=\"funnel-graph\", className=\"graph\")"
   ]
  },
  {
   "cell_type": "markdown",
   "metadata": {},
   "source": [
    "#### Distribution of visits by attribute"
   ]
  },
  {
   "cell_type": "code",
   "execution_count": 18,
   "metadata": {},
   "outputs": [],
   "source": [
    "pie_title = html.P(className=\"chart-header\", children=\"Visit distribution\")"
   ]
  },
  {
   "cell_type": "code",
   "execution_count": 19,
   "metadata": {},
   "outputs": [],
   "source": [
    "@app.callback(Output(\"pie-graph\", \"figure\"), [Input(\"pie-radio\", \"value\")])\n",
    "def update_pie_chart(data):\n",
    "    fig = px.pie(sitedata, data)\n",
    "    return fig"
   ]
  },
  {
   "cell_type": "code",
   "execution_count": 20,
   "metadata": {},
   "outputs": [],
   "source": [
    "pie_radio = dcc.RadioItems(\n",
    "    id=\"pie-radio\",\n",
    "    options=[\n",
    "        {\"label\": \"Operating System\", \"value\": \"os\"},\n",
    "        {\"label\": \"Country\", \"value\": \"country\"},\n",
    "    ],\n",
    "    value=\"os\"\n",
    ")"
   ]
  },
  {
   "cell_type": "code",
   "execution_count": 21,
   "metadata": {},
   "outputs": [],
   "source": [
    "pie_controls = html.Div(\n",
    "    className=\"controler-row\",\n",
    "    children=[\n",
    "        pie_radio\n",
    "            ]\n",
    ")"
   ]
  },
  {
   "cell_type": "code",
   "execution_count": 22,
   "metadata": {},
   "outputs": [],
   "source": [
    "pie_graph = dcc.Graph(id=\"pie-graph\") #, className=\"graph\""
   ]
  },
  {
   "cell_type": "markdown",
   "metadata": {},
   "source": [
    "#### Second row"
   ]
  },
  {
   "cell_type": "code",
   "execution_count": 23,
   "metadata": {},
   "outputs": [],
   "source": [
    "second_row = html.Div(\n",
    "    className=\"graph-row\",\n",
    "    children=[\n",
    "        html.Div(\n",
    "            className=\"graph-container\",\n",
    "            children=[\n",
    "                funnel_title,\n",
    "                funnel_controls,\n",
    "                funnel_graph\n",
    "            ]\n",
    "        ),\n",
    "        html.Div(\n",
    "            className=\"graph-container\",\n",
    "            children=[\n",
    "                pie_title,\n",
    "                pie_controls,\n",
    "                pie_graph\n",
    "            ]\n",
    "        )\n",
    "    ]\n",
    ")"
   ]
  },
  {
   "cell_type": "markdown",
   "metadata": {},
   "source": [
    "#### Visits by date and time"
   ]
  },
  {
   "cell_type": "code",
   "execution_count": 24,
   "metadata": {},
   "outputs": [],
   "source": [
    "heatmap_title = html.P(className=\"chart-header\", children=\"Key activity periods\")"
   ]
  },
  {
   "cell_type": "code",
   "execution_count": 25,
   "metadata": {},
   "outputs": [
    {
     "data": {
      "text/html": [
       "<div>\n",
       "<style scoped>\n",
       "    .dataframe tbody tr th:only-of-type {\n",
       "        vertical-align: middle;\n",
       "    }\n",
       "\n",
       "    .dataframe tbody tr th {\n",
       "        vertical-align: top;\n",
       "    }\n",
       "\n",
       "    .dataframe thead th {\n",
       "        text-align: right;\n",
       "    }\n",
       "</style>\n",
       "<table border=\"1\" class=\"dataframe\">\n",
       "  <thead>\n",
       "    <tr style=\"text-align: right;\">\n",
       "      <th></th>\n",
       "      <th>weekday</th>\n",
       "      <th>time</th>\n",
       "      <th>counts</th>\n",
       "    </tr>\n",
       "  </thead>\n",
       "  <tbody>\n",
       "    <tr>\n",
       "      <th>0</th>\n",
       "      <td>Friday</td>\n",
       "      <td>00:00:00</td>\n",
       "      <td>44</td>\n",
       "    </tr>\n",
       "    <tr>\n",
       "      <th>1</th>\n",
       "      <td>Friday</td>\n",
       "      <td>01:00:00</td>\n",
       "      <td>48</td>\n",
       "    </tr>\n",
       "    <tr>\n",
       "      <th>2</th>\n",
       "      <td>Friday</td>\n",
       "      <td>02:00:00</td>\n",
       "      <td>53</td>\n",
       "    </tr>\n",
       "    <tr>\n",
       "      <th>3</th>\n",
       "      <td>Friday</td>\n",
       "      <td>03:00:00</td>\n",
       "      <td>45</td>\n",
       "    </tr>\n",
       "    <tr>\n",
       "      <th>4</th>\n",
       "      <td>Friday</td>\n",
       "      <td>04:00:00</td>\n",
       "      <td>55</td>\n",
       "    </tr>\n",
       "  </tbody>\n",
       "</table>\n",
       "</div>"
      ],
      "text/plain": [
       "  weekday      time  counts\n",
       "0  Friday  00:00:00      44\n",
       "1  Friday  01:00:00      48\n",
       "2  Friday  02:00:00      53\n",
       "3  Friday  03:00:00      45\n",
       "4  Friday  04:00:00      55"
      ]
     },
     "execution_count": 25,
     "metadata": {},
     "output_type": "execute_result"
    }
   ],
   "source": [
    "visits_day_time = sitedata.groupby([\"weekday\", \"time\"]).size().reset_index(name=\"counts\")\n",
    "visits_day_time.head()\n",
    "#visits_per_day.shape\n",
    "#type(visits_per_day)\n"
   ]
  },
  {
   "cell_type": "code",
   "execution_count": 26,
   "metadata": {},
   "outputs": [
    {
     "data": {
      "text/html": [
       "<div>\n",
       "<style scoped>\n",
       "    .dataframe tbody tr th:only-of-type {\n",
       "        vertical-align: middle;\n",
       "    }\n",
       "\n",
       "    .dataframe tbody tr th {\n",
       "        vertical-align: top;\n",
       "    }\n",
       "\n",
       "    .dataframe thead th {\n",
       "        text-align: right;\n",
       "    }\n",
       "</style>\n",
       "<table border=\"1\" class=\"dataframe\">\n",
       "  <thead>\n",
       "    <tr style=\"text-align: right;\">\n",
       "      <th>weekday</th>\n",
       "      <th>Friday</th>\n",
       "      <th>Monday</th>\n",
       "      <th>Saturday</th>\n",
       "      <th>Sunday</th>\n",
       "      <th>Thursday</th>\n",
       "      <th>Tuesday</th>\n",
       "      <th>Wednesday</th>\n",
       "    </tr>\n",
       "    <tr>\n",
       "      <th>time</th>\n",
       "      <th></th>\n",
       "      <th></th>\n",
       "      <th></th>\n",
       "      <th></th>\n",
       "      <th></th>\n",
       "      <th></th>\n",
       "      <th></th>\n",
       "    </tr>\n",
       "  </thead>\n",
       "  <tbody>\n",
       "    <tr>\n",
       "      <th>00:00:00</th>\n",
       "      <td>44.0</td>\n",
       "      <td>38.0</td>\n",
       "      <td>42.0</td>\n",
       "      <td>39.0</td>\n",
       "      <td>47.0</td>\n",
       "      <td>41.0</td>\n",
       "      <td>43.0</td>\n",
       "    </tr>\n",
       "    <tr>\n",
       "      <th>01:00:00</th>\n",
       "      <td>48.0</td>\n",
       "      <td>46.0</td>\n",
       "      <td>53.0</td>\n",
       "      <td>48.0</td>\n",
       "      <td>46.0</td>\n",
       "      <td>53.0</td>\n",
       "      <td>45.0</td>\n",
       "    </tr>\n",
       "    <tr>\n",
       "      <th>02:00:00</th>\n",
       "      <td>53.0</td>\n",
       "      <td>44.0</td>\n",
       "      <td>58.0</td>\n",
       "      <td>46.0</td>\n",
       "      <td>51.0</td>\n",
       "      <td>44.0</td>\n",
       "      <td>37.0</td>\n",
       "    </tr>\n",
       "    <tr>\n",
       "      <th>03:00:00</th>\n",
       "      <td>45.0</td>\n",
       "      <td>35.0</td>\n",
       "      <td>50.0</td>\n",
       "      <td>54.0</td>\n",
       "      <td>35.0</td>\n",
       "      <td>39.0</td>\n",
       "      <td>66.0</td>\n",
       "    </tr>\n",
       "    <tr>\n",
       "      <th>04:00:00</th>\n",
       "      <td>55.0</td>\n",
       "      <td>46.0</td>\n",
       "      <td>43.0</td>\n",
       "      <td>51.0</td>\n",
       "      <td>41.0</td>\n",
       "      <td>45.0</td>\n",
       "      <td>46.0</td>\n",
       "    </tr>\n",
       "  </tbody>\n",
       "</table>\n",
       "</div>"
      ],
      "text/plain": [
       "weekday   Friday  Monday  Saturday  Sunday  Thursday  Tuesday  Wednesday\n",
       "time                                                                    \n",
       "00:00:00    44.0    38.0      42.0    39.0      47.0     41.0       43.0\n",
       "01:00:00    48.0    46.0      53.0    48.0      46.0     53.0       45.0\n",
       "02:00:00    53.0    44.0      58.0    46.0      51.0     44.0       37.0\n",
       "03:00:00    45.0    35.0      50.0    54.0      35.0     39.0       66.0\n",
       "04:00:00    55.0    46.0      43.0    51.0      41.0     45.0       46.0"
      ]
     },
     "execution_count": 26,
     "metadata": {},
     "output_type": "execute_result"
    }
   ],
   "source": [
    "visits_day_time_piv = visits_day_time.pivot_table(values=\"counts\", index=\"time\", columns=\"weekday\")\n",
    "visits_day_time_piv.head()"
   ]
  },
  {
   "cell_type": "code",
   "execution_count": 27,
   "metadata": {},
   "outputs": [],
   "source": [
    "heatmap_figure = go.Figure(\n",
    "    data=go.Heatmap(\n",
    "        x=visits_day_time_piv.columns.tolist(),\n",
    "        y=visits_day_time_piv.index.tolist(),\n",
    "        z=visits_day_time_piv.values.tolist(),\n",
    "        autocolorscale=True,\n",
    "        xgap=4,\n",
    "        ygap=1\n",
    "    )\n",
    ")\n",
    "layout = heatmap_figure.layout.yaxis.update(autorange=\"reversed\",\n",
    "                                            tickvals=[0, 6, 12, 18], ticktext=[\"0 AM\", \"6 AM\", \"12 AM\", \"6 PM\"])"
   ]
  },
  {
   "cell_type": "code",
   "execution_count": 28,
   "metadata": {},
   "outputs": [],
   "source": [
    "heatmap_graph = dcc.Graph(figure=heatmap_figure, className=\"graph\")"
   ]
  },
  {
   "cell_type": "markdown",
   "metadata": {},
   "source": [
    "#### Distribution by country"
   ]
  },
  {
   "cell_type": "code",
   "execution_count": 29,
   "metadata": {},
   "outputs": [],
   "source": [
    "country_title = html.P(className=\"chart-header\", children=\"Visits by country\")"
   ]
  },
  {
   "cell_type": "code",
   "execution_count": 30,
   "metadata": {},
   "outputs": [],
   "source": [
    "country_figure = px.histogram(sitedata, x=\"country\", color=\"country\")\n",
    "layout = country_figure.layout.update(showlegend=False)"
   ]
  },
  {
   "cell_type": "code",
   "execution_count": 31,
   "metadata": {},
   "outputs": [],
   "source": [
    "country_graph = dcc.Graph(figure=country_figure, className=\"graph\")"
   ]
  },
  {
   "cell_type": "markdown",
   "metadata": {},
   "source": [
    "#### Third row"
   ]
  },
  {
   "cell_type": "code",
   "execution_count": 32,
   "metadata": {},
   "outputs": [],
   "source": [
    "third_row = html.Div(\n",
    "    className=\"graph-row\",\n",
    "    children=[\n",
    "        html.Div(\n",
    "            className=\"graph-container\",\n",
    "            children=[\n",
    "                heatmap_title,\n",
    "                heatmap_graph\n",
    "            ]\n",
    "        ),\n",
    "        html.Div(\n",
    "            className=\"graph-container\",\n",
    "            children=[\n",
    "                country_title,\n",
    "                country_graph\n",
    "            ]\n",
    "        )\n",
    "    ]\n",
    ")"
   ]
  },
  {
   "cell_type": "markdown",
   "metadata": {},
   "source": [
    "#### Create the dashboard"
   ]
  },
  {
   "cell_type": "code",
   "execution_count": 33,
   "metadata": {},
   "outputs": [],
   "source": [
    "app.layout = html.Div(\n",
    "    id=\"root\",\n",
    "    children=[\n",
    "        header,\n",
    "        first_row,\n",
    "        second_row,\n",
    "        third_row\n",
    "    ]\n",
    ")"
   ]
  },
  {
   "cell_type": "code",
   "execution_count": 34,
   "metadata": {},
   "outputs": [
    {
     "data": {
      "text/html": [
       "\n",
       "        <iframe\n",
       "            width=\"100%\"\n",
       "            height=\"650\"\n",
       "            src=\"http://127.0.0.1:8049/\"\n",
       "            frameborder=\"0\"\n",
       "            allowfullscreen\n",
       "            \n",
       "        ></iframe>\n",
       "        "
      ],
      "text/plain": [
       "<IPython.lib.display.IFrame at 0x22d43e6d640>"
      ]
     },
     "metadata": {},
     "output_type": "display_data"
    },
    {
     "name": "stdout",
     "output_type": "stream",
     "text": [
      "Dash app running on http://127.0.0.1:8049/\n"
     ]
    }
   ],
   "source": [
    "app.run_server(debug=True, mode=\"external\", port=8049) #mode=\"inline\""
   ]
  }
 ],
 "metadata": {
  "kernelspec": {
   "display_name": "venv",
   "language": "python",
   "name": "python3"
  },
  "language_info": {
   "codemirror_mode": {
    "name": "ipython",
    "version": 3
   },
   "file_extension": ".py",
   "mimetype": "text/x-python",
   "name": "python",
   "nbconvert_exporter": "python",
   "pygments_lexer": "ipython3",
   "version": "3.12.4"
  }
 },
 "nbformat": 4,
 "nbformat_minor": 2
}
