{
 "cells": [
  {
   "cell_type": "markdown",
   "metadata": {},
   "source": [
    "## Matplotlib - Image manipulation"
   ]
  },
  {
   "cell_type": "markdown",
   "metadata": {},
   "source": [
    "#### Udemy course:\n",
    "- [Data Visualization in Python (Mplib, Seaborn, Plotly, Dash)](https://www.udemy.com/course/data-visualization-in-python/)"
   ]
  },
  {
   "cell_type": "code",
   "execution_count": null,
   "metadata": {},
   "outputs": [],
   "source": [
    "import matplotlib.pyplot as plt\n",
    "import numpy as np\n",
    "\n",
    "from sklearn.datasets import load_sample_image"
   ]
  },
  {
   "cell_type": "markdown",
   "metadata": {},
   "source": [
    "### Image plot"
   ]
  },
  {
   "cell_type": "code",
   "execution_count": null,
   "metadata": {},
   "outputs": [],
   "source": [
    "flower = load_sample_image(\"flower.jpg\")\n",
    "#flower"
   ]
  },
  {
   "cell_type": "code",
   "execution_count": null,
   "metadata": {},
   "outputs": [],
   "source": [
    "plt.figure(figsize=(12, 9))\n",
    "plt.imshow(flower)\n",
    "plt.axis(\"off\")"
   ]
  },
  {
   "cell_type": "markdown",
   "metadata": {},
   "source": [
    "### Grayscale"
   ]
  },
  {
   "cell_type": "code",
   "execution_count": null,
   "metadata": {},
   "outputs": [],
   "source": [
    "rgb_weights = [.2989, .5870, .114]\n",
    "grayscale_flower = np.dot(flower, rgb_weights)\n",
    "\n",
    "plt.figure(figsize=(12, 9))\n",
    "plt.imshow(grayscale_flower, cmap=\"gray\")\n",
    "plt.axis(\"off\")\n",
    "plt.show()"
   ]
  },
  {
   "cell_type": "markdown",
   "metadata": {},
   "source": [
    "### Colormaps"
   ]
  },
  {
   "cell_type": "code",
   "execution_count": null,
   "metadata": {},
   "outputs": [],
   "source": [
    "plt.colormaps()"
   ]
  },
  {
   "cell_type": "code",
   "execution_count": null,
   "metadata": {},
   "outputs": [],
   "source": [
    "colormaps = [\"PuBu_r\", \"gist_heat\", \"plasma\", \"coolwarm\", \"inferno\", \"RdPu\"]\n",
    "\n",
    "fig, axes = plt.subplots(3, 2, figsize=(12, 12))\n",
    "\n",
    "for i, cmap in enumerate(colormaps):\n",
    "    ax = axes[int(i/2), i%2]\n",
    "    img = ax.imshow(grayscale_flower, cmap=cmap)\n",
    "    ax.axis(\"off\")\n",
    "    ax.set_title(cmap, size=16)\n",
    "    cbar = fig.colorbar(img, ax=ax)\n",
    "    cbar.set_ticks([])\n",
    "\n",
    "fig.suptitle(\"Colormaps\", size=32)\n",
    "fig.tight_layout()\n",
    "fig.subplots_adjust(top=0.9)"
   ]
  },
  {
   "cell_type": "markdown",
   "metadata": {},
   "source": [
    "### Creating complex layouts using Gridspec"
   ]
  },
  {
   "cell_type": "code",
   "execution_count": null,
   "metadata": {},
   "outputs": [],
   "source": [
    "def format_axes(fig):\n",
    "    for i, ax in enumerate(fig.axes):\n",
    "        ax.tick_params(bottom=False, left=False,\n",
    "                       labelbottom=False, labelleft=False)\n",
    "        ax.text(.5, .5, \"Ax_%d\" % (i+1), va=\"center\", ha=\"center\")\n"
   ]
  },
  {
   "cell_type": "code",
   "execution_count": null,
   "metadata": {},
   "outputs": [],
   "source": [
    "fig = plt.figure()\n",
    "\n",
    "ax = plt.subplot2grid((3, 4), (0, 0), 1, 4)\n",
    "ax = plt.subplot2grid((3, 4), (1, 0), 1, 2)\n",
    "ax = plt.subplot2grid((3, 4), (1, 2), 1, 1)\n",
    "ax = plt.subplot2grid((3, 4), (1, 3), 1, 1)\n",
    "ax = plt.subplot2grid((3, 4), (2, 0), 1, 1)\n",
    "ax = plt.subplot2grid((3, 4), (2, 1), 1, 3)\n",
    "\n",
    "fig.suptitle(\"Grid\")\n",
    "format_axes(fig)\n",
    "\n",
    "fig.subplots_adjust(top=0.9)"
   ]
  },
  {
   "cell_type": "markdown",
   "metadata": {},
   "source": [
    "### Channel histogram"
   ]
  },
  {
   "cell_type": "code",
   "execution_count": null,
   "metadata": {},
   "outputs": [],
   "source": [
    "from matplotlib.gridspec import GridSpec"
   ]
  },
  {
   "cell_type": "code",
   "execution_count": null,
   "metadata": {},
   "outputs": [],
   "source": [
    "def format_axes(fig):\n",
    "    for i, ax in enumerate(fig.axes):\n",
    "        ax.tick_params(bottom=False, left=False,\n",
    "                       labelbottom=False, labelleft=False)"
   ]
  },
  {
   "cell_type": "code",
   "execution_count": null,
   "metadata": {},
   "outputs": [],
   "source": [
    "fig = plt.figure(figsize=(12, 8))\n",
    "gs = GridSpec(2, 3, figure=fig)\n",
    "\n",
    "ax1 = fig.add_subplot(gs[0, :])\n",
    "ax2 = fig.add_subplot(gs[1, 0])\n",
    "ax3 = fig.add_subplot(gs[1, 1])\n",
    "ax4 = fig.add_subplot(gs[1, 2])\n",
    "\n",
    "ax1.imshow(flower)\n",
    "ax2.hist(flower[..., 0].flatten(), alpha= .3, color=\"r\", edgecolor=\"r\", linewidth=2)\n",
    "ax3.hist(flower[..., 1].flatten(), alpha= .3, color=\"g\", edgecolor=\"g\", linewidth=2)\n",
    "ax4.hist(flower[..., 2].flatten(), alpha= .3, color=\"b\", edgecolor=\"b\", linewidth=2)\n",
    "\n",
    "fig.suptitle(\"Color profile\", size=24)\n",
    "plt.tight_layout()\n",
    "plt.subplots_adjust(top=.9)\n",
    "format_axes(fig)"
   ]
  },
  {
   "cell_type": "markdown",
   "metadata": {},
   "source": [
    "### Decreasing image resolution"
   ]
  },
  {
   "cell_type": "code",
   "execution_count": null,
   "metadata": {},
   "outputs": [],
   "source": [
    "loss_ratio = 10\n",
    "low_res = flower[::loss_ratio, ::loss_ratio]\n",
    "plt.imshow(low_res)"
   ]
  },
  {
   "cell_type": "markdown",
   "metadata": {},
   "source": [
    "### Increasing image resolution\n",
    "\n",
    "#### Nearest interpolation"
   ]
  },
  {
   "cell_type": "code",
   "execution_count": null,
   "metadata": {},
   "outputs": [],
   "source": [
    "plt.imshow(low_res, interpolation=\"hamming\")"
   ]
  },
  {
   "cell_type": "markdown",
   "metadata": {},
   "source": [
    "#### Bicubic interpolation"
   ]
  },
  {
   "cell_type": "code",
   "execution_count": null,
   "metadata": {},
   "outputs": [],
   "source": [
    "plt.imshow(low_res, interpolation=\"bicubic\")"
   ]
  },
  {
   "cell_type": "markdown",
   "metadata": {},
   "source": [
    "### Saving figure as image files"
   ]
  },
  {
   "cell_type": "code",
   "execution_count": null,
   "metadata": {},
   "outputs": [],
   "source": [
    "plt.savefig(\"./img/low-res_flower.png\")"
   ]
  }
 ],
 "metadata": {
  "kernelspec": {
   "display_name": "base",
   "language": "python",
   "name": "python3"
  },
  "language_info": {
   "codemirror_mode": {
    "name": "ipython",
    "version": 3
   },
   "file_extension": ".py",
   "mimetype": "text/x-python",
   "name": "python",
   "nbconvert_exporter": "python",
   "pygments_lexer": "ipython3",
   "version": "3.11.7"
  }
 },
 "nbformat": 4,
 "nbformat_minor": 2
}
