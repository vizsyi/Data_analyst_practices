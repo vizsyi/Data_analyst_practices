{
 "cells": [
  {
   "cell_type": "markdown",
   "metadata": {},
   "source": [
    "## Data explorations with Plotly"
   ]
  },
  {
   "cell_type": "markdown",
   "metadata": {},
   "source": [
    "#### Udemy course:\n",
    "- [Data Visualization in Python (Mplib, Seaborn, Plotly, Dash)](https://www.udemy.com/course/data-visualization-in-python/)"
   ]
  },
  {
   "cell_type": "code",
   "execution_count": 1,
   "metadata": {},
   "outputs": [],
   "source": [
    "import plotly.express as px\n",
    "import seaborn as sns\n",
    "#import pandas as pd"
   ]
  },
  {
   "cell_type": "code",
   "execution_count": 20,
   "metadata": {},
   "outputs": [],
   "source": [
    "#import plotly\n",
    "#plotly.__version__\n",
    "#'5.9.0'"
   ]
  },
  {
   "cell_type": "markdown",
   "metadata": {},
   "source": [
    "## FMRI dataset"
   ]
  },
  {
   "cell_type": "code",
   "execution_count": 3,
   "metadata": {},
   "outputs": [
    {
     "data": {
      "text/html": [
       "<div>\n",
       "<style scoped>\n",
       "    .dataframe tbody tr th:only-of-type {\n",
       "        vertical-align: middle;\n",
       "    }\n",
       "\n",
       "    .dataframe tbody tr th {\n",
       "        vertical-align: top;\n",
       "    }\n",
       "\n",
       "    .dataframe thead th {\n",
       "        text-align: right;\n",
       "    }\n",
       "</style>\n",
       "<table border=\"1\" class=\"dataframe\">\n",
       "  <thead>\n",
       "    <tr style=\"text-align: right;\">\n",
       "      <th></th>\n",
       "      <th>subject</th>\n",
       "      <th>timepoint</th>\n",
       "      <th>event</th>\n",
       "      <th>region</th>\n",
       "      <th>signal</th>\n",
       "    </tr>\n",
       "  </thead>\n",
       "  <tbody>\n",
       "    <tr>\n",
       "      <th>0</th>\n",
       "      <td>s13</td>\n",
       "      <td>18</td>\n",
       "      <td>stim</td>\n",
       "      <td>parietal</td>\n",
       "      <td>-0.017552</td>\n",
       "    </tr>\n",
       "    <tr>\n",
       "      <th>1</th>\n",
       "      <td>s5</td>\n",
       "      <td>14</td>\n",
       "      <td>stim</td>\n",
       "      <td>parietal</td>\n",
       "      <td>-0.080883</td>\n",
       "    </tr>\n",
       "    <tr>\n",
       "      <th>2</th>\n",
       "      <td>s12</td>\n",
       "      <td>18</td>\n",
       "      <td>stim</td>\n",
       "      <td>parietal</td>\n",
       "      <td>-0.081033</td>\n",
       "    </tr>\n",
       "    <tr>\n",
       "      <th>3</th>\n",
       "      <td>s11</td>\n",
       "      <td>18</td>\n",
       "      <td>stim</td>\n",
       "      <td>parietal</td>\n",
       "      <td>-0.046134</td>\n",
       "    </tr>\n",
       "    <tr>\n",
       "      <th>4</th>\n",
       "      <td>s10</td>\n",
       "      <td>18</td>\n",
       "      <td>stim</td>\n",
       "      <td>parietal</td>\n",
       "      <td>-0.037970</td>\n",
       "    </tr>\n",
       "    <tr>\n",
       "      <th>5</th>\n",
       "      <td>s9</td>\n",
       "      <td>18</td>\n",
       "      <td>stim</td>\n",
       "      <td>parietal</td>\n",
       "      <td>-0.103513</td>\n",
       "    </tr>\n",
       "  </tbody>\n",
       "</table>\n",
       "</div>"
      ],
      "text/plain": [
       "  subject  timepoint event    region    signal\n",
       "0     s13         18  stim  parietal -0.017552\n",
       "1      s5         14  stim  parietal -0.080883\n",
       "2     s12         18  stim  parietal -0.081033\n",
       "3     s11         18  stim  parietal -0.046134\n",
       "4     s10         18  stim  parietal -0.037970\n",
       "5      s9         18  stim  parietal -0.103513"
      ]
     },
     "execution_count": 3,
     "metadata": {},
     "output_type": "execute_result"
    }
   ],
   "source": [
    "fmri = sns.load_dataset(\"fmri\")\n",
    "fmri.head(6)"
   ]
  },
  {
   "cell_type": "code",
   "execution_count": 7,
   "metadata": {},
   "outputs": [
    {
     "data": {
      "text/plain": [
       "array(['parietal', 'frontal'], dtype=object)"
      ]
     },
     "execution_count": 7,
     "metadata": {},
     "output_type": "execute_result"
    }
   ],
   "source": [
    "fmri.region.unique()"
   ]
  },
  {
   "cell_type": "code",
   "execution_count": 10,
   "metadata": {},
   "outputs": [],
   "source": [
    "fmri.sort_values(by=[\"subject\", \"event\", \"region\", \"timepoint\"], inplace=True)"
   ]
  },
  {
   "cell_type": "code",
   "execution_count": 17,
   "metadata": {},
   "outputs": [
    {
     "data": {
      "application/vnd.plotly.v1+json": {
       "config": {
        "plotlyServerURL": "https://plot.ly"
       },
       "data": [
        {
         "hovertemplate": "<b>%{hovertext}</b><br><br>subject=s0<br>region=frontal<br>event=cue<br>timepoint=%{x}<br>signal=%{y}<extra></extra>",
         "hovertext": [
          "s0",
          "s0",
          "s0",
          "s0",
          "s0",
          "s0",
          "s0",
          "s0",
          "s0",
          "s0",
          "s0",
          "s0",
          "s0",
          "s0",
          "s0",
          "s0",
          "s0",
          "s0",
          "s0"
         ],
         "legendgroup": "s0",
         "line": {
          "color": "#636efa",
          "dash": "solid"
         },
         "marker": {
          "symbol": "circle"
         },
         "mode": "lines",
         "name": "s0",
         "showlegend": true,
         "type": "scattergl",
         "x": [
          0,
          1,
          2,
          3,
          4,
          5,
          6,
          7,
          8,
          9,
          10,
          11,
          12,
          13,
          14,
          15,
          16,
          17,
          18
         ],
         "xaxis": "x3",
         "y": [
          0.00776611182029,
          0.0164397984053,
          0.0242960024654,
          0.0478587888422,
          0.0697752064117,
          0.0670863998711999,
          0.050775750646,
          0.0345972189478,
          0.0181654208514,
          0.0100270560903,
          0.0109838741313,
          0.00746043079225,
          -0.00712513368928,
          -0.0217289851851,
          -0.0240757144387,
          -0.019636632338,
          -0.0171919266504,
          -0.0103752152963,
          -0.00349674253765
         ],
         "yaxis": "y3"
        },
        {
         "hovertemplate": "<b>%{hovertext}</b><br><br>subject=s0<br>region=frontal<br>event=stim<br>timepoint=%{x}<br>signal=%{y}<extra></extra>",
         "hovertext": [
          "s0",
          "s0",
          "s0",
          "s0",
          "s0",
          "s0",
          "s0",
          "s0",
          "s0",
          "s0",
          "s0",
          "s0",
          "s0",
          "s0",
          "s0",
          "s0",
          "s0",
          "s0",
          "s0"
         ],
         "legendgroup": "s0",
         "line": {
          "color": "#636efa",
          "dash": "solid"
         },
         "marker": {
          "symbol": "circle"
         },
         "mode": "lines",
         "name": "s0",
         "showlegend": false,
         "type": "scattergl",
         "x": [
          0,
          1,
          2,
          3,
          4,
          5,
          6,
          7,
          8,
          9,
          10,
          11,
          12,
          13,
          14,
          15,
          16,
          17,
          18
         ],
         "xaxis": "x4",
         "y": [
          -0.0214524594615,
          -0.0210536291102,
          -0.00903763731098,
          0.026726699906,
          0.0705575292618,
          0.0853869967994,
          0.0594361419351999,
          0.00799326090472,
          -0.0427929064619,
          -0.0701018031155,
          -0.0604329894039,
          -0.0261040613509,
          0.00306715009204,
          0.00332982586024,
          -0.00269970487539,
          -0.0119660179605,
          -0.0213990846195,
          -0.0393222656115,
          -0.0484297385322
         ],
         "yaxis": "y4"
        },
        {
         "hovertemplate": "<b>%{hovertext}</b><br><br>subject=s0<br>region=parietal<br>event=cue<br>timepoint=%{x}<br>signal=%{y}<extra></extra>",
         "hovertext": [
          "s0",
          "s0",
          "s0",
          "s0",
          "s0",
          "s0",
          "s0",
          "s0",
          "s0",
          "s0",
          "s0",
          "s0",
          "s0",
          "s0",
          "s0",
          "s0",
          "s0",
          "s0",
          "s0"
         ],
         "legendgroup": "s0",
         "line": {
          "color": "#636efa",
          "dash": "solid"
         },
         "marker": {
          "symbol": "circle"
         },
         "mode": "lines",
         "name": "s0",
         "showlegend": false,
         "type": "scattergl",
         "x": [
          0,
          1,
          2,
          3,
          4,
          5,
          6,
          7,
          8,
          9,
          10,
          11,
          12,
          13,
          14,
          15,
          16,
          17,
          18
         ],
         "xaxis": "x",
         "y": [
          -0.00689923478092,
          0.000300322694975,
          0.0332195543269999,
          0.0850401087826,
          0.11532113825,
          0.102043892318,
          0.0637987867698,
          0.0253888830341,
          -0.00273843592227,
          -0.0200436532949,
          -0.0326988324319,
          -0.0390019792127,
          -0.0369433541353,
          -0.035779817917,
          -0.0310804448803,
          -0.0256137872876,
          -0.0261216685939,
          -0.0258956572719,
          -0.0146635254755
         ],
         "yaxis": "y"
        },
        {
         "hovertemplate": "<b>%{hovertext}</b><br><br>subject=s0<br>region=parietal<br>event=stim<br>timepoint=%{x}<br>signal=%{y}<extra></extra>",
         "hovertext": [
          "s0",
          "s0",
          "s0",
          "s0",
          "s0",
          "s0",
          "s0",
          "s0",
          "s0",
          "s0",
          "s0",
          "s0",
          "s0",
          "s0",
          "s0",
          "s0",
          "s0",
          "s0",
          "s0"
         ],
         "legendgroup": "s0",
         "line": {
          "color": "#636efa",
          "dash": "solid"
         },
         "marker": {
          "symbol": "circle"
         },
         "mode": "lines",
         "name": "s0",
         "showlegend": false,
         "type": "scattergl",
         "x": [
          0,
          1,
          2,
          3,
          4,
          5,
          6,
          7,
          8,
          9,
          10,
          11,
          12,
          13,
          14,
          15,
          16,
          17,
          18
         ],
         "xaxis": "x2",
         "y": [
          -0.0393266005945,
          -0.0357352139038,
          0.00964152991767,
          0.0863989229388,
          0.154057883361,
          0.175531697606,
          0.143093371757,
          0.0743427528433,
          0.00510065001767,
          -0.0355869971125,
          -0.0479149730158,
          -0.0514694724514,
          -0.0529114831434,
          -0.0552636807276999,
          -0.0524187515342,
          -0.0530786647723,
          -0.0577150668782,
          -0.0713003853978,
          -0.0755699759477
         ],
         "yaxis": "y2"
        },
        {
         "hovertemplate": "<b>%{hovertext}</b><br><br>subject=s1<br>region=frontal<br>event=cue<br>timepoint=%{x}<br>signal=%{y}<extra></extra>",
         "hovertext": [
          "s1",
          "s1",
          "s1",
          "s1",
          "s1",
          "s1",
          "s1",
          "s1",
          "s1",
          "s1",
          "s1",
          "s1",
          "s1",
          "s1",
          "s1",
          "s1",
          "s1",
          "s1",
          "s1"
         ],
         "legendgroup": "s1",
         "line": {
          "color": "#EF553B",
          "dash": "solid"
         },
         "marker": {
          "symbol": "circle"
         },
         "mode": "lines",
         "name": "s1",
         "showlegend": true,
         "type": "scattergl",
         "x": [
          0,
          1,
          2,
          3,
          4,
          5,
          6,
          7,
          8,
          9,
          10,
          11,
          12,
          13,
          14,
          15,
          16,
          17,
          18
         ],
         "xaxis": "x3",
         "y": [
          -0.040937102696,
          -0.0455804699351,
          -0.0270658901671,
          0.0377499519166,
          0.112545102272,
          0.128592379736,
          0.0588314466764,
          -0.0538251940234,
          -0.136059024168,
          -0.146047994493,
          -0.0979839589249,
          -0.0327696443626,
          0.0122552469576,
          0.0283786550184,
          0.0202417407157,
          0.0125941591083,
          0.00457908374535,
          -0.000438738748975,
          -0.00153369260139
         ],
         "yaxis": "y3"
        },
        {
         "hovertemplate": "<b>%{hovertext}</b><br><br>subject=s1<br>region=frontal<br>event=stim<br>timepoint=%{x}<br>signal=%{y}<extra></extra>",
         "hovertext": [
          "s1",
          "s1",
          "s1",
          "s1",
          "s1",
          "s1",
          "s1",
          "s1",
          "s1",
          "s1",
          "s1",
          "s1",
          "s1",
          "s1",
          "s1",
          "s1",
          "s1",
          "s1",
          "s1"
         ],
         "legendgroup": "s1",
         "line": {
          "color": "#EF553B",
          "dash": "solid"
         },
         "marker": {
          "symbol": "circle"
         },
         "mode": "lines",
         "name": "s1",
         "showlegend": false,
         "type": "scattergl",
         "x": [
          0,
          1,
          2,
          3,
          4,
          5,
          6,
          7,
          8,
          9,
          10,
          11,
          12,
          13,
          14,
          15,
          16,
          17,
          18
         ],
         "xaxis": "x4",
         "y": [
          -0.0460485902002,
          -0.0602726368389,
          -0.0375198109288,
          0.0575983739279,
          0.202122689315,
          0.31585962119,
          0.321334601283,
          0.204943330683,
          0.0366848710068,
          -0.0927676486495,
          -0.14330215024,
          -0.133646550056,
          -0.093410707637,
          -0.0527141572176,
          -0.0210033263802,
          -0.00513411267168,
          -0.0027187873155,
          -0.0156858610107,
          -0.0358524284888
         ],
         "yaxis": "y4"
        },
        {
         "hovertemplate": "<b>%{hovertext}</b><br><br>subject=s1<br>region=parietal<br>event=cue<br>timepoint=%{x}<br>signal=%{y}<extra></extra>",
         "hovertext": [
          "s1",
          "s1",
          "s1",
          "s1",
          "s1",
          "s1",
          "s1",
          "s1",
          "s1",
          "s1",
          "s1",
          "s1",
          "s1",
          "s1",
          "s1",
          "s1",
          "s1",
          "s1",
          "s1"
         ],
         "legendgroup": "s1",
         "line": {
          "color": "#EF553B",
          "dash": "solid"
         },
         "marker": {
          "symbol": "circle"
         },
         "mode": "lines",
         "name": "s1",
         "showlegend": false,
         "type": "scattergl",
         "x": [
          0,
          1,
          2,
          3,
          4,
          5,
          6,
          7,
          8,
          9,
          10,
          11,
          12,
          13,
          14,
          15,
          16,
          17,
          18
         ],
         "xaxis": "x",
         "y": [
          -0.0577055085078,
          -0.0709318988341,
          -0.0522129347816,
          0.0330026478324,
          0.14924178269,
          0.215735229271,
          0.181532924007,
          0.0656444201985999,
          -0.0657555651727,
          -0.152929131484,
          -0.17645250841,
          -0.149785192661,
          -0.103784572155,
          -0.0527102127415,
          -0.0190197680179,
          0.00323779436699,
          -0.000349269380833,
          -0.0104811213701,
          -0.0263701313418
         ],
         "yaxis": "y"
        },
        {
         "hovertemplate": "<b>%{hovertext}</b><br><br>subject=s1<br>region=parietal<br>event=stim<br>timepoint=%{x}<br>signal=%{y}<extra></extra>",
         "hovertext": [
          "s1",
          "s1",
          "s1",
          "s1",
          "s1",
          "s1",
          "s1",
          "s1",
          "s1",
          "s1",
          "s1",
          "s1",
          "s1",
          "s1",
          "s1",
          "s1",
          "s1",
          "s1",
          "s1"
         ],
         "legendgroup": "s1",
         "line": {
          "color": "#EF553B",
          "dash": "solid"
         },
         "marker": {
          "symbol": "circle"
         },
         "mode": "lines",
         "name": "s1",
         "showlegend": false,
         "type": "scattergl",
         "x": [
          0,
          1,
          2,
          3,
          4,
          5,
          6,
          7,
          8,
          9,
          10,
          11,
          12,
          13,
          14,
          15,
          16,
          17,
          18
         ],
         "xaxis": "x2",
         "y": [
          -0.064454004861,
          -0.0744017875989,
          -0.0351533913543,
          0.0922207832283,
          0.287293980823,
          0.476055495497,
          0.564984721448,
          0.494786865197,
          0.29463915742,
          0.0578917638804,
          -0.1330409933269999,
          -0.238473764277,
          -0.25548585958,
          -0.224351323052,
          -0.169311681158,
          -0.110742321796,
          -0.0613560305246,
          -0.0380205789406,
          -0.0466590461638
         ],
         "yaxis": "y2"
        },
        {
         "hovertemplate": "<b>%{hovertext}</b><br><br>subject=s10<br>region=frontal<br>event=cue<br>timepoint=%{x}<br>signal=%{y}<extra></extra>",
         "hovertext": [
          "s10",
          "s10",
          "s10",
          "s10",
          "s10",
          "s10",
          "s10",
          "s10",
          "s10",
          "s10",
          "s10",
          "s10",
          "s10",
          "s10",
          "s10",
          "s10",
          "s10",
          "s10",
          "s10"
         ],
         "legendgroup": "s10",
         "line": {
          "color": "#00cc96",
          "dash": "solid"
         },
         "marker": {
          "symbol": "circle"
         },
         "mode": "lines",
         "name": "s10",
         "showlegend": true,
         "type": "scattergl",
         "x": [
          0,
          1,
          2,
          3,
          4,
          5,
          6,
          7,
          8,
          9,
          10,
          11,
          12,
          13,
          14,
          15,
          16,
          17,
          18
         ],
         "xaxis": "x3",
         "y": [
          -0.0124119927481,
          -0.0225271650437,
          -0.0198766661917,
          -0.0123926975795,
          -0.0041326642896,
          -0.00896435593861,
          -0.0274808039741,
          -0.0470836486117,
          -0.0525045392834,
          -0.0393027138944,
          -0.0161241042357,
          -0.00150336559644,
          0.00571118118196,
          0.00439974274153,
          0.0071673404014099,
          0.0112412835158,
          0.0101631929178,
          0.0052437574042299,
          -0.00325075890227
         ],
         "yaxis": "y3"
        },
        {
         "hovertemplate": "<b>%{hovertext}</b><br><br>subject=s10<br>region=frontal<br>event=stim<br>timepoint=%{x}<br>signal=%{y}<extra></extra>",
         "hovertext": [
          "s10",
          "s10",
          "s10",
          "s10",
          "s10",
          "s10",
          "s10",
          "s10",
          "s10",
          "s10",
          "s10",
          "s10",
          "s10",
          "s10",
          "s10",
          "s10",
          "s10",
          "s10",
          "s10"
         ],
         "legendgroup": "s10",
         "line": {
          "color": "#00cc96",
          "dash": "solid"
         },
         "marker": {
          "symbol": "circle"
         },
         "mode": "lines",
         "name": "s10",
         "showlegend": false,
         "type": "scattergl",
         "x": [
          0,
          1,
          2,
          3,
          4,
          5,
          6,
          7,
          8,
          9,
          10,
          11,
          12,
          13,
          14,
          15,
          16,
          17,
          18
         ],
         "xaxis": "x4",
         "y": [
          0.0743989963727,
          0.0635584004637,
          0.0308917221226,
          0.00959870090631,
          0.0300440528842,
          0.0727310324172,
          0.0922449532541,
          0.071110215695,
          0.0282991931797,
          -0.00273381445136,
          -0.0153564272798,
          -0.0201101808428,
          -0.019424671253,
          -0.0137401688662,
          -0.0071620233331,
          -0.00411803725385,
          -0.00305701500629,
          -0.00457116262107,
          -0.00892838562082
         ],
         "yaxis": "y4"
        },
        {
         "hovertemplate": "<b>%{hovertext}</b><br><br>subject=s10<br>region=parietal<br>event=cue<br>timepoint=%{x}<br>signal=%{y}<extra></extra>",
         "hovertext": [
          "s10",
          "s10",
          "s10",
          "s10",
          "s10",
          "s10",
          "s10",
          "s10",
          "s10",
          "s10",
          "s10",
          "s10",
          "s10",
          "s10",
          "s10",
          "s10",
          "s10",
          "s10",
          "s10"
         ],
         "legendgroup": "s10",
         "line": {
          "color": "#00cc96",
          "dash": "solid"
         },
         "marker": {
          "symbol": "circle"
         },
         "mode": "lines",
         "name": "s10",
         "showlegend": false,
         "type": "scattergl",
         "x": [
          0,
          1,
          2,
          3,
          4,
          5,
          6,
          7,
          8,
          9,
          10,
          11,
          12,
          13,
          14,
          15,
          16,
          17,
          18
         ],
         "xaxis": "x",
         "y": [
          -0.0314295520884,
          -0.0387324510709,
          -0.0261177119822,
          0.00206830058274,
          0.0341087612233,
          0.0378916680876,
          0.00620823813521,
          -0.039477242766,
          -0.0661645494002,
          -0.0677246043773,
          -0.0560472602531,
          -0.0454599782412,
          -0.0309973342255,
          -0.0215872192407,
          -0.01076149627,
          -0.0088870112270499,
          -0.0169822376089,
          -0.0312467589892,
          -0.0435774985648
         ],
         "yaxis": "y"
        },
        {
         "hovertemplate": "<b>%{hovertext}</b><br><br>subject=s10<br>region=parietal<br>event=stim<br>timepoint=%{x}<br>signal=%{y}<extra></extra>",
         "hovertext": [
          "s10",
          "s10",
          "s10",
          "s10",
          "s10",
          "s10",
          "s10",
          "s10",
          "s10",
          "s10",
          "s10",
          "s10",
          "s10",
          "s10",
          "s10",
          "s10",
          "s10",
          "s10",
          "s10"
         ],
         "legendgroup": "s10",
         "line": {
          "color": "#00cc96",
          "dash": "solid"
         },
         "marker": {
          "symbol": "circle"
         },
         "mode": "lines",
         "name": "s10",
         "showlegend": false,
         "type": "scattergl",
         "x": [
          0,
          1,
          2,
          3,
          4,
          5,
          6,
          7,
          8,
          9,
          10,
          11,
          12,
          13,
          14,
          15,
          16,
          17,
          18
         ],
         "xaxis": "x2",
         "y": [
          0.0526185471798,
          0.0298221982646,
          0.0117514891824,
          0.0458383526337,
          0.143985648987,
          0.253871308297,
          0.296960232897,
          0.245641759705,
          0.136290736966,
          0.0310064467776,
          -0.0417023096317,
          -0.0780802842964,
          -0.0872324138456999,
          -0.0738923487842,
          -0.0522877238724,
          -0.0288093048081,
          -0.0135663176316,
          -0.016846516627,
          -0.0379702032642
         ],
         "yaxis": "y2"
        },
        {
         "hovertemplate": "<b>%{hovertext}</b><br><br>subject=s11<br>region=frontal<br>event=cue<br>timepoint=%{x}<br>signal=%{y}<extra></extra>",
         "hovertext": [
          "s11",
          "s11",
          "s11",
          "s11",
          "s11",
          "s11",
          "s11",
          "s11",
          "s11",
          "s11",
          "s11",
          "s11",
          "s11",
          "s11",
          "s11",
          "s11",
          "s11",
          "s11",
          "s11"
         ],
         "legendgroup": "s11",
         "line": {
          "color": "#ab63fa",
          "dash": "solid"
         },
         "marker": {
          "symbol": "circle"
         },
         "mode": "lines",
         "name": "s11",
         "showlegend": true,
         "type": "scattergl",
         "x": [
          0,
          1,
          2,
          3,
          4,
          5,
          6,
          7,
          8,
          9,
          10,
          11,
          12,
          13,
          14,
          15,
          16,
          17,
          18
         ],
         "xaxis": "x3",
         "y": [
          -0.0500327450639,
          -0.05881368166,
          -0.0567680902434,
          -0.0368399595269,
          -0.00453321687892,
          0.0153010353095,
          0.00573408069619,
          -0.0253667098182,
          -0.0449253297058,
          -0.0361396960515,
          -0.00413791137607,
          0.0305283964358,
          0.0557662167698,
          0.0595103573341,
          0.0501327381579,
          0.0471023070477,
          0.0571053957891999,
          0.0737572737005,
          0.0905198558908
         ],
         "yaxis": "y3"
        },
        {
         "hovertemplate": "<b>%{hovertext}</b><br><br>subject=s11<br>region=frontal<br>event=stim<br>timepoint=%{x}<br>signal=%{y}<extra></extra>",
         "hovertext": [
          "s11",
          "s11",
          "s11",
          "s11",
          "s11",
          "s11",
          "s11",
          "s11",
          "s11",
          "s11",
          "s11",
          "s11",
          "s11",
          "s11",
          "s11",
          "s11",
          "s11",
          "s11",
          "s11"
         ],
         "legendgroup": "s11",
         "line": {
          "color": "#ab63fa",
          "dash": "solid"
         },
         "marker": {
          "symbol": "circle"
         },
         "mode": "lines",
         "name": "s11",
         "showlegend": false,
         "type": "scattergl",
         "x": [
          0,
          1,
          2,
          3,
          4,
          5,
          6,
          7,
          8,
          9,
          10,
          11,
          12,
          13,
          14,
          15,
          16,
          17,
          18
         ],
         "xaxis": "x4",
         "y": [
          -0.028422663656,
          -0.0462346147549,
          -0.0551536585187,
          -0.0149878467224,
          0.075957371738,
          0.160734983232,
          0.176109444388,
          0.100876282424,
          -0.0173469329493,
          -0.114304263592,
          -0.159771972051,
          -0.15456374771,
          -0.115368780071,
          -0.0652446872829,
          -0.0295578107635,
          -0.0169066262597,
          -0.0207952752934,
          -0.025345201288,
          -0.0307844658374
         ],
         "yaxis": "y4"
        },
        {
         "hovertemplate": "<b>%{hovertext}</b><br><br>subject=s11<br>region=parietal<br>event=cue<br>timepoint=%{x}<br>signal=%{y}<extra></extra>",
         "hovertext": [
          "s11",
          "s11",
          "s11",
          "s11",
          "s11",
          "s11",
          "s11",
          "s11",
          "s11",
          "s11",
          "s11",
          "s11",
          "s11",
          "s11",
          "s11",
          "s11",
          "s11",
          "s11",
          "s11"
         ],
         "legendgroup": "s11",
         "line": {
          "color": "#ab63fa",
          "dash": "solid"
         },
         "marker": {
          "symbol": "circle"
         },
         "mode": "lines",
         "name": "s11",
         "showlegend": false,
         "type": "scattergl",
         "x": [
          0,
          1,
          2,
          3,
          4,
          5,
          6,
          7,
          8,
          9,
          10,
          11,
          12,
          13,
          14,
          15,
          16,
          17,
          18
         ],
         "xaxis": "x",
         "y": [
          -0.0518957509165,
          -0.0589195061288,
          -0.0548464730976,
          -0.0321585389528,
          0.00801326082815,
          0.0426131300884,
          0.0539885565071999,
          0.0368924318331,
          0.0054701576296999,
          -0.0267444028202,
          -0.042917220338,
          -0.0344473228553,
          -0.00237654002501,
          0.0281606901408,
          0.0413420912135,
          0.0374345270052,
          0.0293067638073,
          0.0318670051798,
          0.0431949665488
         ],
         "yaxis": "y"
        },
        {
         "hovertemplate": "<b>%{hovertext}</b><br><br>subject=s11<br>region=parietal<br>event=stim<br>timepoint=%{x}<br>signal=%{y}<extra></extra>",
         "hovertext": [
          "s11",
          "s11",
          "s11",
          "s11",
          "s11",
          "s11",
          "s11",
          "s11",
          "s11",
          "s11",
          "s11",
          "s11",
          "s11",
          "s11",
          "s11",
          "s11",
          "s11",
          "s11",
          "s11"
         ],
         "legendgroup": "s11",
         "line": {
          "color": "#ab63fa",
          "dash": "solid"
         },
         "marker": {
          "symbol": "circle"
         },
         "mode": "lines",
         "name": "s11",
         "showlegend": false,
         "type": "scattergl",
         "x": [
          0,
          1,
          2,
          3,
          4,
          5,
          6,
          7,
          8,
          9,
          10,
          11,
          12,
          13,
          14,
          15,
          16,
          17,
          18
         ],
         "xaxis": "x2",
         "y": [
          -0.0446339217791,
          -0.0593541448572,
          -0.0590890319945,
          -0.0101379858559,
          0.0871751702674,
          0.194215001153,
          0.262771101488,
          0.254042321237,
          0.169673297351,
          0.0454185313729,
          -0.072780476678,
          -0.150709342539,
          -0.178509701862,
          -0.157834186994,
          -0.114468830404,
          -0.0721121940471,
          -0.0495870358338,
          -0.041960488856,
          -0.0461343901751999
         ],
         "yaxis": "y2"
        },
        {
         "hovertemplate": "<b>%{hovertext}</b><br><br>subject=s12<br>region=frontal<br>event=cue<br>timepoint=%{x}<br>signal=%{y}<extra></extra>",
         "hovertext": [
          "s12",
          "s12",
          "s12",
          "s12",
          "s12",
          "s12",
          "s12",
          "s12",
          "s12",
          "s12",
          "s12",
          "s12",
          "s12",
          "s12",
          "s12",
          "s12",
          "s12",
          "s12",
          "s12"
         ],
         "legendgroup": "s12",
         "line": {
          "color": "#FFA15A",
          "dash": "solid"
         },
         "marker": {
          "symbol": "circle"
         },
         "mode": "lines",
         "name": "s12",
         "showlegend": true,
         "type": "scattergl",
         "x": [
          0,
          1,
          2,
          3,
          4,
          5,
          6,
          7,
          8,
          9,
          10,
          11,
          12,
          13,
          14,
          15,
          16,
          17,
          18
         ],
         "xaxis": "x3",
         "y": [
          0.00523904905204,
          -0.00717138016831,
          -0.0075071279196,
          -0.00215893498758,
          -0.000457091072418,
          -0.00680544471978,
          -0.00885467067635,
          -0.00493910613621,
          -0.00319476716939,
          -0.00765607359626,
          -0.00935375301823,
          -0.00634925805976,
          -0.00303419038518,
          -0.00444996952793,
          -0.00331795337401,
          -0.00448951009453,
          -0.00172336864926,
          0.00367093318644,
          0.00438372064071
         ],
         "yaxis": "y3"
        },
        {
         "hovertemplate": "<b>%{hovertext}</b><br><br>subject=s12<br>region=frontal<br>event=stim<br>timepoint=%{x}<br>signal=%{y}<extra></extra>",
         "hovertext": [
          "s12",
          "s12",
          "s12",
          "s12",
          "s12",
          "s12",
          "s12",
          "s12",
          "s12",
          "s12",
          "s12",
          "s12",
          "s12",
          "s12",
          "s12",
          "s12",
          "s12",
          "s12",
          "s12"
         ],
         "legendgroup": "s12",
         "line": {
          "color": "#FFA15A",
          "dash": "solid"
         },
         "marker": {
          "symbol": "circle"
         },
         "mode": "lines",
         "name": "s12",
         "showlegend": false,
         "type": "scattergl",
         "x": [
          0,
          1,
          2,
          3,
          4,
          5,
          6,
          7,
          8,
          9,
          10,
          11,
          12,
          13,
          14,
          15,
          16,
          17,
          18
         ],
         "xaxis": "x4",
         "y": [
          0.0383924609177,
          0.0447695772963,
          0.0750666129231,
          0.112746171369,
          0.123049682451,
          0.0910269415202,
          0.0327580046721,
          -0.0155974400049,
          -0.0415716689544,
          -0.047257276732,
          -0.0435940061136,
          -0.0353774985791,
          -0.0326156562009,
          -0.0326627425606,
          -0.0397865885476,
          -0.0496887494108,
          -0.0594620218643,
          -0.0601343617828,
          -0.0623323445862
         ],
         "yaxis": "y4"
        },
        {
         "hovertemplate": "<b>%{hovertext}</b><br><br>subject=s12<br>region=parietal<br>event=cue<br>timepoint=%{x}<br>signal=%{y}<extra></extra>",
         "hovertext": [
          "s12",
          "s12",
          "s12",
          "s12",
          "s12",
          "s12",
          "s12",
          "s12",
          "s12",
          "s12",
          "s12",
          "s12",
          "s12",
          "s12",
          "s12",
          "s12",
          "s12",
          "s12",
          "s12"
         ],
         "legendgroup": "s12",
         "line": {
          "color": "#FFA15A",
          "dash": "solid"
         },
         "marker": {
          "symbol": "circle"
         },
         "mode": "lines",
         "name": "s12",
         "showlegend": false,
         "type": "scattergl",
         "x": [
          0,
          1,
          2,
          3,
          4,
          5,
          6,
          7,
          8,
          9,
          10,
          11,
          12,
          13,
          14,
          15,
          16,
          17,
          18
         ],
         "xaxis": "x",
         "y": [
          -0.0147968933344,
          -0.0259042246248,
          -0.00948510410683,
          0.0302697426561,
          0.058198039644,
          0.047576637131,
          0.0149150459614,
          -0.0103106697503,
          -0.0174229360442,
          -0.0173973079805,
          -0.0179281868977,
          -0.0185363979845,
          -0.0178295249988,
          -0.0201091472848,
          -0.0218242453639,
          -0.0248011314139,
          -0.022735163424,
          -0.0153776919753,
          -0.0114341079411
         ],
         "yaxis": "y"
        },
        {
         "hovertemplate": "<b>%{hovertext}</b><br><br>subject=s12<br>region=parietal<br>event=stim<br>timepoint=%{x}<br>signal=%{y}<extra></extra>",
         "hovertext": [
          "s12",
          "s12",
          "s12",
          "s12",
          "s12",
          "s12",
          "s12",
          "s12",
          "s12",
          "s12",
          "s12",
          "s12",
          "s12",
          "s12",
          "s12",
          "s12",
          "s12",
          "s12",
          "s12"
         ],
         "legendgroup": "s12",
         "line": {
          "color": "#FFA15A",
          "dash": "solid"
         },
         "marker": {
          "symbol": "circle"
         },
         "mode": "lines",
         "name": "s12",
         "showlegend": false,
         "type": "scattergl",
         "x": [
          0,
          1,
          2,
          3,
          4,
          5,
          6,
          7,
          8,
          9,
          10,
          11,
          12,
          13,
          14,
          15,
          16,
          17,
          18
         ],
         "xaxis": "x2",
         "y": [
          0.00335775487784,
          0.010624696534,
          0.0772772101448,
          0.185581486022,
          0.261283304881,
          0.248138009448,
          0.157799926472,
          0.0501726783253,
          -0.0275774798409,
          -0.0623350210256,
          -0.0669700192247,
          -0.0566284477074,
          -0.0522953046329,
          -0.056306337975,
          -0.0682973367158,
          -0.0806979631713999,
          -0.0899433633361,
          -0.0885117501225,
          -0.0810330187333
         ],
         "yaxis": "y2"
        },
        {
         "hovertemplate": "<b>%{hovertext}</b><br><br>subject=s13<br>region=frontal<br>event=cue<br>timepoint=%{x}<br>signal=%{y}<extra></extra>",
         "hovertext": [
          "s13",
          "s13",
          "s13",
          "s13",
          "s13",
          "s13",
          "s13",
          "s13",
          "s13",
          "s13",
          "s13",
          "s13",
          "s13",
          "s13",
          "s13",
          "s13",
          "s13",
          "s13",
          "s13"
         ],
         "legendgroup": "s13",
         "line": {
          "color": "#19d3f3",
          "dash": "solid"
         },
         "marker": {
          "symbol": "circle"
         },
         "mode": "lines",
         "name": "s13",
         "showlegend": true,
         "type": "scattergl",
         "x": [
          0,
          1,
          2,
          3,
          4,
          5,
          6,
          7,
          8,
          9,
          10,
          11,
          12,
          13,
          14,
          15,
          16,
          17,
          18
         ],
         "xaxis": "x3",
         "y": [
          -0.0125760065596,
          -0.01034610232,
          0.00439599259064,
          0.0341351352969,
          0.0587040696456,
          0.0567314714945,
          0.0224204348758,
          -0.0291302997811,
          -0.0709909206509,
          -0.0829548408148,
          -0.0662865277457,
          -0.0403692122031,
          -0.0206860781516,
          -0.00938827240792,
          -0.00570123521875,
          -0.00305348061239,
          -0.0025219123314,
          -0.00419011651606,
          -0.012163495715
         ],
         "yaxis": "y3"
        },
        {
         "hovertemplate": "<b>%{hovertext}</b><br><br>subject=s13<br>region=frontal<br>event=stim<br>timepoint=%{x}<br>signal=%{y}<extra></extra>",
         "hovertext": [
          "s13",
          "s13",
          "s13",
          "s13",
          "s13",
          "s13",
          "s13",
          "s13",
          "s13",
          "s13",
          "s13",
          "s13",
          "s13",
          "s13",
          "s13",
          "s13",
          "s13",
          "s13",
          "s13"
         ],
         "legendgroup": "s13",
         "line": {
          "color": "#19d3f3",
          "dash": "solid"
         },
         "marker": {
          "symbol": "circle"
         },
         "mode": "lines",
         "name": "s13",
         "showlegend": false,
         "type": "scattergl",
         "x": [
          0,
          1,
          2,
          3,
          4,
          5,
          6,
          7,
          8,
          9,
          10,
          11,
          12,
          13,
          14,
          15,
          16,
          17,
          18
         ],
         "xaxis": "x4",
         "y": [
          -0.0382661560354,
          -0.0464925630129,
          -0.0242307031151,
          0.0483176784389,
          0.147685336045,
          0.211232397262,
          0.195928278229,
          0.114907370649,
          0.0135711839707,
          -0.0680502491073,
          -0.110284644256,
          -0.114215411267,
          -0.0900874242966,
          -0.055233993508,
          -0.0225059258220999,
          -0.0000756480581685,
          0.0140854627305,
          0.0234939806648,
          0.0244253694066
         ],
         "yaxis": "y4"
        },
        {
         "hovertemplate": "<b>%{hovertext}</b><br><br>subject=s13<br>region=parietal<br>event=cue<br>timepoint=%{x}<br>signal=%{y}<extra></extra>",
         "hovertext": [
          "s13",
          "s13",
          "s13",
          "s13",
          "s13",
          "s13",
          "s13",
          "s13",
          "s13",
          "s13",
          "s13",
          "s13",
          "s13",
          "s13",
          "s13",
          "s13",
          "s13",
          "s13",
          "s13"
         ],
         "legendgroup": "s13",
         "line": {
          "color": "#19d3f3",
          "dash": "solid"
         },
         "marker": {
          "symbol": "circle"
         },
         "mode": "lines",
         "name": "s13",
         "showlegend": false,
         "type": "scattergl",
         "x": [
          0,
          1,
          2,
          3,
          4,
          5,
          6,
          7,
          8,
          9,
          10,
          11,
          12,
          13,
          14,
          15,
          16,
          17,
          18
         ],
         "xaxis": "x",
         "y": [
          -0.0183937339494,
          -0.0251840022699,
          -0.0293295919832,
          0.000747863734093,
          0.0536918415969,
          0.0810267441778,
          0.0572220144131999,
          0.003324151435,
          -0.0484351731185,
          -0.0750794505206999,
          -0.0733276094632,
          -0.0506949753525,
          -0.0257164101976,
          -0.009111630042,
          -0.00371380944378,
          -0.00138989175368,
          -0.00937936303601,
          -0.0172933786357999,
          -0.0208155049959
         ],
         "yaxis": "y"
        },
        {
         "hovertemplate": "<b>%{hovertext}</b><br><br>subject=s13<br>region=parietal<br>event=stim<br>timepoint=%{x}<br>signal=%{y}<extra></extra>",
         "hovertext": [
          "s13",
          "s13",
          "s13",
          "s13",
          "s13",
          "s13",
          "s13",
          "s13",
          "s13",
          "s13",
          "s13",
          "s13",
          "s13",
          "s13",
          "s13",
          "s13",
          "s13",
          "s13",
          "s13"
         ],
         "legendgroup": "s13",
         "line": {
          "color": "#19d3f3",
          "dash": "solid"
         },
         "marker": {
          "symbol": "circle"
         },
         "mode": "lines",
         "name": "s13",
         "showlegend": false,
         "type": "scattergl",
         "x": [
          0,
          1,
          2,
          3,
          4,
          5,
          6,
          7,
          8,
          9,
          10,
          11,
          12,
          13,
          14,
          15,
          16,
          17,
          18
         ],
         "xaxis": "x2",
         "y": [
          -0.0424666030737,
          -0.0642564530879,
          -0.0629159068465999,
          0.00841751428481,
          0.136219459793,
          0.252627264341,
          0.291884318776,
          0.240747073686,
          0.130991047051,
          0.0132453345685,
          -0.0745026100443,
          -0.11257541213,
          -0.100984175249,
          -0.0686374735514,
          -0.0337133890149,
          -0.0109714632203,
          -0.00285629387119,
          -0.00826462526111,
          -0.017551581538
         ],
         "yaxis": "y2"
        },
        {
         "hovertemplate": "<b>%{hovertext}</b><br><br>subject=s2<br>region=frontal<br>event=cue<br>timepoint=%{x}<br>signal=%{y}<extra></extra>",
         "hovertext": [
          "s2",
          "s2",
          "s2",
          "s2",
          "s2",
          "s2",
          "s2",
          "s2",
          "s2",
          "s2",
          "s2",
          "s2",
          "s2",
          "s2",
          "s2",
          "s2",
          "s2",
          "s2",
          "s2"
         ],
         "legendgroup": "s2",
         "line": {
          "color": "#FF6692",
          "dash": "solid"
         },
         "marker": {
          "symbol": "circle"
         },
         "mode": "lines",
         "name": "s2",
         "showlegend": true,
         "type": "scattergl",
         "x": [
          0,
          1,
          2,
          3,
          4,
          5,
          6,
          7,
          8,
          9,
          10,
          11,
          12,
          13,
          14,
          15,
          16,
          17,
          18
         ],
         "xaxis": "x3",
         "y": [
          0.00780174578614,
          -0.0105282937271,
          -0.00904849028299,
          0.00991479192006,
          0.0132118552959,
          -0.0134180232886,
          -0.0544052334484,
          -0.0783632202795,
          -0.0696658068792,
          -0.037688644057,
          -0.00377066682741,
          0.0226803666835,
          0.0423628697685,
          0.0479183348854,
          0.0389961768097,
          0.0247336480706,
          0.0145098643656,
          0.0103194050434,
          0.0153433794654
         ],
         "yaxis": "y3"
        },
        {
         "hovertemplate": "<b>%{hovertext}</b><br><br>subject=s2<br>region=frontal<br>event=stim<br>timepoint=%{x}<br>signal=%{y}<extra></extra>",
         "hovertext": [
          "s2",
          "s2",
          "s2",
          "s2",
          "s2",
          "s2",
          "s2",
          "s2",
          "s2",
          "s2",
          "s2",
          "s2",
          "s2",
          "s2",
          "s2",
          "s2",
          "s2",
          "s2",
          "s2"
         ],
         "legendgroup": "s2",
         "line": {
          "color": "#FF6692",
          "dash": "solid"
         },
         "marker": {
          "symbol": "circle"
         },
         "mode": "lines",
         "name": "s2",
         "showlegend": false,
         "type": "scattergl",
         "x": [
          0,
          1,
          2,
          3,
          4,
          5,
          6,
          7,
          8,
          9,
          10,
          11,
          12,
          13,
          14,
          15,
          16,
          17,
          18
         ],
         "xaxis": "x4",
         "y": [
          -0.0169852108573,
          -0.036432999521,
          -0.0107439374483,
          0.0574609669929,
          0.128158046374,
          0.149879208805,
          0.101050432206,
          0.0147630317538,
          -0.0573023501457,
          -0.0861001606332,
          -0.0759355234177,
          -0.049446353537,
          -0.0270124417059,
          -0.0160922681537999,
          -0.0104289492969,
          -0.0138457018672,
          -0.0306336275507,
          -0.0490784875502,
          -0.0584709784691999
         ],
         "yaxis": "y4"
        },
        {
         "hovertemplate": "<b>%{hovertext}</b><br><br>subject=s2<br>region=parietal<br>event=cue<br>timepoint=%{x}<br>signal=%{y}<extra></extra>",
         "hovertext": [
          "s2",
          "s2",
          "s2",
          "s2",
          "s2",
          "s2",
          "s2",
          "s2",
          "s2",
          "s2",
          "s2",
          "s2",
          "s2",
          "s2",
          "s2",
          "s2",
          "s2",
          "s2",
          "s2"
         ],
         "legendgroup": "s2",
         "line": {
          "color": "#FF6692",
          "dash": "solid"
         },
         "marker": {
          "symbol": "circle"
         },
         "mode": "lines",
         "name": "s2",
         "showlegend": false,
         "type": "scattergl",
         "x": [
          0,
          1,
          2,
          3,
          4,
          5,
          6,
          7,
          8,
          9,
          10,
          11,
          12,
          13,
          14,
          15,
          16,
          17,
          18
         ],
         "xaxis": "x",
         "y": [
          0.00614232810141,
          0.00106607278632,
          0.0195906789676,
          0.0494281304008,
          0.0484638721715,
          0.00721563801485,
          -0.0468407445775,
          -0.0781117179409,
          -0.0774126485299,
          -0.053902534274,
          -0.0220622212949,
          0.00913697311649,
          0.0309226741576,
          0.0394762595721,
          0.0358399852165,
          0.0315954006514,
          0.0249311031,
          0.0178025751851,
          0.0178053386573
         ],
         "yaxis": "y"
        },
        {
         "hovertemplate": "<b>%{hovertext}</b><br><br>subject=s2<br>region=parietal<br>event=stim<br>timepoint=%{x}<br>signal=%{y}<extra></extra>",
         "hovertext": [
          "s2",
          "s2",
          "s2",
          "s2",
          "s2",
          "s2",
          "s2",
          "s2",
          "s2",
          "s2",
          "s2",
          "s2",
          "s2",
          "s2",
          "s2",
          "s2",
          "s2",
          "s2",
          "s2"
         ],
         "legendgroup": "s2",
         "line": {
          "color": "#FF6692",
          "dash": "solid"
         },
         "marker": {
          "symbol": "circle"
         },
         "mode": "lines",
         "name": "s2",
         "showlegend": false,
         "type": "scattergl",
         "x": [
          0,
          1,
          2,
          3,
          4,
          5,
          6,
          7,
          8,
          9,
          10,
          11,
          12,
          13,
          14,
          15,
          16,
          17,
          18
         ],
         "xaxis": "x2",
         "y": [
          -0.0344071864202,
          -0.0420866174374,
          0.00879137477466,
          0.108915570222,
          0.196461030367,
          0.209354958128,
          0.143436119997,
          0.0457436269453,
          -0.0374066054162,
          -0.082613396203,
          -0.0876876805188,
          -0.0734168172716,
          -0.056376647172,
          -0.0526557373357,
          -0.0528745299501,
          -0.0554618569331,
          -0.0649981692916999,
          -0.0772924001886,
          -0.0866229594917999
         ],
         "yaxis": "y2"
        },
        {
         "hovertemplate": "<b>%{hovertext}</b><br><br>subject=s3<br>region=frontal<br>event=cue<br>timepoint=%{x}<br>signal=%{y}<extra></extra>",
         "hovertext": [
          "s3",
          "s3",
          "s3",
          "s3",
          "s3",
          "s3",
          "s3",
          "s3",
          "s3",
          "s3",
          "s3",
          "s3",
          "s3",
          "s3",
          "s3",
          "s3",
          "s3",
          "s3",
          "s3"
         ],
         "legendgroup": "s3",
         "line": {
          "color": "#B6E880",
          "dash": "solid"
         },
         "marker": {
          "symbol": "circle"
         },
         "mode": "lines",
         "name": "s3",
         "showlegend": true,
         "type": "scattergl",
         "x": [
          0,
          1,
          2,
          3,
          4,
          5,
          6,
          7,
          8,
          9,
          10,
          11,
          12,
          13,
          14,
          15,
          16,
          17,
          18
         ],
         "xaxis": "x3",
         "y": [
          -0.000546239981701,
          0.000653061855057,
          0.00245283621298,
          0.0199464936977,
          0.0534429228294,
          0.0804468579247,
          0.0739015779525,
          0.0266682447552,
          -0.0338482069836,
          -0.0775334474769,
          -0.0932567846039,
          -0.088991179696,
          -0.0707140495083999,
          -0.0476390505751,
          -0.0306139685252,
          -0.0223767538583,
          -0.0168074650838,
          -0.0141380828752,
          -0.0234015787962
         ],
         "yaxis": "y3"
        },
        {
         "hovertemplate": "<b>%{hovertext}</b><br><br>subject=s3<br>region=frontal<br>event=stim<br>timepoint=%{x}<br>signal=%{y}<extra></extra>",
         "hovertext": [
          "s3",
          "s3",
          "s3",
          "s3",
          "s3",
          "s3",
          "s3",
          "s3",
          "s3",
          "s3",
          "s3",
          "s3",
          "s3",
          "s3",
          "s3",
          "s3",
          "s3",
          "s3",
          "s3"
         ],
         "legendgroup": "s3",
         "line": {
          "color": "#B6E880",
          "dash": "solid"
         },
         "marker": {
          "symbol": "circle"
         },
         "mode": "lines",
         "name": "s3",
         "showlegend": false,
         "type": "scattergl",
         "x": [
          0,
          1,
          2,
          3,
          4,
          5,
          6,
          7,
          8,
          9,
          10,
          11,
          12,
          13,
          14,
          15,
          16,
          17,
          18
         ],
         "xaxis": "x4",
         "y": [
          0.0110564879557,
          -0.0102617412665,
          -0.0573062927735,
          -0.0752133559724999,
          -0.00183480915545,
          0.147985329126,
          0.282221579706,
          0.319009013543,
          0.248302107034,
          0.127788732332,
          0.0125251224024,
          -0.0675200493551,
          -0.103477352397,
          -0.107386192502,
          -0.090362563636,
          -0.063136252215,
          -0.0340231130191,
          -0.0144004460979,
          -0.0109204163368
         ],
         "yaxis": "y4"
        },
        {
         "hovertemplate": "<b>%{hovertext}</b><br><br>subject=s3<br>region=parietal<br>event=cue<br>timepoint=%{x}<br>signal=%{y}<extra></extra>",
         "hovertext": [
          "s3",
          "s3",
          "s3",
          "s3",
          "s3",
          "s3",
          "s3",
          "s3",
          "s3",
          "s3",
          "s3",
          "s3",
          "s3",
          "s3",
          "s3",
          "s3",
          "s3",
          "s3",
          "s3"
         ],
         "legendgroup": "s3",
         "line": {
          "color": "#B6E880",
          "dash": "solid"
         },
         "marker": {
          "symbol": "circle"
         },
         "mode": "lines",
         "name": "s3",
         "showlegend": false,
         "type": "scattergl",
         "x": [
          0,
          1,
          2,
          3,
          4,
          5,
          6,
          7,
          8,
          9,
          10,
          11,
          12,
          13,
          14,
          15,
          16,
          17,
          18
         ],
         "xaxis": "x",
         "y": [
          -0.0211601500566,
          -0.0215063507368,
          -0.0138694123002,
          0.0147962077845,
          0.0582186114962,
          0.0889036017516999,
          0.0849996187345,
          0.0414749599559,
          -0.0169387434795999,
          -0.0659350721893,
          -0.0917491496902,
          -0.0942313372239,
          -0.0814599979227,
          -0.0637047193938,
          -0.0483762564626,
          -0.0422532327786,
          -0.0418992949281,
          -0.0395893913264,
          -0.0397100941829
         ],
         "yaxis": "y"
        },
        {
         "hovertemplate": "<b>%{hovertext}</b><br><br>subject=s3<br>region=parietal<br>event=stim<br>timepoint=%{x}<br>signal=%{y}<extra></extra>",
         "hovertext": [
          "s3",
          "s3",
          "s3",
          "s3",
          "s3",
          "s3",
          "s3",
          "s3",
          "s3",
          "s3",
          "s3",
          "s3",
          "s3",
          "s3",
          "s3",
          "s3",
          "s3",
          "s3",
          "s3"
         ],
         "legendgroup": "s3",
         "line": {
          "color": "#B6E880",
          "dash": "solid"
         },
         "marker": {
          "symbol": "circle"
         },
         "mode": "lines",
         "name": "s3",
         "showlegend": false,
         "type": "scattergl",
         "x": [
          0,
          1,
          2,
          3,
          4,
          5,
          6,
          7,
          8,
          9,
          10,
          11,
          12,
          13,
          14,
          15,
          16,
          17,
          18
         ],
         "xaxis": "x2",
         "y": [
          -0.00857603635283,
          -0.0614603544278,
          -0.11056526279,
          -0.08970777078,
          0.0278785465127,
          0.19918833824,
          0.340479918138,
          0.39046573376,
          0.337143297554,
          0.22171613873,
          0.0892314787638,
          -0.0232737328152,
          -0.0913009509384,
          -0.1165517168,
          -0.110040787828,
          -0.0907351815282,
          -0.0710224022162,
          -0.0535140677471,
          -0.0471481458275
         ],
         "yaxis": "y2"
        },
        {
         "hovertemplate": "<b>%{hovertext}</b><br><br>subject=s4<br>region=frontal<br>event=cue<br>timepoint=%{x}<br>signal=%{y}<extra></extra>",
         "hovertext": [
          "s4",
          "s4",
          "s4",
          "s4",
          "s4",
          "s4",
          "s4",
          "s4",
          "s4",
          "s4",
          "s4",
          "s4",
          "s4",
          "s4",
          "s4",
          "s4",
          "s4",
          "s4",
          "s4"
         ],
         "legendgroup": "s4",
         "line": {
          "color": "#FF97FF",
          "dash": "solid"
         },
         "marker": {
          "symbol": "circle"
         },
         "mode": "lines",
         "name": "s4",
         "showlegend": true,
         "type": "scattergl",
         "x": [
          0,
          1,
          2,
          3,
          4,
          5,
          6,
          7,
          8,
          9,
          10,
          11,
          12,
          13,
          14,
          15,
          16,
          17,
          18
         ],
         "xaxis": "x3",
         "y": [
          -0.0391164884965,
          -0.0316738519857,
          0.0188497629838,
          0.11851503795,
          0.204170630974,
          0.188521242471,
          0.0634867092855,
          -0.0867856744236,
          -0.160820708077,
          -0.136591741754,
          -0.0665928664573,
          -0.0246927650157,
          -0.0169839066739999,
          -0.0215142189251,
          -0.0267960223096,
          -0.032512333508,
          -0.0408622819528,
          -0.0447856273504,
          -0.0455602885364
         ],
         "yaxis": "y3"
        },
        {
         "hovertemplate": "<b>%{hovertext}</b><br><br>subject=s4<br>region=frontal<br>event=stim<br>timepoint=%{x}<br>signal=%{y}<extra></extra>",
         "hovertext": [
          "s4",
          "s4",
          "s4",
          "s4",
          "s4",
          "s4",
          "s4",
          "s4",
          "s4",
          "s4",
          "s4",
          "s4",
          "s4",
          "s4",
          "s4",
          "s4",
          "s4",
          "s4",
          "s4"
         ],
         "legendgroup": "s4",
         "line": {
          "color": "#FF97FF",
          "dash": "solid"
         },
         "marker": {
          "symbol": "circle"
         },
         "mode": "lines",
         "name": "s4",
         "showlegend": false,
         "type": "scattergl",
         "x": [
          0,
          1,
          2,
          3,
          4,
          5,
          6,
          7,
          8,
          9,
          10,
          11,
          12,
          13,
          14,
          15,
          16,
          17,
          18
         ],
         "xaxis": "x4",
         "y": [
          -0.0175155017738,
          -0.0505230209634,
          -0.0227629589625,
          0.120453727716,
          0.324264821523,
          0.455574818936,
          0.410660972614,
          0.218513616025,
          0.0109629220321,
          -0.108728887449,
          -0.132442083726,
          -0.107947321225,
          -0.0804438088945,
          -0.0712268148965,
          -0.0706921364543,
          -0.0709368968741,
          -0.0659392304028999,
          -0.0625056570924,
          -0.0632631135055
         ],
         "yaxis": "y4"
        },
        {
         "hovertemplate": "<b>%{hovertext}</b><br><br>subject=s4<br>region=parietal<br>event=cue<br>timepoint=%{x}<br>signal=%{y}<extra></extra>",
         "hovertext": [
          "s4",
          "s4",
          "s4",
          "s4",
          "s4",
          "s4",
          "s4",
          "s4",
          "s4",
          "s4",
          "s4",
          "s4",
          "s4",
          "s4",
          "s4",
          "s4",
          "s4",
          "s4",
          "s4"
         ],
         "legendgroup": "s4",
         "line": {
          "color": "#FF97FF",
          "dash": "solid"
         },
         "marker": {
          "symbol": "circle"
         },
         "mode": "lines",
         "name": "s4",
         "showlegend": false,
         "type": "scattergl",
         "x": [
          0,
          1,
          2,
          3,
          4,
          5,
          6,
          7,
          8,
          9,
          10,
          11,
          12,
          13,
          14,
          15,
          16,
          17,
          18
         ],
         "xaxis": "x",
         "y": [
          -0.0459561860199,
          -0.0374294562033,
          0.0217623536433,
          0.129606378289,
          0.213117124571,
          0.186053377099,
          0.0493844589057,
          -0.108222328291,
          -0.181240908779,
          -0.149299267642,
          -0.0689714268396,
          -0.0190119095318,
          -0.00709210399119,
          -0.0106126462175,
          -0.0118680151433,
          -0.0122946946186,
          -0.0207591309447,
          -0.0373954538034,
          -0.0527355807224
         ],
         "yaxis": "y"
        },
        {
         "hovertemplate": "<b>%{hovertext}</b><br><br>subject=s4<br>region=parietal<br>event=stim<br>timepoint=%{x}<br>signal=%{y}<extra></extra>",
         "hovertext": [
          "s4",
          "s4",
          "s4",
          "s4",
          "s4",
          "s4",
          "s4",
          "s4",
          "s4",
          "s4",
          "s4",
          "s4",
          "s4",
          "s4",
          "s4",
          "s4",
          "s4",
          "s4",
          "s4"
         ],
         "legendgroup": "s4",
         "line": {
          "color": "#FF97FF",
          "dash": "solid"
         },
         "marker": {
          "symbol": "circle"
         },
         "mode": "lines",
         "name": "s4",
         "showlegend": false,
         "type": "scattergl",
         "x": [
          0,
          1,
          2,
          3,
          4,
          5,
          6,
          7,
          8,
          9,
          10,
          11,
          12,
          13,
          14,
          15,
          16,
          17,
          18
         ],
         "xaxis": "x2",
         "y": [
          -0.0488685047508,
          -0.0821743580403999,
          -0.0281087303981,
          0.141458050647,
          0.346774672362,
          0.460896318187,
          0.405840057028,
          0.220448524592,
          0.017534785968,
          -0.114241981967,
          -0.15265246158,
          -0.12854654313,
          -0.0900360515443,
          -0.0747598671492,
          -0.0639904071723,
          -0.0560310534918,
          -0.0474331683855,
          -0.0445819008759,
          -0.0488121999465999
         ],
         "yaxis": "y2"
        },
        {
         "hovertemplate": "<b>%{hovertext}</b><br><br>subject=s5<br>region=frontal<br>event=cue<br>timepoint=%{x}<br>signal=%{y}<extra></extra>",
         "hovertext": [
          "s5",
          "s5",
          "s5",
          "s5",
          "s5",
          "s5",
          "s5",
          "s5",
          "s5",
          "s5",
          "s5",
          "s5",
          "s5",
          "s5",
          "s5",
          "s5",
          "s5",
          "s5",
          "s5"
         ],
         "legendgroup": "s5",
         "line": {
          "color": "#FECB52",
          "dash": "solid"
         },
         "marker": {
          "symbol": "circle"
         },
         "mode": "lines",
         "name": "s5",
         "showlegend": true,
         "type": "scattergl",
         "x": [
          0,
          1,
          2,
          3,
          4,
          5,
          6,
          7,
          8,
          9,
          10,
          11,
          12,
          13,
          14,
          15,
          16,
          17,
          18
         ],
         "xaxis": "x3",
         "y": [
          -0.0270327130304,
          -0.0184928851562,
          0.00212052147172,
          0.0256926505756,
          0.0408262184082,
          0.0358297688961,
          0.0125509620527,
          -0.014399555076,
          -0.0282917476443,
          -0.0288370652557,
          -0.0255391841237,
          -0.023329026041,
          -0.0181459403033,
          -0.0149847251958999,
          -0.0172127890483,
          -0.0195068625872,
          -0.0100683021535,
          0.00588373422725,
          0.0225013307677
         ],
         "yaxis": "y3"
        },
        {
         "hovertemplate": "<b>%{hovertext}</b><br><br>subject=s5<br>region=frontal<br>event=stim<br>timepoint=%{x}<br>signal=%{y}<extra></extra>",
         "hovertext": [
          "s5",
          "s5",
          "s5",
          "s5",
          "s5",
          "s5",
          "s5",
          "s5",
          "s5",
          "s5",
          "s5",
          "s5",
          "s5",
          "s5",
          "s5",
          "s5",
          "s5",
          "s5",
          "s5"
         ],
         "legendgroup": "s5",
         "line": {
          "color": "#FECB52",
          "dash": "solid"
         },
         "marker": {
          "symbol": "circle"
         },
         "mode": "lines",
         "name": "s5",
         "showlegend": false,
         "type": "scattergl",
         "x": [
          0,
          1,
          2,
          3,
          4,
          5,
          6,
          7,
          8,
          9,
          10,
          11,
          12,
          13,
          14,
          15,
          16,
          17,
          18
         ],
         "xaxis": "x4",
         "y": [
          -0.0229773510382,
          -0.0271789021177,
          0.00383564210338,
          0.0866294054154999,
          0.186011726948,
          0.236025401676,
          0.196370293043,
          0.0882249473836,
          -0.0257432068711,
          -0.0973762762409,
          -0.118450927525,
          -0.103936816793,
          -0.0795380517233999,
          -0.0546139708001,
          -0.0376963150522,
          -0.0280269918087,
          -0.0268117820996,
          -0.0299207089612,
          -0.0310125612548
         ],
         "yaxis": "y4"
        },
        {
         "hovertemplate": "<b>%{hovertext}</b><br><br>subject=s5<br>region=parietal<br>event=cue<br>timepoint=%{x}<br>signal=%{y}<extra></extra>",
         "hovertext": [
          "s5",
          "s5",
          "s5",
          "s5",
          "s5",
          "s5",
          "s5",
          "s5",
          "s5",
          "s5",
          "s5",
          "s5",
          "s5",
          "s5",
          "s5",
          "s5",
          "s5",
          "s5",
          "s5"
         ],
         "legendgroup": "s5",
         "line": {
          "color": "#FECB52",
          "dash": "solid"
         },
         "marker": {
          "symbol": "circle"
         },
         "mode": "lines",
         "name": "s5",
         "showlegend": false,
         "type": "scattergl",
         "x": [
          0,
          1,
          2,
          3,
          4,
          5,
          6,
          7,
          8,
          9,
          10,
          11,
          12,
          13,
          14,
          15,
          16,
          17,
          18
         ],
         "xaxis": "x",
         "y": [
          0.00431520673796,
          0.0100858382625,
          0.0254025839431,
          0.0465185591803,
          0.0515414564243,
          0.0286996754562,
          -0.00909655511476,
          -0.0423492412146,
          -0.0570726138705,
          -0.0567566311895,
          -0.0497646707677,
          -0.0390273863767,
          -0.0220329006251,
          -0.00650677088446,
          0.00481594181701,
          0.00788463386574,
          0.0160045120059,
          0.0258273000272,
          0.0371607084325
         ],
         "yaxis": "y"
        },
        {
         "hovertemplate": "<b>%{hovertext}</b><br><br>subject=s5<br>region=parietal<br>event=stim<br>timepoint=%{x}<br>signal=%{y}<extra></extra>",
         "hovertext": [
          "s5",
          "s5",
          "s5",
          "s5",
          "s5",
          "s5",
          "s5",
          "s5",
          "s5",
          "s5",
          "s5",
          "s5",
          "s5",
          "s5",
          "s5",
          "s5",
          "s5",
          "s5",
          "s5"
         ],
         "legendgroup": "s5",
         "line": {
          "color": "#FECB52",
          "dash": "solid"
         },
         "marker": {
          "symbol": "circle"
         },
         "mode": "lines",
         "name": "s5",
         "showlegend": false,
         "type": "scattergl",
         "x": [
          0,
          1,
          2,
          3,
          4,
          5,
          6,
          7,
          8,
          9,
          10,
          11,
          12,
          13,
          14,
          15,
          16,
          17,
          18
         ],
         "xaxis": "x2",
         "y": [
          -0.0512277101955,
          -0.0639066373872,
          -0.0174990444292,
          0.0927117312126,
          0.208112190773,
          0.260057069236,
          0.221492883278,
          0.119176862322,
          0.00680513539806,
          -0.0748428067959,
          -0.114761917544,
          -0.120694930753,
          -0.11049636909,
          -0.0949707046582,
          -0.0808829319505,
          -0.0705615378511,
          -0.0641378420404,
          -0.0566820608044,
          -0.0405568546157
         ],
         "yaxis": "y2"
        },
        {
         "hovertemplate": "<b>%{hovertext}</b><br><br>subject=s6<br>region=frontal<br>event=cue<br>timepoint=%{x}<br>signal=%{y}<extra></extra>",
         "hovertext": [
          "s6",
          "s6",
          "s6",
          "s6",
          "s6",
          "s6",
          "s6",
          "s6",
          "s6",
          "s6",
          "s6",
          "s6",
          "s6",
          "s6",
          "s6",
          "s6",
          "s6",
          "s6",
          "s6"
         ],
         "legendgroup": "s6",
         "line": {
          "color": "#636efa",
          "dash": "solid"
         },
         "marker": {
          "symbol": "circle"
         },
         "mode": "lines",
         "name": "s6",
         "showlegend": true,
         "type": "scattergl",
         "x": [
          0,
          1,
          2,
          3,
          4,
          5,
          6,
          7,
          8,
          9,
          10,
          11,
          12,
          13,
          14,
          15,
          16,
          17,
          18
         ],
         "xaxis": "x3",
         "y": [
          0.0186525383098,
          0.0140633977838,
          0.00921076678749,
          0.00890078602149,
          0.00240728427488,
          -0.0077261058899099,
          -0.0214595499705,
          -0.0422953819265,
          -0.0639606670951,
          -0.0708980825768999,
          -0.0642260670844,
          -0.0520117791936,
          -0.0436995941144,
          -0.0376522604288,
          -0.0208147703811,
          0.0100518294106,
          0.0315065090034,
          0.0204153378087,
          0.0122480941706
         ],
         "yaxis": "y3"
        },
        {
         "hovertemplate": "<b>%{hovertext}</b><br><br>subject=s6<br>region=frontal<br>event=stim<br>timepoint=%{x}<br>signal=%{y}<extra></extra>",
         "hovertext": [
          "s6",
          "s6",
          "s6",
          "s6",
          "s6",
          "s6",
          "s6",
          "s6",
          "s6",
          "s6",
          "s6",
          "s6",
          "s6",
          "s6",
          "s6",
          "s6",
          "s6",
          "s6",
          "s6"
         ],
         "legendgroup": "s6",
         "line": {
          "color": "#636efa",
          "dash": "solid"
         },
         "marker": {
          "symbol": "circle"
         },
         "mode": "lines",
         "name": "s6",
         "showlegend": false,
         "type": "scattergl",
         "x": [
          0,
          1,
          2,
          3,
          4,
          5,
          6,
          7,
          8,
          9,
          10,
          11,
          12,
          13,
          14,
          15,
          16,
          17,
          18
         ],
         "xaxis": "x4",
         "y": [
          -0.00794660736514,
          0.00956665177569,
          0.025363154735,
          0.0611197845412,
          0.134851244769,
          0.21348405273,
          0.246783997558,
          0.203884103647,
          0.10875302066,
          0.00861663702354,
          -0.0759612307381,
          -0.138152435253,
          -0.155545872019,
          -0.132768265808,
          -0.0885113782451,
          -0.040139364069,
          -0.00292560331781,
          0.0385751908208,
          0.0464997185079
         ],
         "yaxis": "y4"
        },
        {
         "hovertemplate": "<b>%{hovertext}</b><br><br>subject=s6<br>region=parietal<br>event=cue<br>timepoint=%{x}<br>signal=%{y}<extra></extra>",
         "hovertext": [
          "s6",
          "s6",
          "s6",
          "s6",
          "s6",
          "s6",
          "s6",
          "s6",
          "s6",
          "s6",
          "s6",
          "s6",
          "s6",
          "s6",
          "s6",
          "s6",
          "s6",
          "s6",
          "s6"
         ],
         "legendgroup": "s6",
         "line": {
          "color": "#636efa",
          "dash": "solid"
         },
         "marker": {
          "symbol": "circle"
         },
         "mode": "lines",
         "name": "s6",
         "showlegend": false,
         "type": "scattergl",
         "x": [
          0,
          1,
          2,
          3,
          4,
          5,
          6,
          7,
          8,
          9,
          10,
          11,
          12,
          13,
          14,
          15,
          16,
          17,
          18
         ],
         "xaxis": "x",
         "y": [
          0.0214495567704,
          -0.00428350321103,
          -0.0229244487433,
          -0.00929622159607,
          0.0222709335503,
          0.0381453368558,
          0.0206494006123,
          -0.0198747030483,
          -0.056233739376,
          -0.0692480810464,
          -0.0637547873885,
          -0.0516043435149,
          -0.0425893680536,
          -0.0305608727258,
          -0.0142616476371,
          0.0064409065029399,
          0.0206264477832,
          0.0279699301572,
          0.0195316379848
         ],
         "yaxis": "y"
        },
        {
         "hovertemplate": "<b>%{hovertext}</b><br><br>subject=s6<br>region=parietal<br>event=stim<br>timepoint=%{x}<br>signal=%{y}<extra></extra>",
         "hovertext": [
          "s6",
          "s6",
          "s6",
          "s6",
          "s6",
          "s6",
          "s6",
          "s6",
          "s6",
          "s6",
          "s6",
          "s6",
          "s6",
          "s6",
          "s6",
          "s6",
          "s6",
          "s6",
          "s6"
         ],
         "legendgroup": "s6",
         "line": {
          "color": "#636efa",
          "dash": "solid"
         },
         "marker": {
          "symbol": "circle"
         },
         "mode": "lines",
         "name": "s6",
         "showlegend": false,
         "type": "scattergl",
         "x": [
          0,
          1,
          2,
          3,
          4,
          5,
          6,
          7,
          8,
          9,
          10,
          11,
          12,
          13,
          14,
          15,
          16,
          17,
          18
         ],
         "xaxis": "x2",
         "y": [
          -0.0233191548807,
          -0.0373259336173,
          -0.0307806076045,
          0.0275623648356,
          0.136847472437,
          0.239175097834,
          0.270955810073,
          0.214479570066,
          0.112147204561,
          0.00901740401094,
          -0.0754333889525,
          -0.134795422743,
          -0.150693428305,
          -0.133170667646,
          -0.0988446335535,
          -0.0687202252466999,
          -0.0399507842108,
          -0.0147463892981,
          -0.00702856091007
         ],
         "yaxis": "y2"
        },
        {
         "hovertemplate": "<b>%{hovertext}</b><br><br>subject=s7<br>region=frontal<br>event=cue<br>timepoint=%{x}<br>signal=%{y}<extra></extra>",
         "hovertext": [
          "s7",
          "s7",
          "s7",
          "s7",
          "s7",
          "s7",
          "s7",
          "s7",
          "s7",
          "s7",
          "s7",
          "s7",
          "s7",
          "s7",
          "s7",
          "s7",
          "s7",
          "s7",
          "s7"
         ],
         "legendgroup": "s7",
         "line": {
          "color": "#EF553B",
          "dash": "solid"
         },
         "marker": {
          "symbol": "circle"
         },
         "mode": "lines",
         "name": "s7",
         "showlegend": true,
         "type": "scattergl",
         "x": [
          0,
          1,
          2,
          3,
          4,
          5,
          6,
          7,
          8,
          9,
          10,
          11,
          12,
          13,
          14,
          15,
          16,
          17,
          18
         ],
         "xaxis": "x3",
         "y": [
          -0.0430214968651,
          -0.0452318266602,
          -0.0430136827124,
          -0.0396855716001,
          -0.0308180082987,
          -0.0179456487935,
          -0.00330716756452,
          0.00884398104803,
          0.015765089874,
          0.014398518726,
          0.0055851620763,
          -0.00511408076251,
          -0.0140053394853,
          -0.0175130907603,
          -0.0198314565368,
          -0.027466991959,
          -0.0396866842019,
          -0.0444741031444,
          -0.0374389826447
         ],
         "yaxis": "y3"
        },
        {
         "hovertemplate": "<b>%{hovertext}</b><br><br>subject=s7<br>region=frontal<br>event=stim<br>timepoint=%{x}<br>signal=%{y}<extra></extra>",
         "hovertext": [
          "s7",
          "s7",
          "s7",
          "s7",
          "s7",
          "s7",
          "s7",
          "s7",
          "s7",
          "s7",
          "s7",
          "s7",
          "s7",
          "s7",
          "s7",
          "s7",
          "s7",
          "s7",
          "s7"
         ],
         "legendgroup": "s7",
         "line": {
          "color": "#EF553B",
          "dash": "solid"
         },
         "marker": {
          "symbol": "circle"
         },
         "mode": "lines",
         "name": "s7",
         "showlegend": false,
         "type": "scattergl",
         "x": [
          0,
          1,
          2,
          3,
          4,
          5,
          6,
          7,
          8,
          9,
          10,
          11,
          12,
          13,
          14,
          15,
          16,
          17,
          18
         ],
         "xaxis": "x4",
         "y": [
          -0.0208637774128,
          -0.0235255792331,
          0.00179510893658,
          0.0640016003297,
          0.133497394423,
          0.1761607068279999,
          0.171116812089,
          0.12677769874,
          0.0665348868349,
          0.0121323837445,
          -0.0249420254045,
          -0.0425787763138,
          -0.0424750871063,
          -0.0261645978151,
          -0.000925176693984,
          0.015163029763,
          0.0143006991188,
          0.00121181141337,
          -0.019634012602
         ],
         "yaxis": "y4"
        },
        {
         "hovertemplate": "<b>%{hovertext}</b><br><br>subject=s7<br>region=parietal<br>event=cue<br>timepoint=%{x}<br>signal=%{y}<extra></extra>",
         "hovertext": [
          "s7",
          "s7",
          "s7",
          "s7",
          "s7",
          "s7",
          "s7",
          "s7",
          "s7",
          "s7",
          "s7",
          "s7",
          "s7",
          "s7",
          "s7",
          "s7",
          "s7",
          "s7",
          "s7"
         ],
         "legendgroup": "s7",
         "line": {
          "color": "#EF553B",
          "dash": "solid"
         },
         "marker": {
          "symbol": "circle"
         },
         "mode": "lines",
         "name": "s7",
         "showlegend": false,
         "type": "scattergl",
         "x": [
          0,
          1,
          2,
          3,
          4,
          5,
          6,
          7,
          8,
          9,
          10,
          11,
          12,
          13,
          14,
          15,
          16,
          17,
          18
         ],
         "xaxis": "x",
         "y": [
          -0.0635374390609,
          -0.0741318365628,
          -0.0766085900041,
          -0.0713861989094,
          -0.0463474492093,
          -0.00815845041105,
          0.0233853400255,
          0.0303745431631,
          0.0183984526248,
          -0.000159037536707,
          -0.0142832458072,
          -0.0202657605321,
          -0.0201274821868,
          -0.0140842106927,
          -0.00865464722562,
          -0.0138385715149,
          -0.0245893063994,
          -0.0264353200358,
          -0.0133806287451
         ],
         "yaxis": "y"
        },
        {
         "hovertemplate": "<b>%{hovertext}</b><br><br>subject=s7<br>region=parietal<br>event=stim<br>timepoint=%{x}<br>signal=%{y}<extra></extra>",
         "hovertext": [
          "s7",
          "s7",
          "s7",
          "s7",
          "s7",
          "s7",
          "s7",
          "s7",
          "s7",
          "s7",
          "s7",
          "s7",
          "s7",
          "s7",
          "s7",
          "s7",
          "s7",
          "s7",
          "s7"
         ],
         "legendgroup": "s7",
         "line": {
          "color": "#EF553B",
          "dash": "solid"
         },
         "marker": {
          "symbol": "circle"
         },
         "mode": "lines",
         "name": "s7",
         "showlegend": false,
         "type": "scattergl",
         "x": [
          0,
          1,
          2,
          3,
          4,
          5,
          6,
          7,
          8,
          9,
          10,
          11,
          12,
          13,
          14,
          15,
          16,
          17,
          18
         ],
         "xaxis": "x2",
         "y": [
          0.00408135609976,
          -0.0238826223038,
          -0.0348741834216,
          0.00954793068239,
          0.0933092582309,
          0.177629510785,
          0.218061194469,
          0.198789642958,
          0.13317559373,
          0.058896545297,
          0.00164849110583,
          -0.0309911807764,
          -0.0403852425182,
          -0.030026322192,
          -0.0151398384821,
          -0.00938312919114,
          -0.0218971578269,
          -0.0438120213819,
          -0.0605262017124
         ],
         "yaxis": "y2"
        },
        {
         "hovertemplate": "<b>%{hovertext}</b><br><br>subject=s8<br>region=frontal<br>event=cue<br>timepoint=%{x}<br>signal=%{y}<extra></extra>",
         "hovertext": [
          "s8",
          "s8",
          "s8",
          "s8",
          "s8",
          "s8",
          "s8",
          "s8",
          "s8",
          "s8",
          "s8",
          "s8",
          "s8",
          "s8",
          "s8",
          "s8",
          "s8",
          "s8",
          "s8"
         ],
         "legendgroup": "s8",
         "line": {
          "color": "#00cc96",
          "dash": "solid"
         },
         "marker": {
          "symbol": "circle"
         },
         "mode": "lines",
         "name": "s8",
         "showlegend": true,
         "type": "scattergl",
         "x": [
          0,
          1,
          2,
          3,
          4,
          5,
          6,
          7,
          8,
          9,
          10,
          11,
          12,
          13,
          14,
          15,
          16,
          17,
          18
         ],
         "xaxis": "x3",
         "y": [
          0.0104169799858,
          -0.00470193318958,
          -0.0124962347482,
          -0.00498716907727,
          0.00784968399311,
          0.0182597693007,
          0.0223742016999,
          0.0190275220282,
          0.00727779021147,
          -0.00573536473473,
          -0.0151405187963,
          -0.014830160753,
          -0.0074306930527299,
          0.00841925673815,
          0.0217941110174,
          0.0253832097515,
          0.0163316275274,
          0.013762123577,
          0.0143582465172999
         ],
         "yaxis": "y3"
        },
        {
         "hovertemplate": "<b>%{hovertext}</b><br><br>subject=s8<br>region=frontal<br>event=stim<br>timepoint=%{x}<br>signal=%{y}<extra></extra>",
         "hovertext": [
          "s8",
          "s8",
          "s8",
          "s8",
          "s8",
          "s8",
          "s8",
          "s8",
          "s8",
          "s8",
          "s8",
          "s8",
          "s8",
          "s8",
          "s8",
          "s8",
          "s8",
          "s8",
          "s8"
         ],
         "legendgroup": "s8",
         "line": {
          "color": "#00cc96",
          "dash": "solid"
         },
         "marker": {
          "symbol": "circle"
         },
         "mode": "lines",
         "name": "s8",
         "showlegend": false,
         "type": "scattergl",
         "x": [
          0,
          1,
          2,
          3,
          4,
          5,
          6,
          7,
          8,
          9,
          10,
          11,
          12,
          13,
          14,
          15,
          16,
          17,
          18
         ],
         "xaxis": "x4",
         "y": [
          0.01885189399,
          -0.00923150443538,
          -0.0425319036155,
          -0.0470322474365,
          -0.0120831656004,
          0.0428114482292,
          0.0861197747276,
          0.102758652532,
          0.0875068441963,
          0.0468268440164,
          -0.00869981640303,
          -0.060692043695,
          -0.0968252969745,
          -0.109370504289,
          -0.102197957935,
          -0.0848246341162,
          -0.0645095884049,
          -0.0426573904883,
          -0.0111144370761
         ],
         "yaxis": "y4"
        },
        {
         "hovertemplate": "<b>%{hovertext}</b><br><br>subject=s8<br>region=parietal<br>event=cue<br>timepoint=%{x}<br>signal=%{y}<extra></extra>",
         "hovertext": [
          "s8",
          "s8",
          "s8",
          "s8",
          "s8",
          "s8",
          "s8",
          "s8",
          "s8",
          "s8",
          "s8",
          "s8",
          "s8",
          "s8",
          "s8",
          "s8",
          "s8",
          "s8",
          "s8"
         ],
         "legendgroup": "s8",
         "line": {
          "color": "#00cc96",
          "dash": "solid"
         },
         "marker": {
          "symbol": "circle"
         },
         "mode": "lines",
         "name": "s8",
         "showlegend": false,
         "type": "scattergl",
         "x": [
          0,
          1,
          2,
          3,
          4,
          5,
          6,
          7,
          8,
          9,
          10,
          11,
          12,
          13,
          14,
          15,
          16,
          17,
          18
         ],
         "xaxis": "x",
         "y": [
          -0.0154603315311,
          -0.0226751874055,
          -0.0215687171672,
          -0.000822886971583,
          0.0312011634308,
          0.0471362245382,
          0.0353399574933,
          0.00526227983545,
          -0.0234004944386,
          -0.0396636958433,
          -0.0459059592591999,
          -0.0459387027726,
          -0.0421123872143,
          -0.0264047266,
          -0.0072021608824799,
          0.0035904133751,
          0.000848484335915,
          -0.00591917445721,
          -0.0170971882592
         ],
         "yaxis": "y"
        },
        {
         "hovertemplate": "<b>%{hovertext}</b><br><br>subject=s8<br>region=parietal<br>event=stim<br>timepoint=%{x}<br>signal=%{y}<extra></extra>",
         "hovertext": [
          "s8",
          "s8",
          "s8",
          "s8",
          "s8",
          "s8",
          "s8",
          "s8",
          "s8",
          "s8",
          "s8",
          "s8",
          "s8",
          "s8",
          "s8",
          "s8",
          "s8",
          "s8",
          "s8"
         ],
         "legendgroup": "s8",
         "line": {
          "color": "#00cc96",
          "dash": "solid"
         },
         "marker": {
          "symbol": "circle"
         },
         "mode": "lines",
         "name": "s8",
         "showlegend": false,
         "type": "scattergl",
         "x": [
          0,
          1,
          2,
          3,
          4,
          5,
          6,
          7,
          8,
          9,
          10,
          11,
          12,
          13,
          14,
          15,
          16,
          17,
          18
         ],
         "xaxis": "x2",
         "y": [
          -0.0343397320837,
          -0.0495315318358,
          -0.0499640186404,
          -0.00612280734889,
          0.0931813640265,
          0.212854836433,
          0.298009042033,
          0.312811033675,
          0.263207487992,
          0.170226886344,
          0.0651975099421,
          -0.0280246228922,
          -0.0925108486782,
          -0.1239496932,
          -0.128447530062,
          -0.112577596942,
          -0.0930243109477,
          -0.0762871207962,
          -0.0644081947232
         ],
         "yaxis": "y2"
        },
        {
         "hovertemplate": "<b>%{hovertext}</b><br><br>subject=s9<br>region=frontal<br>event=cue<br>timepoint=%{x}<br>signal=%{y}<extra></extra>",
         "hovertext": [
          "s9",
          "s9",
          "s9",
          "s9",
          "s9",
          "s9",
          "s9",
          "s9",
          "s9",
          "s9",
          "s9",
          "s9",
          "s9",
          "s9",
          "s9",
          "s9",
          "s9",
          "s9",
          "s9"
         ],
         "legendgroup": "s9",
         "line": {
          "color": "#ab63fa",
          "dash": "solid"
         },
         "marker": {
          "symbol": "circle"
         },
         "mode": "lines",
         "name": "s9",
         "showlegend": true,
         "type": "scattergl",
         "x": [
          0,
          1,
          2,
          3,
          4,
          5,
          6,
          7,
          8,
          9,
          10,
          11,
          12,
          13,
          14,
          15,
          16,
          17,
          18
         ],
         "xaxis": "x3",
         "y": [
          -0.00811691318458,
          0.00534188564044,
          0.0279644197969,
          0.0485983896956,
          0.0549092195229,
          0.047047564862,
          0.0268635605066,
          0.0036425919011,
          -0.00872863201429,
          -0.00313320233461,
          0.0104634607701,
          0.0203803438083,
          0.0242915167749,
          0.0200739571079,
          0.0105354926644,
          0.00217020842832,
          -0.00428986666204,
          -0.0049004083947,
          -0.0006433163982769
         ],
         "yaxis": "y3"
        },
        {
         "hovertemplate": "<b>%{hovertext}</b><br><br>subject=s9<br>region=frontal<br>event=stim<br>timepoint=%{x}<br>signal=%{y}<extra></extra>",
         "hovertext": [
          "s9",
          "s9",
          "s9",
          "s9",
          "s9",
          "s9",
          "s9",
          "s9",
          "s9",
          "s9",
          "s9",
          "s9",
          "s9",
          "s9",
          "s9",
          "s9",
          "s9",
          "s9",
          "s9"
         ],
         "legendgroup": "s9",
         "line": {
          "color": "#ab63fa",
          "dash": "solid"
         },
         "marker": {
          "symbol": "circle"
         },
         "mode": "lines",
         "name": "s9",
         "showlegend": false,
         "type": "scattergl",
         "x": [
          0,
          1,
          2,
          3,
          4,
          5,
          6,
          7,
          8,
          9,
          10,
          11,
          12,
          13,
          14,
          15,
          16,
          17,
          18
         ],
         "xaxis": "x4",
         "y": [
          0.00288790240614,
          -0.0056164258793199,
          -0.0144415260014,
          0.00206339929542,
          0.0406362199858,
          0.0589526395155,
          0.0328062245407,
          -0.0182161587995,
          -0.0670740370935,
          -0.0965646954787,
          -0.101177843264,
          -0.0927582331524,
          -0.0836627537109,
          -0.0754838061033,
          -0.061817137103,
          -0.0480074675662,
          -0.0367394383882,
          -0.0300992820085,
          -0.00995933986682
         ],
         "yaxis": "y4"
        },
        {
         "hovertemplate": "<b>%{hovertext}</b><br><br>subject=s9<br>region=parietal<br>event=cue<br>timepoint=%{x}<br>signal=%{y}<extra></extra>",
         "hovertext": [
          "s9",
          "s9",
          "s9",
          "s9",
          "s9",
          "s9",
          "s9",
          "s9",
          "s9",
          "s9",
          "s9",
          "s9",
          "s9",
          "s9",
          "s9",
          "s9",
          "s9",
          "s9",
          "s9"
         ],
         "legendgroup": "s9",
         "line": {
          "color": "#ab63fa",
          "dash": "solid"
         },
         "marker": {
          "symbol": "circle"
         },
         "mode": "lines",
         "name": "s9",
         "showlegend": false,
         "type": "scattergl",
         "x": [
          0,
          1,
          2,
          3,
          4,
          5,
          6,
          7,
          8,
          9,
          10,
          11,
          12,
          13,
          14,
          15,
          16,
          17,
          18
         ],
         "xaxis": "x",
         "y": [
          -0.0289925765556,
          -0.0279145757214,
          -0.00977918768745,
          0.0292979500758,
          0.0611876749693,
          0.0558473095984,
          0.0173086844111,
          -0.0234819381623,
          -0.0398411196291,
          -0.0295463942763,
          -0.0135379597181,
          -0.00414114683393,
          -0.00404433151899,
          -0.0169703491926,
          -0.0343864557897,
          -0.0382567607244,
          -0.0353947901914,
          -0.0363623279856,
          -0.0510401728011
         ],
         "yaxis": "y"
        },
        {
         "hovertemplate": "<b>%{hovertext}</b><br><br>subject=s9<br>region=parietal<br>event=stim<br>timepoint=%{x}<br>signal=%{y}<extra></extra>",
         "hovertext": [
          "s9",
          "s9",
          "s9",
          "s9",
          "s9",
          "s9",
          "s9",
          "s9",
          "s9",
          "s9",
          "s9",
          "s9",
          "s9",
          "s9",
          "s9",
          "s9",
          "s9",
          "s9",
          "s9"
         ],
         "legendgroup": "s9",
         "line": {
          "color": "#ab63fa",
          "dash": "solid"
         },
         "marker": {
          "symbol": "circle"
         },
         "mode": "lines",
         "name": "s9",
         "showlegend": false,
         "type": "scattergl",
         "x": [
          0,
          1,
          2,
          3,
          4,
          5,
          6,
          7,
          8,
          9,
          10,
          11,
          12,
          13,
          14,
          15,
          16,
          17,
          18
         ],
         "xaxis": "x2",
         "y": [
          -0.0183692770271,
          -0.0127649638126,
          0.0406201814079,
          0.164445987706,
          0.307250437048,
          0.381495102897,
          0.345918074368,
          0.23823081562,
          0.121580532588,
          0.029052961628,
          -0.0323796382167,
          -0.072241225574,
          -0.0977889956938,
          -0.119383455482,
          -0.1302665983,
          -0.134828403383,
          -0.131640690822,
          -0.12157375579,
          -0.10351309616
         ],
         "yaxis": "y2"
        }
       ],
       "layout": {
        "annotations": [
         {
          "font": {},
          "showarrow": false,
          "text": "event=cue",
          "x": 0.24,
          "xanchor": "center",
          "xref": "paper",
          "y": 1,
          "yanchor": "bottom",
          "yref": "paper"
         },
         {
          "font": {},
          "showarrow": false,
          "text": "event=stim",
          "x": 0.74,
          "xanchor": "center",
          "xref": "paper",
          "y": 1,
          "yanchor": "bottom",
          "yref": "paper"
         },
         {
          "font": {},
          "showarrow": false,
          "text": "region=parietal",
          "textangle": 90,
          "x": 0.98,
          "xanchor": "left",
          "xref": "paper",
          "y": 0.2425,
          "yanchor": "middle",
          "yref": "paper"
         },
         {
          "font": {},
          "showarrow": false,
          "text": "region=frontal",
          "textangle": 90,
          "x": 0.98,
          "xanchor": "left",
          "xref": "paper",
          "y": 0.7575000000000001,
          "yanchor": "middle",
          "yref": "paper"
         }
        ],
        "legend": {
         "title": {
          "text": "subject"
         },
         "tracegroupgap": 0
        },
        "margin": {
         "t": 60
        },
        "template": {
         "data": {
          "bar": [
           {
            "error_x": {
             "color": "#2a3f5f"
            },
            "error_y": {
             "color": "#2a3f5f"
            },
            "marker": {
             "line": {
              "color": "#E5ECF6",
              "width": 0.5
             },
             "pattern": {
              "fillmode": "overlay",
              "size": 10,
              "solidity": 0.2
             }
            },
            "type": "bar"
           }
          ],
          "barpolar": [
           {
            "marker": {
             "line": {
              "color": "#E5ECF6",
              "width": 0.5
             },
             "pattern": {
              "fillmode": "overlay",
              "size": 10,
              "solidity": 0.2
             }
            },
            "type": "barpolar"
           }
          ],
          "carpet": [
           {
            "aaxis": {
             "endlinecolor": "#2a3f5f",
             "gridcolor": "white",
             "linecolor": "white",
             "minorgridcolor": "white",
             "startlinecolor": "#2a3f5f"
            },
            "baxis": {
             "endlinecolor": "#2a3f5f",
             "gridcolor": "white",
             "linecolor": "white",
             "minorgridcolor": "white",
             "startlinecolor": "#2a3f5f"
            },
            "type": "carpet"
           }
          ],
          "choropleth": [
           {
            "colorbar": {
             "outlinewidth": 0,
             "ticks": ""
            },
            "type": "choropleth"
           }
          ],
          "contour": [
           {
            "colorbar": {
             "outlinewidth": 0,
             "ticks": ""
            },
            "colorscale": [
             [
              0,
              "#0d0887"
             ],
             [
              0.1111111111111111,
              "#46039f"
             ],
             [
              0.2222222222222222,
              "#7201a8"
             ],
             [
              0.3333333333333333,
              "#9c179e"
             ],
             [
              0.4444444444444444,
              "#bd3786"
             ],
             [
              0.5555555555555556,
              "#d8576b"
             ],
             [
              0.6666666666666666,
              "#ed7953"
             ],
             [
              0.7777777777777778,
              "#fb9f3a"
             ],
             [
              0.8888888888888888,
              "#fdca26"
             ],
             [
              1,
              "#f0f921"
             ]
            ],
            "type": "contour"
           }
          ],
          "contourcarpet": [
           {
            "colorbar": {
             "outlinewidth": 0,
             "ticks": ""
            },
            "type": "contourcarpet"
           }
          ],
          "heatmap": [
           {
            "colorbar": {
             "outlinewidth": 0,
             "ticks": ""
            },
            "colorscale": [
             [
              0,
              "#0d0887"
             ],
             [
              0.1111111111111111,
              "#46039f"
             ],
             [
              0.2222222222222222,
              "#7201a8"
             ],
             [
              0.3333333333333333,
              "#9c179e"
             ],
             [
              0.4444444444444444,
              "#bd3786"
             ],
             [
              0.5555555555555556,
              "#d8576b"
             ],
             [
              0.6666666666666666,
              "#ed7953"
             ],
             [
              0.7777777777777778,
              "#fb9f3a"
             ],
             [
              0.8888888888888888,
              "#fdca26"
             ],
             [
              1,
              "#f0f921"
             ]
            ],
            "type": "heatmap"
           }
          ],
          "heatmapgl": [
           {
            "colorbar": {
             "outlinewidth": 0,
             "ticks": ""
            },
            "colorscale": [
             [
              0,
              "#0d0887"
             ],
             [
              0.1111111111111111,
              "#46039f"
             ],
             [
              0.2222222222222222,
              "#7201a8"
             ],
             [
              0.3333333333333333,
              "#9c179e"
             ],
             [
              0.4444444444444444,
              "#bd3786"
             ],
             [
              0.5555555555555556,
              "#d8576b"
             ],
             [
              0.6666666666666666,
              "#ed7953"
             ],
             [
              0.7777777777777778,
              "#fb9f3a"
             ],
             [
              0.8888888888888888,
              "#fdca26"
             ],
             [
              1,
              "#f0f921"
             ]
            ],
            "type": "heatmapgl"
           }
          ],
          "histogram": [
           {
            "marker": {
             "pattern": {
              "fillmode": "overlay",
              "size": 10,
              "solidity": 0.2
             }
            },
            "type": "histogram"
           }
          ],
          "histogram2d": [
           {
            "colorbar": {
             "outlinewidth": 0,
             "ticks": ""
            },
            "colorscale": [
             [
              0,
              "#0d0887"
             ],
             [
              0.1111111111111111,
              "#46039f"
             ],
             [
              0.2222222222222222,
              "#7201a8"
             ],
             [
              0.3333333333333333,
              "#9c179e"
             ],
             [
              0.4444444444444444,
              "#bd3786"
             ],
             [
              0.5555555555555556,
              "#d8576b"
             ],
             [
              0.6666666666666666,
              "#ed7953"
             ],
             [
              0.7777777777777778,
              "#fb9f3a"
             ],
             [
              0.8888888888888888,
              "#fdca26"
             ],
             [
              1,
              "#f0f921"
             ]
            ],
            "type": "histogram2d"
           }
          ],
          "histogram2dcontour": [
           {
            "colorbar": {
             "outlinewidth": 0,
             "ticks": ""
            },
            "colorscale": [
             [
              0,
              "#0d0887"
             ],
             [
              0.1111111111111111,
              "#46039f"
             ],
             [
              0.2222222222222222,
              "#7201a8"
             ],
             [
              0.3333333333333333,
              "#9c179e"
             ],
             [
              0.4444444444444444,
              "#bd3786"
             ],
             [
              0.5555555555555556,
              "#d8576b"
             ],
             [
              0.6666666666666666,
              "#ed7953"
             ],
             [
              0.7777777777777778,
              "#fb9f3a"
             ],
             [
              0.8888888888888888,
              "#fdca26"
             ],
             [
              1,
              "#f0f921"
             ]
            ],
            "type": "histogram2dcontour"
           }
          ],
          "mesh3d": [
           {
            "colorbar": {
             "outlinewidth": 0,
             "ticks": ""
            },
            "type": "mesh3d"
           }
          ],
          "parcoords": [
           {
            "line": {
             "colorbar": {
              "outlinewidth": 0,
              "ticks": ""
             }
            },
            "type": "parcoords"
           }
          ],
          "pie": [
           {
            "automargin": true,
            "type": "pie"
           }
          ],
          "scatter": [
           {
            "fillpattern": {
             "fillmode": "overlay",
             "size": 10,
             "solidity": 0.2
            },
            "type": "scatter"
           }
          ],
          "scatter3d": [
           {
            "line": {
             "colorbar": {
              "outlinewidth": 0,
              "ticks": ""
             }
            },
            "marker": {
             "colorbar": {
              "outlinewidth": 0,
              "ticks": ""
             }
            },
            "type": "scatter3d"
           }
          ],
          "scattercarpet": [
           {
            "marker": {
             "colorbar": {
              "outlinewidth": 0,
              "ticks": ""
             }
            },
            "type": "scattercarpet"
           }
          ],
          "scattergeo": [
           {
            "marker": {
             "colorbar": {
              "outlinewidth": 0,
              "ticks": ""
             }
            },
            "type": "scattergeo"
           }
          ],
          "scattergl": [
           {
            "marker": {
             "colorbar": {
              "outlinewidth": 0,
              "ticks": ""
             }
            },
            "type": "scattergl"
           }
          ],
          "scattermapbox": [
           {
            "marker": {
             "colorbar": {
              "outlinewidth": 0,
              "ticks": ""
             }
            },
            "type": "scattermapbox"
           }
          ],
          "scatterpolar": [
           {
            "marker": {
             "colorbar": {
              "outlinewidth": 0,
              "ticks": ""
             }
            },
            "type": "scatterpolar"
           }
          ],
          "scatterpolargl": [
           {
            "marker": {
             "colorbar": {
              "outlinewidth": 0,
              "ticks": ""
             }
            },
            "type": "scatterpolargl"
           }
          ],
          "scatterternary": [
           {
            "marker": {
             "colorbar": {
              "outlinewidth": 0,
              "ticks": ""
             }
            },
            "type": "scatterternary"
           }
          ],
          "surface": [
           {
            "colorbar": {
             "outlinewidth": 0,
             "ticks": ""
            },
            "colorscale": [
             [
              0,
              "#0d0887"
             ],
             [
              0.1111111111111111,
              "#46039f"
             ],
             [
              0.2222222222222222,
              "#7201a8"
             ],
             [
              0.3333333333333333,
              "#9c179e"
             ],
             [
              0.4444444444444444,
              "#bd3786"
             ],
             [
              0.5555555555555556,
              "#d8576b"
             ],
             [
              0.6666666666666666,
              "#ed7953"
             ],
             [
              0.7777777777777778,
              "#fb9f3a"
             ],
             [
              0.8888888888888888,
              "#fdca26"
             ],
             [
              1,
              "#f0f921"
             ]
            ],
            "type": "surface"
           }
          ],
          "table": [
           {
            "cells": {
             "fill": {
              "color": "#EBF0F8"
             },
             "line": {
              "color": "white"
             }
            },
            "header": {
             "fill": {
              "color": "#C8D4E3"
             },
             "line": {
              "color": "white"
             }
            },
            "type": "table"
           }
          ]
         },
         "layout": {
          "annotationdefaults": {
           "arrowcolor": "#2a3f5f",
           "arrowhead": 0,
           "arrowwidth": 1
          },
          "autotypenumbers": "strict",
          "coloraxis": {
           "colorbar": {
            "outlinewidth": 0,
            "ticks": ""
           }
          },
          "colorscale": {
           "diverging": [
            [
             0,
             "#8e0152"
            ],
            [
             0.1,
             "#c51b7d"
            ],
            [
             0.2,
             "#de77ae"
            ],
            [
             0.3,
             "#f1b6da"
            ],
            [
             0.4,
             "#fde0ef"
            ],
            [
             0.5,
             "#f7f7f7"
            ],
            [
             0.6,
             "#e6f5d0"
            ],
            [
             0.7,
             "#b8e186"
            ],
            [
             0.8,
             "#7fbc41"
            ],
            [
             0.9,
             "#4d9221"
            ],
            [
             1,
             "#276419"
            ]
           ],
           "sequential": [
            [
             0,
             "#0d0887"
            ],
            [
             0.1111111111111111,
             "#46039f"
            ],
            [
             0.2222222222222222,
             "#7201a8"
            ],
            [
             0.3333333333333333,
             "#9c179e"
            ],
            [
             0.4444444444444444,
             "#bd3786"
            ],
            [
             0.5555555555555556,
             "#d8576b"
            ],
            [
             0.6666666666666666,
             "#ed7953"
            ],
            [
             0.7777777777777778,
             "#fb9f3a"
            ],
            [
             0.8888888888888888,
             "#fdca26"
            ],
            [
             1,
             "#f0f921"
            ]
           ],
           "sequentialminus": [
            [
             0,
             "#0d0887"
            ],
            [
             0.1111111111111111,
             "#46039f"
            ],
            [
             0.2222222222222222,
             "#7201a8"
            ],
            [
             0.3333333333333333,
             "#9c179e"
            ],
            [
             0.4444444444444444,
             "#bd3786"
            ],
            [
             0.5555555555555556,
             "#d8576b"
            ],
            [
             0.6666666666666666,
             "#ed7953"
            ],
            [
             0.7777777777777778,
             "#fb9f3a"
            ],
            [
             0.8888888888888888,
             "#fdca26"
            ],
            [
             1,
             "#f0f921"
            ]
           ]
          },
          "colorway": [
           "#636efa",
           "#EF553B",
           "#00cc96",
           "#ab63fa",
           "#FFA15A",
           "#19d3f3",
           "#FF6692",
           "#B6E880",
           "#FF97FF",
           "#FECB52"
          ],
          "font": {
           "color": "#2a3f5f"
          },
          "geo": {
           "bgcolor": "white",
           "lakecolor": "white",
           "landcolor": "#E5ECF6",
           "showlakes": true,
           "showland": true,
           "subunitcolor": "white"
          },
          "hoverlabel": {
           "align": "left"
          },
          "hovermode": "closest",
          "mapbox": {
           "style": "light"
          },
          "paper_bgcolor": "white",
          "plot_bgcolor": "#E5ECF6",
          "polar": {
           "angularaxis": {
            "gridcolor": "white",
            "linecolor": "white",
            "ticks": ""
           },
           "bgcolor": "#E5ECF6",
           "radialaxis": {
            "gridcolor": "white",
            "linecolor": "white",
            "ticks": ""
           }
          },
          "scene": {
           "xaxis": {
            "backgroundcolor": "#E5ECF6",
            "gridcolor": "white",
            "gridwidth": 2,
            "linecolor": "white",
            "showbackground": true,
            "ticks": "",
            "zerolinecolor": "white"
           },
           "yaxis": {
            "backgroundcolor": "#E5ECF6",
            "gridcolor": "white",
            "gridwidth": 2,
            "linecolor": "white",
            "showbackground": true,
            "ticks": "",
            "zerolinecolor": "white"
           },
           "zaxis": {
            "backgroundcolor": "#E5ECF6",
            "gridcolor": "white",
            "gridwidth": 2,
            "linecolor": "white",
            "showbackground": true,
            "ticks": "",
            "zerolinecolor": "white"
           }
          },
          "shapedefaults": {
           "line": {
            "color": "#2a3f5f"
           }
          },
          "ternary": {
           "aaxis": {
            "gridcolor": "white",
            "linecolor": "white",
            "ticks": ""
           },
           "baxis": {
            "gridcolor": "white",
            "linecolor": "white",
            "ticks": ""
           },
           "bgcolor": "#E5ECF6",
           "caxis": {
            "gridcolor": "white",
            "linecolor": "white",
            "ticks": ""
           }
          },
          "title": {
           "x": 0.05
          },
          "xaxis": {
           "automargin": true,
           "gridcolor": "white",
           "linecolor": "white",
           "ticks": "",
           "title": {
            "standoff": 15
           },
           "zerolinecolor": "white",
           "zerolinewidth": 2
          },
          "yaxis": {
           "automargin": true,
           "gridcolor": "white",
           "linecolor": "white",
           "ticks": "",
           "title": {
            "standoff": 15
           },
           "zerolinecolor": "white",
           "zerolinewidth": 2
          }
         }
        },
        "xaxis": {
         "anchor": "y",
         "domain": [
          0,
          0.48
         ],
         "title": {
          "text": "timepoint"
         }
        },
        "xaxis2": {
         "anchor": "y2",
         "domain": [
          0.5,
          0.98
         ],
         "matches": "x",
         "title": {
          "text": "timepoint"
         }
        },
        "xaxis3": {
         "anchor": "y3",
         "domain": [
          0,
          0.48
         ],
         "matches": "x",
         "showticklabels": false
        },
        "xaxis4": {
         "anchor": "y4",
         "domain": [
          0.5,
          0.98
         ],
         "matches": "x",
         "showticklabels": false
        },
        "yaxis": {
         "anchor": "x",
         "domain": [
          0,
          0.485
         ],
         "title": {
          "text": "signal"
         }
        },
        "yaxis2": {
         "anchor": "x2",
         "domain": [
          0,
          0.485
         ],
         "matches": "y",
         "showticklabels": false
        },
        "yaxis3": {
         "anchor": "x3",
         "domain": [
          0.515,
          1
         ],
         "matches": "y",
         "title": {
          "text": "signal"
         }
        },
        "yaxis4": {
         "anchor": "x4",
         "domain": [
          0.515,
          1
         ],
         "matches": "y",
         "showticklabels": false
        }
       }
      }
     },
     "metadata": {},
     "output_type": "display_data"
    }
   ],
   "source": [
    "px.line(fmri, x=\"timepoint\", y=\"signal\", facet_row=\"region\", facet_col=\"event\", color=\"subject\",\n",
    "        hover_name=\"subject\")"
   ]
  },
  {
   "cell_type": "markdown",
   "metadata": {},
   "source": [
    "## Stock evolution dataset"
   ]
  },
  {
   "cell_type": "code",
   "execution_count": 22,
   "metadata": {},
   "outputs": [
    {
     "data": {
      "text/html": [
       "<div>\n",
       "<style scoped>\n",
       "    .dataframe tbody tr th:only-of-type {\n",
       "        vertical-align: middle;\n",
       "    }\n",
       "\n",
       "    .dataframe tbody tr th {\n",
       "        vertical-align: top;\n",
       "    }\n",
       "\n",
       "    .dataframe thead th {\n",
       "        text-align: right;\n",
       "    }\n",
       "</style>\n",
       "<table border=\"1\" class=\"dataframe\">\n",
       "  <thead>\n",
       "    <tr style=\"text-align: right;\">\n",
       "      <th>company</th>\n",
       "      <th>GOOG</th>\n",
       "      <th>AAPL</th>\n",
       "      <th>AMZN</th>\n",
       "      <th>FB</th>\n",
       "      <th>NFLX</th>\n",
       "      <th>MSFT</th>\n",
       "    </tr>\n",
       "    <tr>\n",
       "      <th>date</th>\n",
       "      <th></th>\n",
       "      <th></th>\n",
       "      <th></th>\n",
       "      <th></th>\n",
       "      <th></th>\n",
       "      <th></th>\n",
       "    </tr>\n",
       "  </thead>\n",
       "  <tbody>\n",
       "    <tr>\n",
       "      <th>2018-01-01</th>\n",
       "      <td>1.000000</td>\n",
       "      <td>1.000000</td>\n",
       "      <td>1.000000</td>\n",
       "      <td>1.000000</td>\n",
       "      <td>1.000000</td>\n",
       "      <td>1.000000</td>\n",
       "    </tr>\n",
       "    <tr>\n",
       "      <th>2018-01-08</th>\n",
       "      <td>1.018172</td>\n",
       "      <td>1.011943</td>\n",
       "      <td>1.061881</td>\n",
       "      <td>0.959968</td>\n",
       "      <td>1.053526</td>\n",
       "      <td>1.015988</td>\n",
       "    </tr>\n",
       "    <tr>\n",
       "      <th>2018-01-15</th>\n",
       "      <td>1.032008</td>\n",
       "      <td>1.019771</td>\n",
       "      <td>1.053240</td>\n",
       "      <td>0.970243</td>\n",
       "      <td>1.049860</td>\n",
       "      <td>1.020524</td>\n",
       "    </tr>\n",
       "    <tr>\n",
       "      <th>2018-01-22</th>\n",
       "      <td>1.066783</td>\n",
       "      <td>0.980057</td>\n",
       "      <td>1.140676</td>\n",
       "      <td>1.016858</td>\n",
       "      <td>1.307681</td>\n",
       "      <td>1.066561</td>\n",
       "    </tr>\n",
       "    <tr>\n",
       "      <th>2018-01-29</th>\n",
       "      <td>1.008773</td>\n",
       "      <td>0.917143</td>\n",
       "      <td>1.163374</td>\n",
       "      <td>1.018357</td>\n",
       "      <td>1.273537</td>\n",
       "      <td>1.040708</td>\n",
       "    </tr>\n",
       "  </tbody>\n",
       "</table>\n",
       "</div>"
      ],
      "text/plain": [
       "company         GOOG      AAPL      AMZN        FB      NFLX      MSFT\n",
       "date                                                                  \n",
       "2018-01-01  1.000000  1.000000  1.000000  1.000000  1.000000  1.000000\n",
       "2018-01-08  1.018172  1.011943  1.061881  0.959968  1.053526  1.015988\n",
       "2018-01-15  1.032008  1.019771  1.053240  0.970243  1.049860  1.020524\n",
       "2018-01-22  1.066783  0.980057  1.140676  1.016858  1.307681  1.066561\n",
       "2018-01-29  1.008773  0.917143  1.163374  1.018357  1.273537  1.040708"
      ]
     },
     "execution_count": 22,
     "metadata": {},
     "output_type": "execute_result"
    }
   ],
   "source": [
    "stocks = px.data.stocks(indexed=True)\n",
    "stocks.head()"
   ]
  },
  {
   "cell_type": "code",
   "execution_count": 25,
   "metadata": {},
   "outputs": [
    {
     "data": {
      "application/vnd.plotly.v1+json": {
       "config": {
        "plotlyServerURL": "https://plot.ly"
       },
       "data": [
        {
         "hovertemplate": "company=GOOG<br>date=%{x}<br>value=%{y}<extra></extra>",
         "legendgroup": "GOOG",
         "line": {
          "color": "#636efa",
          "dash": "solid",
          "shape": "spline"
         },
         "marker": {
          "symbol": "circle"
         },
         "mode": "lines",
         "name": "GOOG",
         "orientation": "v",
         "showlegend": true,
         "type": "scatter",
         "x": [
          "2018-01-01",
          "2018-01-08",
          "2018-01-15",
          "2018-01-22",
          "2018-01-29",
          "2018-02-05",
          "2018-02-12",
          "2018-02-19",
          "2018-02-26",
          "2018-03-05",
          "2018-03-12",
          "2018-03-19",
          "2018-03-26",
          "2018-04-02",
          "2018-04-09",
          "2018-04-16",
          "2018-04-23",
          "2018-04-30",
          "2018-05-07",
          "2018-05-14",
          "2018-05-21",
          "2018-05-28",
          "2018-06-04",
          "2018-06-11",
          "2018-06-18",
          "2018-06-25",
          "2018-07-02",
          "2018-07-09",
          "2018-07-16",
          "2018-07-23",
          "2018-07-30",
          "2018-08-06",
          "2018-08-13",
          "2018-08-20",
          "2018-08-27",
          "2018-09-03",
          "2018-09-10",
          "2018-09-17",
          "2018-09-24",
          "2018-10-01",
          "2018-10-08",
          "2018-10-15",
          "2018-10-22",
          "2018-10-29",
          "2018-11-05",
          "2018-11-12",
          "2018-11-19",
          "2018-11-26",
          "2018-12-03",
          "2018-12-10",
          "2018-12-17",
          "2018-12-24",
          "2018-12-31",
          "2019-01-07",
          "2019-01-14",
          "2019-01-21",
          "2019-01-28",
          "2019-02-04",
          "2019-02-11",
          "2019-02-18",
          "2019-02-25",
          "2019-03-04",
          "2019-03-11",
          "2019-03-18",
          "2019-03-25",
          "2019-04-01",
          "2019-04-08",
          "2019-04-15",
          "2019-04-22",
          "2019-04-29",
          "2019-05-06",
          "2019-05-13",
          "2019-05-20",
          "2019-05-27",
          "2019-06-03",
          "2019-06-10",
          "2019-06-17",
          "2019-06-24",
          "2019-07-01",
          "2019-07-08",
          "2019-07-15",
          "2019-07-22",
          "2019-07-29",
          "2019-08-05",
          "2019-08-12",
          "2019-08-19",
          "2019-08-26",
          "2019-09-02",
          "2019-09-09",
          "2019-09-16",
          "2019-09-23",
          "2019-09-30",
          "2019-10-07",
          "2019-10-14",
          "2019-10-21",
          "2019-10-28",
          "2019-11-04",
          "2019-11-11",
          "2019-11-18",
          "2019-11-25",
          "2019-12-02",
          "2019-12-09",
          "2019-12-16",
          "2019-12-23",
          "2019-12-30"
         ],
         "xaxis": "x",
         "y": [
          1,
          1.018172278347936,
          1.032007866452698,
          1.066782783389724,
          1.0087731636550117,
          0.9415276737437316,
          0.99325918262539,
          1.0222821547641083,
          0.9788520214265992,
          1.0524482730908842,
          1.0303929312465263,
          0.926821104067592,
          0.9360932452590338,
          0.913638710861412,
          0.93380695379017,
          0.9734447261178653,
          0.9345146364100892,
          0.9509902470625956,
          0.9963982380519172,
          0.9674568868105002,
          0.9758943718805396,
          1.015668254641377,
          1.0169111849053498,
          1.0453898287179595,
          1.0483111519067918,
          1.0121753574512644,
          1.0344211867653972,
          1.0785588920381208,
          1.075011617811375,
          1.1236312044424703,
          1.1102129167272332,
          1.1228237368393843,
          1.0895729410299655,
          1.1074367837463466,
          1.1052048693141154,
          1.0567939333314087,
          1.0637798374890872,
          1.0579370795194665,
          1.0827776350267664,
          1.0500077089175164,
          1.007121903906116,
          0.9947651405743836,
          0.9720929301886708,
          0.959681788913054,
          0.9672663993407256,
          0.9630385756700248,
          0.9289168536315806,
          0.992923504040418,
          0.9404389054995582,
          0.945446952912676,
          0.8886892896888904,
          0.9408925313390586,
          0.9714034098401132,
          0.9591373489949891,
          0.9963982380519172,
          0.989802500200548,
          1.0077298024501202,
          0.9934950771344468,
          1.0103608540932627,
          1.0073850422758417,
          1.035165084150587,
          1.0363716889645844,
          1.0746032883264525,
          1.0936918990354445,
          1.064487521016258,
          1.095188886079836,
          1.1049145977684258,
          1.1216987538299403,
          1.1541874899828073,
          1.075456162061569,
          1.0562859304552756,
          1.0544986709579427,
          1.0283425342867192,
          1.001270175031893,
          0.9671666152648106,
          0.98468558802946,
          1.0178275181736574,
          0.980657443195294,
          1.0266368965939394,
          1.0387124690620373,
          1.025285100664745,
          1.1344366027859267,
          1.0832494231376286,
          1.0778240762422375,
          1.068379555417282,
          1.0445098208996275,
          1.0779056980467905,
          1.0931748145700046,
          1.12459294475006,
          1.115856106545024,
          1.1114649285805127,
          1.0968672799119472,
          1.10271900878617,
          1.129972884606169,
          1.1477913211905195,
          1.155602744537941,
          1.189742629754999,
          1.2110630442115171,
          1.1751993590303178,
          1.183927115646047,
          1.216279741365772,
          1.222820990588552,
          1.22441776261611,
          1.2265044859331442,
          1.213013658002661
         ],
         "yaxis": "y"
        },
        {
         "hovertemplate": "company=AAPL<br>date=%{x}<br>value=%{y}<extra></extra>",
         "legendgroup": "AAPL",
         "line": {
          "color": "#EF553B",
          "dash": "solid",
          "shape": "spline"
         },
         "marker": {
          "symbol": "circle"
         },
         "mode": "lines",
         "name": "AAPL",
         "orientation": "v",
         "showlegend": true,
         "type": "scatter",
         "x": [
          "2018-01-01",
          "2018-01-08",
          "2018-01-15",
          "2018-01-22",
          "2018-01-29",
          "2018-02-05",
          "2018-02-12",
          "2018-02-19",
          "2018-02-26",
          "2018-03-05",
          "2018-03-12",
          "2018-03-19",
          "2018-03-26",
          "2018-04-02",
          "2018-04-09",
          "2018-04-16",
          "2018-04-23",
          "2018-04-30",
          "2018-05-07",
          "2018-05-14",
          "2018-05-21",
          "2018-05-28",
          "2018-06-04",
          "2018-06-11",
          "2018-06-18",
          "2018-06-25",
          "2018-07-02",
          "2018-07-09",
          "2018-07-16",
          "2018-07-23",
          "2018-07-30",
          "2018-08-06",
          "2018-08-13",
          "2018-08-20",
          "2018-08-27",
          "2018-09-03",
          "2018-09-10",
          "2018-09-17",
          "2018-09-24",
          "2018-10-01",
          "2018-10-08",
          "2018-10-15",
          "2018-10-22",
          "2018-10-29",
          "2018-11-05",
          "2018-11-12",
          "2018-11-19",
          "2018-11-26",
          "2018-12-03",
          "2018-12-10",
          "2018-12-17",
          "2018-12-24",
          "2018-12-31",
          "2019-01-07",
          "2019-01-14",
          "2019-01-21",
          "2019-01-28",
          "2019-02-04",
          "2019-02-11",
          "2019-02-18",
          "2019-02-25",
          "2019-03-04",
          "2019-03-11",
          "2019-03-18",
          "2019-03-25",
          "2019-04-01",
          "2019-04-08",
          "2019-04-15",
          "2019-04-22",
          "2019-04-29",
          "2019-05-06",
          "2019-05-13",
          "2019-05-20",
          "2019-05-27",
          "2019-06-03",
          "2019-06-10",
          "2019-06-17",
          "2019-06-24",
          "2019-07-01",
          "2019-07-08",
          "2019-07-15",
          "2019-07-22",
          "2019-07-29",
          "2019-08-05",
          "2019-08-12",
          "2019-08-19",
          "2019-08-26",
          "2019-09-02",
          "2019-09-09",
          "2019-09-16",
          "2019-09-23",
          "2019-09-30",
          "2019-10-07",
          "2019-10-14",
          "2019-10-21",
          "2019-10-28",
          "2019-11-04",
          "2019-11-11",
          "2019-11-18",
          "2019-11-25",
          "2019-12-02",
          "2019-12-09",
          "2019-12-16",
          "2019-12-23",
          "2019-12-30"
         ],
         "xaxis": "x",
         "y": [
          1,
          1.0119428342857142,
          1.0197714685714288,
          0.9800571142857144,
          0.9171428571428571,
          0.8937714514285715,
          0.9853142457142856,
          1.002857142857143,
          1.006914325714286,
          1.02845712,
          1.0172571657142857,
          0.9425142971428572,
          0.9587428514285714,
          0.9621714571428572,
          0.99845712,
          0.9469714342857144,
          0.9275428971428572,
          1.0504571542857144,
          1.07765712,
          1.06462856,
          1.0776000114285715,
          1.0870857428571428,
          1.0954285542857145,
          1.0790856914285714,
          1.0566857028571428,
          1.0577714342857143,
          1.0741142914285715,
          1.093314297142857,
          1.0939428685714283,
          1.0913142628571428,
          1.1885143142857142,
          1.1858857085714285,
          1.2433142971428572,
          1.235200022857143,
          1.3007428857142855,
          1.2645714457142856,
          1.279085691428571,
          1.2437714514285716,
          1.2899428857142856,
          1.2816571028571428,
          1.2692000057142856,
          1.253199988571429,
          1.236000017142857,
          1.1855999771428571,
          1.1684000057142856,
          1.1058857085714286,
          0.9845142457142856,
          1.0204571542857144,
          0.9628000285714284,
          0.9455999771428572,
          0.8613142628571429,
          0.8927428342857143,
          0.8471999714285714,
          0.8702285314285714,
          0.8961143257142857,
          0.9014856857142858,
          0.95154288,
          0.9737714514285716,
          0.97382856,
          0.9884000057142855,
          0.9998285771428572,
          0.9880571657142858,
          1.0635428285714286,
          1.0917143028571428,
          1.0854285542857145,
          1.1257142857142857,
          1.1363999714285713,
          1.1649142914285715,
          1.1674285885714286,
          1.21,
          1.126742817142857,
          1.08,
          1.02268572,
          1.00040004,
          1.0865713942857145,
          1.1013714571428572,
          1.135885708571429,
          1.130971417142857,
          1.167028548571429,
          1.1617143028571428,
          1.15765712,
          1.1870857428571429,
          1.1658285942857145,
          1.1485143142857142,
          1.18,
          1.1579428514285717,
          1.1928000285714286,
          1.218628542857143,
          1.25,
          1.2441714057142856,
          1.25040004,
          1.2971999714285716,
          1.3497714685714286,
          1.3509143085714286,
          1.409028582857143,
          1.4618286114285712,
          1.4865143714285716,
          1.5186286285714288,
          1.4958857085714288,
          1.5271428571428571,
          1.5469142342857145,
          1.57228568,
          1.5968000114285714,
          1.6559999314285714,
          1.6779999657142857
         ],
         "yaxis": "y"
        },
        {
         "hovertemplate": "company=AMZN<br>date=%{x}<br>value=%{y}<extra></extra>",
         "legendgroup": "AMZN",
         "line": {
          "color": "#00cc96",
          "dash": "solid",
          "shape": "spline"
         },
         "marker": {
          "symbol": "circle"
         },
         "mode": "lines",
         "name": "AMZN",
         "orientation": "v",
         "showlegend": true,
         "type": "scatter",
         "x": [
          "2018-01-01",
          "2018-01-08",
          "2018-01-15",
          "2018-01-22",
          "2018-01-29",
          "2018-02-05",
          "2018-02-12",
          "2018-02-19",
          "2018-02-26",
          "2018-03-05",
          "2018-03-12",
          "2018-03-19",
          "2018-03-26",
          "2018-04-02",
          "2018-04-09",
          "2018-04-16",
          "2018-04-23",
          "2018-04-30",
          "2018-05-07",
          "2018-05-14",
          "2018-05-21",
          "2018-05-28",
          "2018-06-04",
          "2018-06-11",
          "2018-06-18",
          "2018-06-25",
          "2018-07-02",
          "2018-07-09",
          "2018-07-16",
          "2018-07-23",
          "2018-07-30",
          "2018-08-06",
          "2018-08-13",
          "2018-08-20",
          "2018-08-27",
          "2018-09-03",
          "2018-09-10",
          "2018-09-17",
          "2018-09-24",
          "2018-10-01",
          "2018-10-08",
          "2018-10-15",
          "2018-10-22",
          "2018-10-29",
          "2018-11-05",
          "2018-11-12",
          "2018-11-19",
          "2018-11-26",
          "2018-12-03",
          "2018-12-10",
          "2018-12-17",
          "2018-12-24",
          "2018-12-31",
          "2019-01-07",
          "2019-01-14",
          "2019-01-21",
          "2019-01-28",
          "2019-02-04",
          "2019-02-11",
          "2019-02-18",
          "2019-02-25",
          "2019-03-04",
          "2019-03-11",
          "2019-03-18",
          "2019-03-25",
          "2019-04-01",
          "2019-04-08",
          "2019-04-15",
          "2019-04-22",
          "2019-04-29",
          "2019-05-06",
          "2019-05-13",
          "2019-05-20",
          "2019-05-27",
          "2019-06-03",
          "2019-06-10",
          "2019-06-17",
          "2019-06-24",
          "2019-07-01",
          "2019-07-08",
          "2019-07-15",
          "2019-07-22",
          "2019-07-29",
          "2019-08-05",
          "2019-08-12",
          "2019-08-19",
          "2019-08-26",
          "2019-09-02",
          "2019-09-09",
          "2019-09-16",
          "2019-09-23",
          "2019-09-30",
          "2019-10-07",
          "2019-10-14",
          "2019-10-21",
          "2019-10-28",
          "2019-11-04",
          "2019-11-11",
          "2019-11-18",
          "2019-11-25",
          "2019-12-02",
          "2019-12-09",
          "2019-12-16",
          "2019-12-23",
          "2019-12-30"
         ],
         "xaxis": "x",
         "y": [
          1,
          1.0618806117055757,
          1.0532404284307677,
          1.1406756202628388,
          1.1633743377885228,
          1.0898676795580526,
          1.1786207619316666,
          1.2203654438831366,
          1.2205688381237838,
          1.284548542665418,
          1.2786826844946546,
          1.2167532101702832,
          1.1775224533715958,
          1.1432627388670606,
          1.16405781403187,
          1.242730666448932,
          1.2794473988384474,
          1.2862244591394254,
          1.3040906767647622,
          1.2808711585229775,
          1.3099809658381354,
          1.3355191588974509,
          1.3700554610940725,
          1.3960736368996989,
          1.3958296232020404,
          1.3829181608736414,
          1.391729163581091,
          1.4750394640760272,
          1.4755844971819587,
          1.4784890230752108,
          1.4833867718479574,
          1.5346502643964448,
          1.5313308069300795,
          1.5501814209506477,
          1.637494456642517,
          1.5881591374274802,
          1.6029011479217037,
          1.5580080272628667,
          1.6295946560652816,
          1.5373757268816928,
          1.4551718788522234,
          1.435174192909178,
          1.3365524179114776,
          1.3550368620941855,
          1.3931936419790223,
          1.2963616956201691,
          1.22204146042711,
          1.375083410656027,
          1.3254226411301075,
          1.295141330176286,
          1.1206615472526131,
          1.202483038516975,
          1.2817010232963573,
          1.334721869745653,
          1.3799892040777797,
          1.359137222458745,
          1.3230632475991762,
          1.2921391799289847,
          1.3081910371293215,
          1.3273996770823542,
          1.3600809993969647,
          1.3186455808291295,
          1.393136635454831,
          1.435776232539301,
          1.4487771761299302,
          1.4947687054188046,
          1.4994712046698764,
          1.5146280474808236,
          1.5869876346023932,
          1.596612214272432,
          1.537644171481961,
          1.5205753430783882,
          1.483378627942562,
          1.44415601504927,
          1.4677172714127285,
          1.521120475440709,
          1.5549896884611636,
          1.540613747734834,
          1.58070684404494,
          1.6361032717659916,
          1.5982882308164057,
          1.5808207570233568,
          1.4833460531345568,
          1.4706054102388,
          1.4583936118945735,
          1.4234505212166575,
          1.445148654606286,
          1.491701504811883,
          1.4964446227063888,
          1.4596872708598625,
          1.4037863302335007,
          1.4153391824933792,
          1.4090502488441077,
          1.4298696556551374,
          1.43297747571907,
          1.4574742658589632,
          1.452950830015895,
          1.4152089825177483,
          1.420277551536714,
          1.465089434095106,
          1.425061388144621,
          1.4326601685000062,
          1.4534552436648156,
          1.52122624451373,
          1.503360026888393
         ],
         "yaxis": "y"
        },
        {
         "hovertemplate": "company=FB<br>date=%{x}<br>value=%{y}<extra></extra>",
         "legendgroup": "FB",
         "line": {
          "color": "#ab63fa",
          "dash": "solid",
          "shape": "spline"
         },
         "marker": {
          "symbol": "circle"
         },
         "mode": "lines",
         "name": "FB",
         "orientation": "v",
         "showlegend": true,
         "type": "scatter",
         "x": [
          "2018-01-01",
          "2018-01-08",
          "2018-01-15",
          "2018-01-22",
          "2018-01-29",
          "2018-02-05",
          "2018-02-12",
          "2018-02-19",
          "2018-02-26",
          "2018-03-05",
          "2018-03-12",
          "2018-03-19",
          "2018-03-26",
          "2018-04-02",
          "2018-04-09",
          "2018-04-16",
          "2018-04-23",
          "2018-04-30",
          "2018-05-07",
          "2018-05-14",
          "2018-05-21",
          "2018-05-28",
          "2018-06-04",
          "2018-06-11",
          "2018-06-18",
          "2018-06-25",
          "2018-07-02",
          "2018-07-09",
          "2018-07-16",
          "2018-07-23",
          "2018-07-30",
          "2018-08-06",
          "2018-08-13",
          "2018-08-20",
          "2018-08-27",
          "2018-09-03",
          "2018-09-10",
          "2018-09-17",
          "2018-09-24",
          "2018-10-01",
          "2018-10-08",
          "2018-10-15",
          "2018-10-22",
          "2018-10-29",
          "2018-11-05",
          "2018-11-12",
          "2018-11-19",
          "2018-11-26",
          "2018-12-03",
          "2018-12-10",
          "2018-12-17",
          "2018-12-24",
          "2018-12-31",
          "2019-01-07",
          "2019-01-14",
          "2019-01-21",
          "2019-01-28",
          "2019-02-04",
          "2019-02-11",
          "2019-02-18",
          "2019-02-25",
          "2019-03-04",
          "2019-03-11",
          "2019-03-18",
          "2019-03-25",
          "2019-04-01",
          "2019-04-08",
          "2019-04-15",
          "2019-04-22",
          "2019-04-29",
          "2019-05-06",
          "2019-05-13",
          "2019-05-20",
          "2019-05-27",
          "2019-06-03",
          "2019-06-10",
          "2019-06-17",
          "2019-06-24",
          "2019-07-01",
          "2019-07-08",
          "2019-07-15",
          "2019-07-22",
          "2019-07-29",
          "2019-08-05",
          "2019-08-12",
          "2019-08-19",
          "2019-08-26",
          "2019-09-02",
          "2019-09-09",
          "2019-09-16",
          "2019-09-23",
          "2019-09-30",
          "2019-10-07",
          "2019-10-14",
          "2019-10-21",
          "2019-10-28",
          "2019-11-04",
          "2019-11-11",
          "2019-11-18",
          "2019-11-25",
          "2019-12-02",
          "2019-12-09",
          "2019-12-16",
          "2019-12-23",
          "2019-12-30"
         ],
         "xaxis": "x",
         "y": [
          1,
          0.9599678310954936,
          0.9702434422185674,
          1.0168584099483515,
          1.0183569327795472,
          0.9425207136466456,
          0.949210571606832,
          0.9809472149548658,
          0.9452501435830832,
          0.9913298905647344,
          0.9905806264731936,
          0.8530371628674177,
          0.8551778853033591,
          0.8413165210173983,
          0.8804923666954552,
          0.8899116599439659,
          0.9290339332394776,
          0.9451966568307202,
          1.0007492587396545,
          0.9776825642702948,
          0.9896708164943808,
          1.038212463316699,
          1.0120417443283358,
          1.048166977313343,
          1.0796895826698554,
          1.039978596521961,
          1.0876638451914205,
          1.109553119307901,
          1.12357503483302,
          0.9359914015737306,
          0.951458353177682,
          0.9647310099631464,
          0.9301578668399936,
          0.934706922085943,
          0.940486970067317,
          0.8725715159998442,
          0.868718232741186,
          0.8719828084993478,
          0.8801712695690254,
          0.8420122930046896,
          0.822799036998693,
          0.8244581110690464,
          0.7780036945784202,
          0.8046561475625534,
          0.7758094853901156,
          0.7467486995959743,
          0.7050039698687512,
          0.7525287475773482,
          0.735456214007293,
          0.7709927394918039,
          0.668718185644586,
          0.712871248181817,
          0.7382927084305257,
          0.769601275795517,
          0.8029969932139043,
          0.7974845609584834,
          0.8868611275292119,
          0.8955311566861818,
          0.8696815348242483,
          0.8664168787877908,
          0.8685041144713691,
          0.907679960149426,
          0.8883060779778621,
          0.8795289843340972,
          0.8921059494105662,
          0.9404334779630672,
          0.9585228806468435,
          0.9541342963617566,
          1.024832747396326,
          1.0461332337340143,
          1.0079742571696786,
          0.9917045600737096,
          0.9690125351133252,
          0.9497992791073284,
          0.9277495340299856,
          0.9704575658402708,
          1.0229595550561554,
          1.0329140690527994,
          1.0511104505931883,
          1.0964409334832987,
          1.0616001853379655,
          1.0690393020378066,
          1.011613582715111,
          1.0053518863681492,
          0.9831415097733526,
          0.951297801938524,
          0.993684731270493,
          1.003425201923729,
          1.0018196199576253,
          1.0164837404393767,
          0.9478191079105452,
          0.9657478790768677,
          0.9857639608531776,
          0.9946481136318508,
          1.0055659243596704,
          1.03623221184162,
          1.0213539730900516,
          1.044153062537231,
          1.0640620851786324,
          1.0791543619217223,
          1.07599677037206,
          1.0388546682733315,
          1.104094173804843,
          1.113727585323171,
          1.0984746770626277
         ],
         "yaxis": "y"
        },
        {
         "hovertemplate": "company=NFLX<br>date=%{x}<br>value=%{y}<extra></extra>",
         "legendgroup": "NFLX",
         "line": {
          "color": "#FFA15A",
          "dash": "solid",
          "shape": "spline"
         },
         "marker": {
          "symbol": "circle"
         },
         "mode": "lines",
         "name": "NFLX",
         "orientation": "v",
         "showlegend": true,
         "type": "scatter",
         "x": [
          "2018-01-01",
          "2018-01-08",
          "2018-01-15",
          "2018-01-22",
          "2018-01-29",
          "2018-02-05",
          "2018-02-12",
          "2018-02-19",
          "2018-02-26",
          "2018-03-05",
          "2018-03-12",
          "2018-03-19",
          "2018-03-26",
          "2018-04-02",
          "2018-04-09",
          "2018-04-16",
          "2018-04-23",
          "2018-04-30",
          "2018-05-07",
          "2018-05-14",
          "2018-05-21",
          "2018-05-28",
          "2018-06-04",
          "2018-06-11",
          "2018-06-18",
          "2018-06-25",
          "2018-07-02",
          "2018-07-09",
          "2018-07-16",
          "2018-07-23",
          "2018-07-30",
          "2018-08-06",
          "2018-08-13",
          "2018-08-20",
          "2018-08-27",
          "2018-09-03",
          "2018-09-10",
          "2018-09-17",
          "2018-09-24",
          "2018-10-01",
          "2018-10-08",
          "2018-10-15",
          "2018-10-22",
          "2018-10-29",
          "2018-11-05",
          "2018-11-12",
          "2018-11-19",
          "2018-11-26",
          "2018-12-03",
          "2018-12-10",
          "2018-12-17",
          "2018-12-24",
          "2018-12-31",
          "2019-01-07",
          "2019-01-14",
          "2019-01-21",
          "2019-01-28",
          "2019-02-04",
          "2019-02-11",
          "2019-02-18",
          "2019-02-25",
          "2019-03-04",
          "2019-03-11",
          "2019-03-18",
          "2019-03-25",
          "2019-04-01",
          "2019-04-08",
          "2019-04-15",
          "2019-04-22",
          "2019-04-29",
          "2019-05-06",
          "2019-05-13",
          "2019-05-20",
          "2019-05-27",
          "2019-06-03",
          "2019-06-10",
          "2019-06-17",
          "2019-06-24",
          "2019-07-01",
          "2019-07-08",
          "2019-07-15",
          "2019-07-22",
          "2019-07-29",
          "2019-08-05",
          "2019-08-12",
          "2019-08-19",
          "2019-08-26",
          "2019-09-02",
          "2019-09-09",
          "2019-09-16",
          "2019-09-23",
          "2019-09-30",
          "2019-10-07",
          "2019-10-14",
          "2019-10-21",
          "2019-10-28",
          "2019-11-04",
          "2019-11-11",
          "2019-11-18",
          "2019-11-25",
          "2019-12-02",
          "2019-12-09",
          "2019-12-16",
          "2019-12-23",
          "2019-12-30"
         ],
         "xaxis": "x",
         "y": [
          1,
          1.0535263142643383,
          1.0498595254569378,
          1.3076813155940448,
          1.273536771428717,
          1.188008929282134,
          1.3263487897912096,
          1.3616362026373592,
          1.4336396058469547,
          1.5783608462698024,
          1.5165008067883996,
          1.4331158380609592,
          1.406495542490225,
          1.375541688281783,
          1.484118227436587,
          1.5608837620628662,
          1.484642138086525,
          1.5243106261176576,
          1.5546453794312736,
          1.5437877293254985,
          1.6728891882258874,
          1.7140339274719294,
          1.7170817582484463,
          1.866660325094997,
          1.9576645850358447,
          1.864041067097456,
          1.94414015086099,
          1.884851557577705,
          1.7193674908479577,
          1.691556657660921,
          1.633839648701375,
          1.647078369277624,
          1.50854798541483,
          1.7087480282692504,
          1.7509404459512254,
          1.660459949034241,
          1.7360826197418304,
          1.720034255916133,
          1.7816562507344105,
          1.6731749018244944,
          1.617029334324746,
          1.5842183202957685,
          1.4278298007564696,
          1.4719748494696214,
          1.4451640257830367,
          1.3629695899097676,
          1.2325348866009125,
          1.3625886860662726,
          1.262631595251403,
          1.2707271281792676,
          1.1733415549944868,
          1.2194865512765718,
          1.4170674789973934,
          1.6076479259096166,
          1.6148387919701228,
          1.6098384682642397,
          1.6184103905326357,
          1.6551740498315624,
          1.699461814861141,
          1.7287488945009553,
          1.7016048311442251,
          1.6648411718452985,
          1.721319979015192,
          1.7191771103581814,
          1.6979855684083631,
          1.7405113638622944,
          1.6721748970861734,
          1.716034084574645,
          1.7850849901165535,
          1.8335634546034707,
          1.7193199695385504,
          1.6879375377890014,
          1.6876518241903944,
          1.6347444679569396,
          1.7185103405278743,
          1.6178389585732904,
          1.758226497494488,
          1.7492261453110591,
          1.8122290534732837,
          1.7774655512770718,
          1.5005476379697218,
          1.5990284823318142,
          1.518310297673454,
          1.471165225221077,
          1.4419733358261506,
          1.3878755896024673,
          1.398876103650743,
          1.381827735086725,
          1.400780927644628,
          1.2893470810670251,
          1.2528214711933554,
          1.299061872016242,
          1.347349808387309,
          1.3110147218673576,
          1.3182532521012131,
          1.3658269020946976,
          1.388494690497293,
          1.4049716271019663,
          1.4785466146353017,
          1.4984522906221185,
          1.4636411194904255,
          1.421496227879989,
          1.6043620457078422,
          1.567169808867808,
          1.5408828958311611
         ],
         "yaxis": "y"
        },
        {
         "hovertemplate": "company=MSFT<br>date=%{x}<br>value=%{y}<extra></extra>",
         "legendgroup": "MSFT",
         "line": {
          "color": "#19d3f3",
          "dash": "solid",
          "shape": "spline"
         },
         "marker": {
          "symbol": "circle"
         },
         "mode": "lines",
         "name": "MSFT",
         "orientation": "v",
         "showlegend": true,
         "type": "scatter",
         "x": [
          "2018-01-01",
          "2018-01-08",
          "2018-01-15",
          "2018-01-22",
          "2018-01-29",
          "2018-02-05",
          "2018-02-12",
          "2018-02-19",
          "2018-02-26",
          "2018-03-05",
          "2018-03-12",
          "2018-03-19",
          "2018-03-26",
          "2018-04-02",
          "2018-04-09",
          "2018-04-16",
          "2018-04-23",
          "2018-04-30",
          "2018-05-07",
          "2018-05-14",
          "2018-05-21",
          "2018-05-28",
          "2018-06-04",
          "2018-06-11",
          "2018-06-18",
          "2018-06-25",
          "2018-07-02",
          "2018-07-09",
          "2018-07-16",
          "2018-07-23",
          "2018-07-30",
          "2018-08-06",
          "2018-08-13",
          "2018-08-20",
          "2018-08-27",
          "2018-09-03",
          "2018-09-10",
          "2018-09-17",
          "2018-09-24",
          "2018-10-01",
          "2018-10-08",
          "2018-10-15",
          "2018-10-22",
          "2018-10-29",
          "2018-11-05",
          "2018-11-12",
          "2018-11-19",
          "2018-11-26",
          "2018-12-03",
          "2018-12-10",
          "2018-12-17",
          "2018-12-24",
          "2018-12-31",
          "2019-01-07",
          "2019-01-14",
          "2019-01-21",
          "2019-01-28",
          "2019-02-04",
          "2019-02-11",
          "2019-02-18",
          "2019-02-25",
          "2019-03-04",
          "2019-03-11",
          "2019-03-18",
          "2019-03-25",
          "2019-04-01",
          "2019-04-08",
          "2019-04-15",
          "2019-04-22",
          "2019-04-29",
          "2019-05-06",
          "2019-05-13",
          "2019-05-20",
          "2019-05-27",
          "2019-06-03",
          "2019-06-10",
          "2019-06-17",
          "2019-06-24",
          "2019-07-01",
          "2019-07-08",
          "2019-07-15",
          "2019-07-22",
          "2019-07-29",
          "2019-08-05",
          "2019-08-12",
          "2019-08-19",
          "2019-08-26",
          "2019-09-02",
          "2019-09-09",
          "2019-09-16",
          "2019-09-23",
          "2019-09-30",
          "2019-10-07",
          "2019-10-14",
          "2019-10-21",
          "2019-10-28",
          "2019-11-04",
          "2019-11-11",
          "2019-11-18",
          "2019-11-25",
          "2019-12-02",
          "2019-12-09",
          "2019-12-16",
          "2019-12-23",
          "2019-12-30"
         ],
         "xaxis": "x",
         "y": [
          1,
          1.015988161560536,
          1.0205238457756245,
          1.0665607876956391,
          1.040707528275144,
          0.9998865857832728,
          1.043202153459527,
          1.0665607876956391,
          1.0551082990110374,
          1.0946819232411402,
          1.072683930770293,
          0.9885474319413214,
          1.034924537137441,
          1.0231318851767346,
          1.0554484622871425,
          1.0772196149853812,
          1.0865177211357813,
          1.0790339249567087,
          1.1078352963411884,
          1.0926408755495889,
          1.1153191832334917,
          1.1428733270694336,
          1.1523981709400573,
          1.1353894401771305,
          1.1385644826269534,
          1.1181539716939797,
          1.147068848008417,
          1.1954869895569342,
          1.2050118447667115,
          1.2210000857013248,
          1.225082192423581,
          1.2359677687727004,
          1.2198661929954373,
          1.2291642991458374,
          1.2737271737447062,
          1.227009825898405,
          1.2855199050794894,
          1.2956117406596723,
          1.2968590589214408,
          1.2714592862805467,
          1.242431086462613,
          1.2321125018230523,
          1.2128358835959658,
          1.203764617218174,
          1.242431086462613,
          1.2279169808840689,
          1.1687265864899288,
          1.2573987581948347,
          1.1885701057133435,
          1.2022904705229511,
          1.1138451159123457,
          1.1383376428543452,
          1.1557999511101045,
          1.1656650489700635,
          1.2213402489774292,
          1.2152170945636216,
          1.1654382205366092,
          1.1982083638006946,
          1.2271232401151322,
          1.2583059131804986,
          1.275994970495635,
          1.2530899137523548,
          1.3143213671771998,
          1.3272479912178707,
          1.3373398267980536,
          1.3594511427723972,
          1.371470623166558,
          1.398911443499003,
          1.4728426811919109,
          1.4616168621926098,
          1.4415465939098175,
          1.45220551191279,
          1.4314547583296346,
          1.4024265471725468,
          1.489964746797488,
          1.5018708923489987,
          1.5531239130712344,
          1.518993128041884,
          1.5541444028995486,
          1.5750084006121237,
          1.5491551411916282,
          1.6026759586647925,
          1.5523300929282209,
          1.5615149549492018,
          1.5435990692006107,
          1.5125297196387406,
          1.5632157599905712,
          1.5772763674503605,
          1.5570926849508404,
          1.581131634400008,
          1.5617416132953483,
          1.5661638719545554,
          1.583852929269692,
          1.5581131747791548,
          1.5957590748212025,
          1.629663201504406,
          1.655062974145301,
          1.7005329130166025,
          1.6962239778608914,
          1.7165211652903694,
          1.720716595516122,
          1.7522394318575931,
          1.7848962516181823,
          1.8024719740906685,
          1.7881845268582712
         ],
         "yaxis": "y"
        }
       ],
       "layout": {
        "legend": {
         "title": {
          "text": "company"
         },
         "tracegroupgap": 0
        },
        "margin": {
         "t": 60
        },
        "template": {
         "data": {
          "bar": [
           {
            "error_x": {
             "color": "#2a3f5f"
            },
            "error_y": {
             "color": "#2a3f5f"
            },
            "marker": {
             "line": {
              "color": "#E5ECF6",
              "width": 0.5
             },
             "pattern": {
              "fillmode": "overlay",
              "size": 10,
              "solidity": 0.2
             }
            },
            "type": "bar"
           }
          ],
          "barpolar": [
           {
            "marker": {
             "line": {
              "color": "#E5ECF6",
              "width": 0.5
             },
             "pattern": {
              "fillmode": "overlay",
              "size": 10,
              "solidity": 0.2
             }
            },
            "type": "barpolar"
           }
          ],
          "carpet": [
           {
            "aaxis": {
             "endlinecolor": "#2a3f5f",
             "gridcolor": "white",
             "linecolor": "white",
             "minorgridcolor": "white",
             "startlinecolor": "#2a3f5f"
            },
            "baxis": {
             "endlinecolor": "#2a3f5f",
             "gridcolor": "white",
             "linecolor": "white",
             "minorgridcolor": "white",
             "startlinecolor": "#2a3f5f"
            },
            "type": "carpet"
           }
          ],
          "choropleth": [
           {
            "colorbar": {
             "outlinewidth": 0,
             "ticks": ""
            },
            "type": "choropleth"
           }
          ],
          "contour": [
           {
            "colorbar": {
             "outlinewidth": 0,
             "ticks": ""
            },
            "colorscale": [
             [
              0,
              "#0d0887"
             ],
             [
              0.1111111111111111,
              "#46039f"
             ],
             [
              0.2222222222222222,
              "#7201a8"
             ],
             [
              0.3333333333333333,
              "#9c179e"
             ],
             [
              0.4444444444444444,
              "#bd3786"
             ],
             [
              0.5555555555555556,
              "#d8576b"
             ],
             [
              0.6666666666666666,
              "#ed7953"
             ],
             [
              0.7777777777777778,
              "#fb9f3a"
             ],
             [
              0.8888888888888888,
              "#fdca26"
             ],
             [
              1,
              "#f0f921"
             ]
            ],
            "type": "contour"
           }
          ],
          "contourcarpet": [
           {
            "colorbar": {
             "outlinewidth": 0,
             "ticks": ""
            },
            "type": "contourcarpet"
           }
          ],
          "heatmap": [
           {
            "colorbar": {
             "outlinewidth": 0,
             "ticks": ""
            },
            "colorscale": [
             [
              0,
              "#0d0887"
             ],
             [
              0.1111111111111111,
              "#46039f"
             ],
             [
              0.2222222222222222,
              "#7201a8"
             ],
             [
              0.3333333333333333,
              "#9c179e"
             ],
             [
              0.4444444444444444,
              "#bd3786"
             ],
             [
              0.5555555555555556,
              "#d8576b"
             ],
             [
              0.6666666666666666,
              "#ed7953"
             ],
             [
              0.7777777777777778,
              "#fb9f3a"
             ],
             [
              0.8888888888888888,
              "#fdca26"
             ],
             [
              1,
              "#f0f921"
             ]
            ],
            "type": "heatmap"
           }
          ],
          "heatmapgl": [
           {
            "colorbar": {
             "outlinewidth": 0,
             "ticks": ""
            },
            "colorscale": [
             [
              0,
              "#0d0887"
             ],
             [
              0.1111111111111111,
              "#46039f"
             ],
             [
              0.2222222222222222,
              "#7201a8"
             ],
             [
              0.3333333333333333,
              "#9c179e"
             ],
             [
              0.4444444444444444,
              "#bd3786"
             ],
             [
              0.5555555555555556,
              "#d8576b"
             ],
             [
              0.6666666666666666,
              "#ed7953"
             ],
             [
              0.7777777777777778,
              "#fb9f3a"
             ],
             [
              0.8888888888888888,
              "#fdca26"
             ],
             [
              1,
              "#f0f921"
             ]
            ],
            "type": "heatmapgl"
           }
          ],
          "histogram": [
           {
            "marker": {
             "pattern": {
              "fillmode": "overlay",
              "size": 10,
              "solidity": 0.2
             }
            },
            "type": "histogram"
           }
          ],
          "histogram2d": [
           {
            "colorbar": {
             "outlinewidth": 0,
             "ticks": ""
            },
            "colorscale": [
             [
              0,
              "#0d0887"
             ],
             [
              0.1111111111111111,
              "#46039f"
             ],
             [
              0.2222222222222222,
              "#7201a8"
             ],
             [
              0.3333333333333333,
              "#9c179e"
             ],
             [
              0.4444444444444444,
              "#bd3786"
             ],
             [
              0.5555555555555556,
              "#d8576b"
             ],
             [
              0.6666666666666666,
              "#ed7953"
             ],
             [
              0.7777777777777778,
              "#fb9f3a"
             ],
             [
              0.8888888888888888,
              "#fdca26"
             ],
             [
              1,
              "#f0f921"
             ]
            ],
            "type": "histogram2d"
           }
          ],
          "histogram2dcontour": [
           {
            "colorbar": {
             "outlinewidth": 0,
             "ticks": ""
            },
            "colorscale": [
             [
              0,
              "#0d0887"
             ],
             [
              0.1111111111111111,
              "#46039f"
             ],
             [
              0.2222222222222222,
              "#7201a8"
             ],
             [
              0.3333333333333333,
              "#9c179e"
             ],
             [
              0.4444444444444444,
              "#bd3786"
             ],
             [
              0.5555555555555556,
              "#d8576b"
             ],
             [
              0.6666666666666666,
              "#ed7953"
             ],
             [
              0.7777777777777778,
              "#fb9f3a"
             ],
             [
              0.8888888888888888,
              "#fdca26"
             ],
             [
              1,
              "#f0f921"
             ]
            ],
            "type": "histogram2dcontour"
           }
          ],
          "mesh3d": [
           {
            "colorbar": {
             "outlinewidth": 0,
             "ticks": ""
            },
            "type": "mesh3d"
           }
          ],
          "parcoords": [
           {
            "line": {
             "colorbar": {
              "outlinewidth": 0,
              "ticks": ""
             }
            },
            "type": "parcoords"
           }
          ],
          "pie": [
           {
            "automargin": true,
            "type": "pie"
           }
          ],
          "scatter": [
           {
            "fillpattern": {
             "fillmode": "overlay",
             "size": 10,
             "solidity": 0.2
            },
            "type": "scatter"
           }
          ],
          "scatter3d": [
           {
            "line": {
             "colorbar": {
              "outlinewidth": 0,
              "ticks": ""
             }
            },
            "marker": {
             "colorbar": {
              "outlinewidth": 0,
              "ticks": ""
             }
            },
            "type": "scatter3d"
           }
          ],
          "scattercarpet": [
           {
            "marker": {
             "colorbar": {
              "outlinewidth": 0,
              "ticks": ""
             }
            },
            "type": "scattercarpet"
           }
          ],
          "scattergeo": [
           {
            "marker": {
             "colorbar": {
              "outlinewidth": 0,
              "ticks": ""
             }
            },
            "type": "scattergeo"
           }
          ],
          "scattergl": [
           {
            "marker": {
             "colorbar": {
              "outlinewidth": 0,
              "ticks": ""
             }
            },
            "type": "scattergl"
           }
          ],
          "scattermapbox": [
           {
            "marker": {
             "colorbar": {
              "outlinewidth": 0,
              "ticks": ""
             }
            },
            "type": "scattermapbox"
           }
          ],
          "scatterpolar": [
           {
            "marker": {
             "colorbar": {
              "outlinewidth": 0,
              "ticks": ""
             }
            },
            "type": "scatterpolar"
           }
          ],
          "scatterpolargl": [
           {
            "marker": {
             "colorbar": {
              "outlinewidth": 0,
              "ticks": ""
             }
            },
            "type": "scatterpolargl"
           }
          ],
          "scatterternary": [
           {
            "marker": {
             "colorbar": {
              "outlinewidth": 0,
              "ticks": ""
             }
            },
            "type": "scatterternary"
           }
          ],
          "surface": [
           {
            "colorbar": {
             "outlinewidth": 0,
             "ticks": ""
            },
            "colorscale": [
             [
              0,
              "#0d0887"
             ],
             [
              0.1111111111111111,
              "#46039f"
             ],
             [
              0.2222222222222222,
              "#7201a8"
             ],
             [
              0.3333333333333333,
              "#9c179e"
             ],
             [
              0.4444444444444444,
              "#bd3786"
             ],
             [
              0.5555555555555556,
              "#d8576b"
             ],
             [
              0.6666666666666666,
              "#ed7953"
             ],
             [
              0.7777777777777778,
              "#fb9f3a"
             ],
             [
              0.8888888888888888,
              "#fdca26"
             ],
             [
              1,
              "#f0f921"
             ]
            ],
            "type": "surface"
           }
          ],
          "table": [
           {
            "cells": {
             "fill": {
              "color": "#EBF0F8"
             },
             "line": {
              "color": "white"
             }
            },
            "header": {
             "fill": {
              "color": "#C8D4E3"
             },
             "line": {
              "color": "white"
             }
            },
            "type": "table"
           }
          ]
         },
         "layout": {
          "annotationdefaults": {
           "arrowcolor": "#2a3f5f",
           "arrowhead": 0,
           "arrowwidth": 1
          },
          "autotypenumbers": "strict",
          "coloraxis": {
           "colorbar": {
            "outlinewidth": 0,
            "ticks": ""
           }
          },
          "colorscale": {
           "diverging": [
            [
             0,
             "#8e0152"
            ],
            [
             0.1,
             "#c51b7d"
            ],
            [
             0.2,
             "#de77ae"
            ],
            [
             0.3,
             "#f1b6da"
            ],
            [
             0.4,
             "#fde0ef"
            ],
            [
             0.5,
             "#f7f7f7"
            ],
            [
             0.6,
             "#e6f5d0"
            ],
            [
             0.7,
             "#b8e186"
            ],
            [
             0.8,
             "#7fbc41"
            ],
            [
             0.9,
             "#4d9221"
            ],
            [
             1,
             "#276419"
            ]
           ],
           "sequential": [
            [
             0,
             "#0d0887"
            ],
            [
             0.1111111111111111,
             "#46039f"
            ],
            [
             0.2222222222222222,
             "#7201a8"
            ],
            [
             0.3333333333333333,
             "#9c179e"
            ],
            [
             0.4444444444444444,
             "#bd3786"
            ],
            [
             0.5555555555555556,
             "#d8576b"
            ],
            [
             0.6666666666666666,
             "#ed7953"
            ],
            [
             0.7777777777777778,
             "#fb9f3a"
            ],
            [
             0.8888888888888888,
             "#fdca26"
            ],
            [
             1,
             "#f0f921"
            ]
           ],
           "sequentialminus": [
            [
             0,
             "#0d0887"
            ],
            [
             0.1111111111111111,
             "#46039f"
            ],
            [
             0.2222222222222222,
             "#7201a8"
            ],
            [
             0.3333333333333333,
             "#9c179e"
            ],
            [
             0.4444444444444444,
             "#bd3786"
            ],
            [
             0.5555555555555556,
             "#d8576b"
            ],
            [
             0.6666666666666666,
             "#ed7953"
            ],
            [
             0.7777777777777778,
             "#fb9f3a"
            ],
            [
             0.8888888888888888,
             "#fdca26"
            ],
            [
             1,
             "#f0f921"
            ]
           ]
          },
          "colorway": [
           "#636efa",
           "#EF553B",
           "#00cc96",
           "#ab63fa",
           "#FFA15A",
           "#19d3f3",
           "#FF6692",
           "#B6E880",
           "#FF97FF",
           "#FECB52"
          ],
          "font": {
           "color": "#2a3f5f"
          },
          "geo": {
           "bgcolor": "white",
           "lakecolor": "white",
           "landcolor": "#E5ECF6",
           "showlakes": true,
           "showland": true,
           "subunitcolor": "white"
          },
          "hoverlabel": {
           "align": "left"
          },
          "hovermode": "closest",
          "mapbox": {
           "style": "light"
          },
          "paper_bgcolor": "white",
          "plot_bgcolor": "#E5ECF6",
          "polar": {
           "angularaxis": {
            "gridcolor": "white",
            "linecolor": "white",
            "ticks": ""
           },
           "bgcolor": "#E5ECF6",
           "radialaxis": {
            "gridcolor": "white",
            "linecolor": "white",
            "ticks": ""
           }
          },
          "scene": {
           "xaxis": {
            "backgroundcolor": "#E5ECF6",
            "gridcolor": "white",
            "gridwidth": 2,
            "linecolor": "white",
            "showbackground": true,
            "ticks": "",
            "zerolinecolor": "white"
           },
           "yaxis": {
            "backgroundcolor": "#E5ECF6",
            "gridcolor": "white",
            "gridwidth": 2,
            "linecolor": "white",
            "showbackground": true,
            "ticks": "",
            "zerolinecolor": "white"
           },
           "zaxis": {
            "backgroundcolor": "#E5ECF6",
            "gridcolor": "white",
            "gridwidth": 2,
            "linecolor": "white",
            "showbackground": true,
            "ticks": "",
            "zerolinecolor": "white"
           }
          },
          "shapedefaults": {
           "line": {
            "color": "#2a3f5f"
           }
          },
          "ternary": {
           "aaxis": {
            "gridcolor": "white",
            "linecolor": "white",
            "ticks": ""
           },
           "baxis": {
            "gridcolor": "white",
            "linecolor": "white",
            "ticks": ""
           },
           "bgcolor": "#E5ECF6",
           "caxis": {
            "gridcolor": "white",
            "linecolor": "white",
            "ticks": ""
           }
          },
          "title": {
           "x": 0.05
          },
          "xaxis": {
           "automargin": true,
           "gridcolor": "white",
           "linecolor": "white",
           "ticks": "",
           "title": {
            "standoff": 15
           },
           "zerolinecolor": "white",
           "zerolinewidth": 2
          },
          "yaxis": {
           "automargin": true,
           "gridcolor": "white",
           "linecolor": "white",
           "ticks": "",
           "title": {
            "standoff": 15
           },
           "zerolinecolor": "white",
           "zerolinewidth": 2
          }
         }
        },
        "xaxis": {
         "anchor": "y",
         "domain": [
          0,
          1
         ],
         "title": {
          "text": "date"
         }
        },
        "yaxis": {
         "anchor": "x",
         "domain": [
          0,
          1
         ],
         "title": {
          "text": "value"
         }
        }
       }
      }
     },
     "metadata": {},
     "output_type": "display_data"
    }
   ],
   "source": [
    "px.line(stocks, line_shape=\"spline\")"
   ]
  },
  {
   "cell_type": "code",
   "execution_count": 26,
   "metadata": {},
   "outputs": [
    {
     "data": {
      "application/vnd.plotly.v1+json": {
       "config": {
        "plotlyServerURL": "https://plot.ly"
       },
       "data": [
        {
         "fillpattern": {
          "shape": ""
         },
         "hovertemplate": "company=GOOG<br>date=%{x}<br>value=%{y}<extra></extra>",
         "legendgroup": "GOOG",
         "line": {
          "color": "#636efa"
         },
         "marker": {
          "symbol": "circle"
         },
         "mode": "lines",
         "name": "GOOG",
         "orientation": "v",
         "showlegend": true,
         "stackgroup": "1",
         "type": "scatter",
         "x": [
          "2018-01-01",
          "2018-01-08",
          "2018-01-15",
          "2018-01-22",
          "2018-01-29",
          "2018-02-05",
          "2018-02-12",
          "2018-02-19",
          "2018-02-26",
          "2018-03-05",
          "2018-03-12",
          "2018-03-19",
          "2018-03-26",
          "2018-04-02",
          "2018-04-09",
          "2018-04-16",
          "2018-04-23",
          "2018-04-30",
          "2018-05-07",
          "2018-05-14",
          "2018-05-21",
          "2018-05-28",
          "2018-06-04",
          "2018-06-11",
          "2018-06-18",
          "2018-06-25",
          "2018-07-02",
          "2018-07-09",
          "2018-07-16",
          "2018-07-23",
          "2018-07-30",
          "2018-08-06",
          "2018-08-13",
          "2018-08-20",
          "2018-08-27",
          "2018-09-03",
          "2018-09-10",
          "2018-09-17",
          "2018-09-24",
          "2018-10-01",
          "2018-10-08",
          "2018-10-15",
          "2018-10-22",
          "2018-10-29",
          "2018-11-05",
          "2018-11-12",
          "2018-11-19",
          "2018-11-26",
          "2018-12-03",
          "2018-12-10",
          "2018-12-17",
          "2018-12-24",
          "2018-12-31",
          "2019-01-07",
          "2019-01-14",
          "2019-01-21",
          "2019-01-28",
          "2019-02-04",
          "2019-02-11",
          "2019-02-18",
          "2019-02-25",
          "2019-03-04",
          "2019-03-11",
          "2019-03-18",
          "2019-03-25",
          "2019-04-01",
          "2019-04-08",
          "2019-04-15",
          "2019-04-22",
          "2019-04-29",
          "2019-05-06",
          "2019-05-13",
          "2019-05-20",
          "2019-05-27",
          "2019-06-03",
          "2019-06-10",
          "2019-06-17",
          "2019-06-24",
          "2019-07-01",
          "2019-07-08",
          "2019-07-15",
          "2019-07-22",
          "2019-07-29",
          "2019-08-05",
          "2019-08-12",
          "2019-08-19",
          "2019-08-26",
          "2019-09-02",
          "2019-09-09",
          "2019-09-16",
          "2019-09-23",
          "2019-09-30",
          "2019-10-07",
          "2019-10-14",
          "2019-10-21",
          "2019-10-28",
          "2019-11-04",
          "2019-11-11",
          "2019-11-18",
          "2019-11-25",
          "2019-12-02",
          "2019-12-09",
          "2019-12-16",
          "2019-12-23",
          "2019-12-30"
         ],
         "xaxis": "x",
         "y": [
          1,
          1.018172278347936,
          1.032007866452698,
          1.066782783389724,
          1.0087731636550117,
          0.9415276737437316,
          0.99325918262539,
          1.0222821547641083,
          0.9788520214265992,
          1.0524482730908842,
          1.0303929312465263,
          0.926821104067592,
          0.9360932452590338,
          0.913638710861412,
          0.93380695379017,
          0.9734447261178653,
          0.9345146364100892,
          0.9509902470625956,
          0.9963982380519172,
          0.9674568868105002,
          0.9758943718805396,
          1.015668254641377,
          1.0169111849053498,
          1.0453898287179595,
          1.0483111519067918,
          1.0121753574512644,
          1.0344211867653972,
          1.0785588920381208,
          1.075011617811375,
          1.1236312044424703,
          1.1102129167272332,
          1.1228237368393843,
          1.0895729410299655,
          1.1074367837463466,
          1.1052048693141154,
          1.0567939333314087,
          1.0637798374890872,
          1.0579370795194665,
          1.0827776350267664,
          1.0500077089175164,
          1.007121903906116,
          0.9947651405743836,
          0.9720929301886708,
          0.959681788913054,
          0.9672663993407256,
          0.9630385756700248,
          0.9289168536315806,
          0.992923504040418,
          0.9404389054995582,
          0.945446952912676,
          0.8886892896888904,
          0.9408925313390586,
          0.9714034098401132,
          0.9591373489949891,
          0.9963982380519172,
          0.989802500200548,
          1.0077298024501202,
          0.9934950771344468,
          1.0103608540932627,
          1.0073850422758417,
          1.035165084150587,
          1.0363716889645844,
          1.0746032883264525,
          1.0936918990354445,
          1.064487521016258,
          1.095188886079836,
          1.1049145977684258,
          1.1216987538299403,
          1.1541874899828073,
          1.075456162061569,
          1.0562859304552756,
          1.0544986709579427,
          1.0283425342867192,
          1.001270175031893,
          0.9671666152648106,
          0.98468558802946,
          1.0178275181736574,
          0.980657443195294,
          1.0266368965939394,
          1.0387124690620373,
          1.025285100664745,
          1.1344366027859267,
          1.0832494231376286,
          1.0778240762422375,
          1.068379555417282,
          1.0445098208996275,
          1.0779056980467905,
          1.0931748145700046,
          1.12459294475006,
          1.115856106545024,
          1.1114649285805127,
          1.0968672799119472,
          1.10271900878617,
          1.129972884606169,
          1.1477913211905195,
          1.155602744537941,
          1.189742629754999,
          1.2110630442115171,
          1.1751993590303178,
          1.183927115646047,
          1.216279741365772,
          1.222820990588552,
          1.22441776261611,
          1.2265044859331442,
          1.213013658002661
         ],
         "yaxis": "y"
        },
        {
         "fillpattern": {
          "shape": ""
         },
         "hovertemplate": "company=AAPL<br>date=%{x}<br>value=%{y}<extra></extra>",
         "legendgroup": "AAPL",
         "line": {
          "color": "#EF553B"
         },
         "marker": {
          "symbol": "circle"
         },
         "mode": "lines",
         "name": "AAPL",
         "orientation": "v",
         "showlegend": true,
         "stackgroup": "1",
         "type": "scatter",
         "x": [
          "2018-01-01",
          "2018-01-08",
          "2018-01-15",
          "2018-01-22",
          "2018-01-29",
          "2018-02-05",
          "2018-02-12",
          "2018-02-19",
          "2018-02-26",
          "2018-03-05",
          "2018-03-12",
          "2018-03-19",
          "2018-03-26",
          "2018-04-02",
          "2018-04-09",
          "2018-04-16",
          "2018-04-23",
          "2018-04-30",
          "2018-05-07",
          "2018-05-14",
          "2018-05-21",
          "2018-05-28",
          "2018-06-04",
          "2018-06-11",
          "2018-06-18",
          "2018-06-25",
          "2018-07-02",
          "2018-07-09",
          "2018-07-16",
          "2018-07-23",
          "2018-07-30",
          "2018-08-06",
          "2018-08-13",
          "2018-08-20",
          "2018-08-27",
          "2018-09-03",
          "2018-09-10",
          "2018-09-17",
          "2018-09-24",
          "2018-10-01",
          "2018-10-08",
          "2018-10-15",
          "2018-10-22",
          "2018-10-29",
          "2018-11-05",
          "2018-11-12",
          "2018-11-19",
          "2018-11-26",
          "2018-12-03",
          "2018-12-10",
          "2018-12-17",
          "2018-12-24",
          "2018-12-31",
          "2019-01-07",
          "2019-01-14",
          "2019-01-21",
          "2019-01-28",
          "2019-02-04",
          "2019-02-11",
          "2019-02-18",
          "2019-02-25",
          "2019-03-04",
          "2019-03-11",
          "2019-03-18",
          "2019-03-25",
          "2019-04-01",
          "2019-04-08",
          "2019-04-15",
          "2019-04-22",
          "2019-04-29",
          "2019-05-06",
          "2019-05-13",
          "2019-05-20",
          "2019-05-27",
          "2019-06-03",
          "2019-06-10",
          "2019-06-17",
          "2019-06-24",
          "2019-07-01",
          "2019-07-08",
          "2019-07-15",
          "2019-07-22",
          "2019-07-29",
          "2019-08-05",
          "2019-08-12",
          "2019-08-19",
          "2019-08-26",
          "2019-09-02",
          "2019-09-09",
          "2019-09-16",
          "2019-09-23",
          "2019-09-30",
          "2019-10-07",
          "2019-10-14",
          "2019-10-21",
          "2019-10-28",
          "2019-11-04",
          "2019-11-11",
          "2019-11-18",
          "2019-11-25",
          "2019-12-02",
          "2019-12-09",
          "2019-12-16",
          "2019-12-23",
          "2019-12-30"
         ],
         "xaxis": "x",
         "y": [
          1,
          1.0119428342857142,
          1.0197714685714288,
          0.9800571142857144,
          0.9171428571428571,
          0.8937714514285715,
          0.9853142457142856,
          1.002857142857143,
          1.006914325714286,
          1.02845712,
          1.0172571657142857,
          0.9425142971428572,
          0.9587428514285714,
          0.9621714571428572,
          0.99845712,
          0.9469714342857144,
          0.9275428971428572,
          1.0504571542857144,
          1.07765712,
          1.06462856,
          1.0776000114285715,
          1.0870857428571428,
          1.0954285542857145,
          1.0790856914285714,
          1.0566857028571428,
          1.0577714342857143,
          1.0741142914285715,
          1.093314297142857,
          1.0939428685714283,
          1.0913142628571428,
          1.1885143142857142,
          1.1858857085714285,
          1.2433142971428572,
          1.235200022857143,
          1.3007428857142855,
          1.2645714457142856,
          1.279085691428571,
          1.2437714514285716,
          1.2899428857142856,
          1.2816571028571428,
          1.2692000057142856,
          1.253199988571429,
          1.236000017142857,
          1.1855999771428571,
          1.1684000057142856,
          1.1058857085714286,
          0.9845142457142856,
          1.0204571542857144,
          0.9628000285714284,
          0.9455999771428572,
          0.8613142628571429,
          0.8927428342857143,
          0.8471999714285714,
          0.8702285314285714,
          0.8961143257142857,
          0.9014856857142858,
          0.95154288,
          0.9737714514285716,
          0.97382856,
          0.9884000057142855,
          0.9998285771428572,
          0.9880571657142858,
          1.0635428285714286,
          1.0917143028571428,
          1.0854285542857145,
          1.1257142857142857,
          1.1363999714285713,
          1.1649142914285715,
          1.1674285885714286,
          1.21,
          1.126742817142857,
          1.08,
          1.02268572,
          1.00040004,
          1.0865713942857145,
          1.1013714571428572,
          1.135885708571429,
          1.130971417142857,
          1.167028548571429,
          1.1617143028571428,
          1.15765712,
          1.1870857428571429,
          1.1658285942857145,
          1.1485143142857142,
          1.18,
          1.1579428514285717,
          1.1928000285714286,
          1.218628542857143,
          1.25,
          1.2441714057142856,
          1.25040004,
          1.2971999714285716,
          1.3497714685714286,
          1.3509143085714286,
          1.409028582857143,
          1.4618286114285712,
          1.4865143714285716,
          1.5186286285714288,
          1.4958857085714288,
          1.5271428571428571,
          1.5469142342857145,
          1.57228568,
          1.5968000114285714,
          1.6559999314285714,
          1.6779999657142857
         ],
         "yaxis": "y"
        },
        {
         "fillpattern": {
          "shape": ""
         },
         "hovertemplate": "company=AMZN<br>date=%{x}<br>value=%{y}<extra></extra>",
         "legendgroup": "AMZN",
         "line": {
          "color": "#00cc96"
         },
         "marker": {
          "symbol": "circle"
         },
         "mode": "lines",
         "name": "AMZN",
         "orientation": "v",
         "showlegend": true,
         "stackgroup": "1",
         "type": "scatter",
         "x": [
          "2018-01-01",
          "2018-01-08",
          "2018-01-15",
          "2018-01-22",
          "2018-01-29",
          "2018-02-05",
          "2018-02-12",
          "2018-02-19",
          "2018-02-26",
          "2018-03-05",
          "2018-03-12",
          "2018-03-19",
          "2018-03-26",
          "2018-04-02",
          "2018-04-09",
          "2018-04-16",
          "2018-04-23",
          "2018-04-30",
          "2018-05-07",
          "2018-05-14",
          "2018-05-21",
          "2018-05-28",
          "2018-06-04",
          "2018-06-11",
          "2018-06-18",
          "2018-06-25",
          "2018-07-02",
          "2018-07-09",
          "2018-07-16",
          "2018-07-23",
          "2018-07-30",
          "2018-08-06",
          "2018-08-13",
          "2018-08-20",
          "2018-08-27",
          "2018-09-03",
          "2018-09-10",
          "2018-09-17",
          "2018-09-24",
          "2018-10-01",
          "2018-10-08",
          "2018-10-15",
          "2018-10-22",
          "2018-10-29",
          "2018-11-05",
          "2018-11-12",
          "2018-11-19",
          "2018-11-26",
          "2018-12-03",
          "2018-12-10",
          "2018-12-17",
          "2018-12-24",
          "2018-12-31",
          "2019-01-07",
          "2019-01-14",
          "2019-01-21",
          "2019-01-28",
          "2019-02-04",
          "2019-02-11",
          "2019-02-18",
          "2019-02-25",
          "2019-03-04",
          "2019-03-11",
          "2019-03-18",
          "2019-03-25",
          "2019-04-01",
          "2019-04-08",
          "2019-04-15",
          "2019-04-22",
          "2019-04-29",
          "2019-05-06",
          "2019-05-13",
          "2019-05-20",
          "2019-05-27",
          "2019-06-03",
          "2019-06-10",
          "2019-06-17",
          "2019-06-24",
          "2019-07-01",
          "2019-07-08",
          "2019-07-15",
          "2019-07-22",
          "2019-07-29",
          "2019-08-05",
          "2019-08-12",
          "2019-08-19",
          "2019-08-26",
          "2019-09-02",
          "2019-09-09",
          "2019-09-16",
          "2019-09-23",
          "2019-09-30",
          "2019-10-07",
          "2019-10-14",
          "2019-10-21",
          "2019-10-28",
          "2019-11-04",
          "2019-11-11",
          "2019-11-18",
          "2019-11-25",
          "2019-12-02",
          "2019-12-09",
          "2019-12-16",
          "2019-12-23",
          "2019-12-30"
         ],
         "xaxis": "x",
         "y": [
          1,
          1.0618806117055757,
          1.0532404284307677,
          1.1406756202628388,
          1.1633743377885228,
          1.0898676795580526,
          1.1786207619316666,
          1.2203654438831366,
          1.2205688381237838,
          1.284548542665418,
          1.2786826844946546,
          1.2167532101702832,
          1.1775224533715958,
          1.1432627388670606,
          1.16405781403187,
          1.242730666448932,
          1.2794473988384474,
          1.2862244591394254,
          1.3040906767647622,
          1.2808711585229775,
          1.3099809658381354,
          1.3355191588974509,
          1.3700554610940725,
          1.3960736368996989,
          1.3958296232020404,
          1.3829181608736414,
          1.391729163581091,
          1.4750394640760272,
          1.4755844971819587,
          1.4784890230752108,
          1.4833867718479574,
          1.5346502643964448,
          1.5313308069300795,
          1.5501814209506477,
          1.637494456642517,
          1.5881591374274802,
          1.6029011479217037,
          1.5580080272628667,
          1.6295946560652816,
          1.5373757268816928,
          1.4551718788522234,
          1.435174192909178,
          1.3365524179114776,
          1.3550368620941855,
          1.3931936419790223,
          1.2963616956201691,
          1.22204146042711,
          1.375083410656027,
          1.3254226411301075,
          1.295141330176286,
          1.1206615472526131,
          1.202483038516975,
          1.2817010232963573,
          1.334721869745653,
          1.3799892040777797,
          1.359137222458745,
          1.3230632475991762,
          1.2921391799289847,
          1.3081910371293215,
          1.3273996770823542,
          1.3600809993969647,
          1.3186455808291295,
          1.393136635454831,
          1.435776232539301,
          1.4487771761299302,
          1.4947687054188046,
          1.4994712046698764,
          1.5146280474808236,
          1.5869876346023932,
          1.596612214272432,
          1.537644171481961,
          1.5205753430783882,
          1.483378627942562,
          1.44415601504927,
          1.4677172714127285,
          1.521120475440709,
          1.5549896884611636,
          1.540613747734834,
          1.58070684404494,
          1.6361032717659916,
          1.5982882308164057,
          1.5808207570233568,
          1.4833460531345568,
          1.4706054102388,
          1.4583936118945735,
          1.4234505212166575,
          1.445148654606286,
          1.491701504811883,
          1.4964446227063888,
          1.4596872708598625,
          1.4037863302335007,
          1.4153391824933792,
          1.4090502488441077,
          1.4298696556551374,
          1.43297747571907,
          1.4574742658589632,
          1.452950830015895,
          1.4152089825177483,
          1.420277551536714,
          1.465089434095106,
          1.425061388144621,
          1.4326601685000062,
          1.4534552436648156,
          1.52122624451373,
          1.503360026888393
         ],
         "yaxis": "y"
        },
        {
         "fillpattern": {
          "shape": ""
         },
         "hovertemplate": "company=FB<br>date=%{x}<br>value=%{y}<extra></extra>",
         "legendgroup": "FB",
         "line": {
          "color": "#ab63fa"
         },
         "marker": {
          "symbol": "circle"
         },
         "mode": "lines",
         "name": "FB",
         "orientation": "v",
         "showlegend": true,
         "stackgroup": "1",
         "type": "scatter",
         "x": [
          "2018-01-01",
          "2018-01-08",
          "2018-01-15",
          "2018-01-22",
          "2018-01-29",
          "2018-02-05",
          "2018-02-12",
          "2018-02-19",
          "2018-02-26",
          "2018-03-05",
          "2018-03-12",
          "2018-03-19",
          "2018-03-26",
          "2018-04-02",
          "2018-04-09",
          "2018-04-16",
          "2018-04-23",
          "2018-04-30",
          "2018-05-07",
          "2018-05-14",
          "2018-05-21",
          "2018-05-28",
          "2018-06-04",
          "2018-06-11",
          "2018-06-18",
          "2018-06-25",
          "2018-07-02",
          "2018-07-09",
          "2018-07-16",
          "2018-07-23",
          "2018-07-30",
          "2018-08-06",
          "2018-08-13",
          "2018-08-20",
          "2018-08-27",
          "2018-09-03",
          "2018-09-10",
          "2018-09-17",
          "2018-09-24",
          "2018-10-01",
          "2018-10-08",
          "2018-10-15",
          "2018-10-22",
          "2018-10-29",
          "2018-11-05",
          "2018-11-12",
          "2018-11-19",
          "2018-11-26",
          "2018-12-03",
          "2018-12-10",
          "2018-12-17",
          "2018-12-24",
          "2018-12-31",
          "2019-01-07",
          "2019-01-14",
          "2019-01-21",
          "2019-01-28",
          "2019-02-04",
          "2019-02-11",
          "2019-02-18",
          "2019-02-25",
          "2019-03-04",
          "2019-03-11",
          "2019-03-18",
          "2019-03-25",
          "2019-04-01",
          "2019-04-08",
          "2019-04-15",
          "2019-04-22",
          "2019-04-29",
          "2019-05-06",
          "2019-05-13",
          "2019-05-20",
          "2019-05-27",
          "2019-06-03",
          "2019-06-10",
          "2019-06-17",
          "2019-06-24",
          "2019-07-01",
          "2019-07-08",
          "2019-07-15",
          "2019-07-22",
          "2019-07-29",
          "2019-08-05",
          "2019-08-12",
          "2019-08-19",
          "2019-08-26",
          "2019-09-02",
          "2019-09-09",
          "2019-09-16",
          "2019-09-23",
          "2019-09-30",
          "2019-10-07",
          "2019-10-14",
          "2019-10-21",
          "2019-10-28",
          "2019-11-04",
          "2019-11-11",
          "2019-11-18",
          "2019-11-25",
          "2019-12-02",
          "2019-12-09",
          "2019-12-16",
          "2019-12-23",
          "2019-12-30"
         ],
         "xaxis": "x",
         "y": [
          1,
          0.9599678310954936,
          0.9702434422185674,
          1.0168584099483515,
          1.0183569327795472,
          0.9425207136466456,
          0.949210571606832,
          0.9809472149548658,
          0.9452501435830832,
          0.9913298905647344,
          0.9905806264731936,
          0.8530371628674177,
          0.8551778853033591,
          0.8413165210173983,
          0.8804923666954552,
          0.8899116599439659,
          0.9290339332394776,
          0.9451966568307202,
          1.0007492587396545,
          0.9776825642702948,
          0.9896708164943808,
          1.038212463316699,
          1.0120417443283358,
          1.048166977313343,
          1.0796895826698554,
          1.039978596521961,
          1.0876638451914205,
          1.109553119307901,
          1.12357503483302,
          0.9359914015737306,
          0.951458353177682,
          0.9647310099631464,
          0.9301578668399936,
          0.934706922085943,
          0.940486970067317,
          0.8725715159998442,
          0.868718232741186,
          0.8719828084993478,
          0.8801712695690254,
          0.8420122930046896,
          0.822799036998693,
          0.8244581110690464,
          0.7780036945784202,
          0.8046561475625534,
          0.7758094853901156,
          0.7467486995959743,
          0.7050039698687512,
          0.7525287475773482,
          0.735456214007293,
          0.7709927394918039,
          0.668718185644586,
          0.712871248181817,
          0.7382927084305257,
          0.769601275795517,
          0.8029969932139043,
          0.7974845609584834,
          0.8868611275292119,
          0.8955311566861818,
          0.8696815348242483,
          0.8664168787877908,
          0.8685041144713691,
          0.907679960149426,
          0.8883060779778621,
          0.8795289843340972,
          0.8921059494105662,
          0.9404334779630672,
          0.9585228806468435,
          0.9541342963617566,
          1.024832747396326,
          1.0461332337340143,
          1.0079742571696786,
          0.9917045600737096,
          0.9690125351133252,
          0.9497992791073284,
          0.9277495340299856,
          0.9704575658402708,
          1.0229595550561554,
          1.0329140690527994,
          1.0511104505931883,
          1.0964409334832987,
          1.0616001853379655,
          1.0690393020378066,
          1.011613582715111,
          1.0053518863681492,
          0.9831415097733526,
          0.951297801938524,
          0.993684731270493,
          1.003425201923729,
          1.0018196199576253,
          1.0164837404393767,
          0.9478191079105452,
          0.9657478790768677,
          0.9857639608531776,
          0.9946481136318508,
          1.0055659243596704,
          1.03623221184162,
          1.0213539730900516,
          1.044153062537231,
          1.0640620851786324,
          1.0791543619217223,
          1.07599677037206,
          1.0388546682733315,
          1.104094173804843,
          1.113727585323171,
          1.0984746770626277
         ],
         "yaxis": "y"
        },
        {
         "fillpattern": {
          "shape": ""
         },
         "hovertemplate": "company=NFLX<br>date=%{x}<br>value=%{y}<extra></extra>",
         "legendgroup": "NFLX",
         "line": {
          "color": "#FFA15A"
         },
         "marker": {
          "symbol": "circle"
         },
         "mode": "lines",
         "name": "NFLX",
         "orientation": "v",
         "showlegend": true,
         "stackgroup": "1",
         "type": "scatter",
         "x": [
          "2018-01-01",
          "2018-01-08",
          "2018-01-15",
          "2018-01-22",
          "2018-01-29",
          "2018-02-05",
          "2018-02-12",
          "2018-02-19",
          "2018-02-26",
          "2018-03-05",
          "2018-03-12",
          "2018-03-19",
          "2018-03-26",
          "2018-04-02",
          "2018-04-09",
          "2018-04-16",
          "2018-04-23",
          "2018-04-30",
          "2018-05-07",
          "2018-05-14",
          "2018-05-21",
          "2018-05-28",
          "2018-06-04",
          "2018-06-11",
          "2018-06-18",
          "2018-06-25",
          "2018-07-02",
          "2018-07-09",
          "2018-07-16",
          "2018-07-23",
          "2018-07-30",
          "2018-08-06",
          "2018-08-13",
          "2018-08-20",
          "2018-08-27",
          "2018-09-03",
          "2018-09-10",
          "2018-09-17",
          "2018-09-24",
          "2018-10-01",
          "2018-10-08",
          "2018-10-15",
          "2018-10-22",
          "2018-10-29",
          "2018-11-05",
          "2018-11-12",
          "2018-11-19",
          "2018-11-26",
          "2018-12-03",
          "2018-12-10",
          "2018-12-17",
          "2018-12-24",
          "2018-12-31",
          "2019-01-07",
          "2019-01-14",
          "2019-01-21",
          "2019-01-28",
          "2019-02-04",
          "2019-02-11",
          "2019-02-18",
          "2019-02-25",
          "2019-03-04",
          "2019-03-11",
          "2019-03-18",
          "2019-03-25",
          "2019-04-01",
          "2019-04-08",
          "2019-04-15",
          "2019-04-22",
          "2019-04-29",
          "2019-05-06",
          "2019-05-13",
          "2019-05-20",
          "2019-05-27",
          "2019-06-03",
          "2019-06-10",
          "2019-06-17",
          "2019-06-24",
          "2019-07-01",
          "2019-07-08",
          "2019-07-15",
          "2019-07-22",
          "2019-07-29",
          "2019-08-05",
          "2019-08-12",
          "2019-08-19",
          "2019-08-26",
          "2019-09-02",
          "2019-09-09",
          "2019-09-16",
          "2019-09-23",
          "2019-09-30",
          "2019-10-07",
          "2019-10-14",
          "2019-10-21",
          "2019-10-28",
          "2019-11-04",
          "2019-11-11",
          "2019-11-18",
          "2019-11-25",
          "2019-12-02",
          "2019-12-09",
          "2019-12-16",
          "2019-12-23",
          "2019-12-30"
         ],
         "xaxis": "x",
         "y": [
          1,
          1.0535263142643383,
          1.0498595254569378,
          1.3076813155940448,
          1.273536771428717,
          1.188008929282134,
          1.3263487897912096,
          1.3616362026373592,
          1.4336396058469547,
          1.5783608462698024,
          1.5165008067883996,
          1.4331158380609592,
          1.406495542490225,
          1.375541688281783,
          1.484118227436587,
          1.5608837620628662,
          1.484642138086525,
          1.5243106261176576,
          1.5546453794312736,
          1.5437877293254985,
          1.6728891882258874,
          1.7140339274719294,
          1.7170817582484463,
          1.866660325094997,
          1.9576645850358447,
          1.864041067097456,
          1.94414015086099,
          1.884851557577705,
          1.7193674908479577,
          1.691556657660921,
          1.633839648701375,
          1.647078369277624,
          1.50854798541483,
          1.7087480282692504,
          1.7509404459512254,
          1.660459949034241,
          1.7360826197418304,
          1.720034255916133,
          1.7816562507344105,
          1.6731749018244944,
          1.617029334324746,
          1.5842183202957685,
          1.4278298007564696,
          1.4719748494696214,
          1.4451640257830367,
          1.3629695899097676,
          1.2325348866009125,
          1.3625886860662726,
          1.262631595251403,
          1.2707271281792676,
          1.1733415549944868,
          1.2194865512765718,
          1.4170674789973934,
          1.6076479259096166,
          1.6148387919701228,
          1.6098384682642397,
          1.6184103905326357,
          1.6551740498315624,
          1.699461814861141,
          1.7287488945009553,
          1.7016048311442251,
          1.6648411718452985,
          1.721319979015192,
          1.7191771103581814,
          1.6979855684083631,
          1.7405113638622944,
          1.6721748970861734,
          1.716034084574645,
          1.7850849901165535,
          1.8335634546034707,
          1.7193199695385504,
          1.6879375377890014,
          1.6876518241903944,
          1.6347444679569396,
          1.7185103405278743,
          1.6178389585732904,
          1.758226497494488,
          1.7492261453110591,
          1.8122290534732837,
          1.7774655512770718,
          1.5005476379697218,
          1.5990284823318142,
          1.518310297673454,
          1.471165225221077,
          1.4419733358261506,
          1.3878755896024673,
          1.398876103650743,
          1.381827735086725,
          1.400780927644628,
          1.2893470810670251,
          1.2528214711933554,
          1.299061872016242,
          1.347349808387309,
          1.3110147218673576,
          1.3182532521012131,
          1.3658269020946976,
          1.388494690497293,
          1.4049716271019663,
          1.4785466146353017,
          1.4984522906221185,
          1.4636411194904255,
          1.421496227879989,
          1.6043620457078422,
          1.567169808867808,
          1.5408828958311611
         ],
         "yaxis": "y"
        },
        {
         "fillpattern": {
          "shape": ""
         },
         "hovertemplate": "company=MSFT<br>date=%{x}<br>value=%{y}<extra></extra>",
         "legendgroup": "MSFT",
         "line": {
          "color": "#19d3f3"
         },
         "marker": {
          "symbol": "circle"
         },
         "mode": "lines",
         "name": "MSFT",
         "orientation": "v",
         "showlegend": true,
         "stackgroup": "1",
         "type": "scatter",
         "x": [
          "2018-01-01",
          "2018-01-08",
          "2018-01-15",
          "2018-01-22",
          "2018-01-29",
          "2018-02-05",
          "2018-02-12",
          "2018-02-19",
          "2018-02-26",
          "2018-03-05",
          "2018-03-12",
          "2018-03-19",
          "2018-03-26",
          "2018-04-02",
          "2018-04-09",
          "2018-04-16",
          "2018-04-23",
          "2018-04-30",
          "2018-05-07",
          "2018-05-14",
          "2018-05-21",
          "2018-05-28",
          "2018-06-04",
          "2018-06-11",
          "2018-06-18",
          "2018-06-25",
          "2018-07-02",
          "2018-07-09",
          "2018-07-16",
          "2018-07-23",
          "2018-07-30",
          "2018-08-06",
          "2018-08-13",
          "2018-08-20",
          "2018-08-27",
          "2018-09-03",
          "2018-09-10",
          "2018-09-17",
          "2018-09-24",
          "2018-10-01",
          "2018-10-08",
          "2018-10-15",
          "2018-10-22",
          "2018-10-29",
          "2018-11-05",
          "2018-11-12",
          "2018-11-19",
          "2018-11-26",
          "2018-12-03",
          "2018-12-10",
          "2018-12-17",
          "2018-12-24",
          "2018-12-31",
          "2019-01-07",
          "2019-01-14",
          "2019-01-21",
          "2019-01-28",
          "2019-02-04",
          "2019-02-11",
          "2019-02-18",
          "2019-02-25",
          "2019-03-04",
          "2019-03-11",
          "2019-03-18",
          "2019-03-25",
          "2019-04-01",
          "2019-04-08",
          "2019-04-15",
          "2019-04-22",
          "2019-04-29",
          "2019-05-06",
          "2019-05-13",
          "2019-05-20",
          "2019-05-27",
          "2019-06-03",
          "2019-06-10",
          "2019-06-17",
          "2019-06-24",
          "2019-07-01",
          "2019-07-08",
          "2019-07-15",
          "2019-07-22",
          "2019-07-29",
          "2019-08-05",
          "2019-08-12",
          "2019-08-19",
          "2019-08-26",
          "2019-09-02",
          "2019-09-09",
          "2019-09-16",
          "2019-09-23",
          "2019-09-30",
          "2019-10-07",
          "2019-10-14",
          "2019-10-21",
          "2019-10-28",
          "2019-11-04",
          "2019-11-11",
          "2019-11-18",
          "2019-11-25",
          "2019-12-02",
          "2019-12-09",
          "2019-12-16",
          "2019-12-23",
          "2019-12-30"
         ],
         "xaxis": "x",
         "y": [
          1,
          1.015988161560536,
          1.0205238457756245,
          1.0665607876956391,
          1.040707528275144,
          0.9998865857832728,
          1.043202153459527,
          1.0665607876956391,
          1.0551082990110374,
          1.0946819232411402,
          1.072683930770293,
          0.9885474319413214,
          1.034924537137441,
          1.0231318851767346,
          1.0554484622871425,
          1.0772196149853812,
          1.0865177211357813,
          1.0790339249567087,
          1.1078352963411884,
          1.0926408755495889,
          1.1153191832334917,
          1.1428733270694336,
          1.1523981709400573,
          1.1353894401771305,
          1.1385644826269534,
          1.1181539716939797,
          1.147068848008417,
          1.1954869895569342,
          1.2050118447667115,
          1.2210000857013248,
          1.225082192423581,
          1.2359677687727004,
          1.2198661929954373,
          1.2291642991458374,
          1.2737271737447062,
          1.227009825898405,
          1.2855199050794894,
          1.2956117406596723,
          1.2968590589214408,
          1.2714592862805467,
          1.242431086462613,
          1.2321125018230523,
          1.2128358835959658,
          1.203764617218174,
          1.242431086462613,
          1.2279169808840689,
          1.1687265864899288,
          1.2573987581948347,
          1.1885701057133435,
          1.2022904705229511,
          1.1138451159123457,
          1.1383376428543452,
          1.1557999511101045,
          1.1656650489700635,
          1.2213402489774292,
          1.2152170945636216,
          1.1654382205366092,
          1.1982083638006946,
          1.2271232401151322,
          1.2583059131804986,
          1.275994970495635,
          1.2530899137523548,
          1.3143213671771998,
          1.3272479912178707,
          1.3373398267980536,
          1.3594511427723972,
          1.371470623166558,
          1.398911443499003,
          1.4728426811919109,
          1.4616168621926098,
          1.4415465939098175,
          1.45220551191279,
          1.4314547583296346,
          1.4024265471725468,
          1.489964746797488,
          1.5018708923489987,
          1.5531239130712344,
          1.518993128041884,
          1.5541444028995486,
          1.5750084006121237,
          1.5491551411916282,
          1.6026759586647925,
          1.5523300929282209,
          1.5615149549492018,
          1.5435990692006107,
          1.5125297196387406,
          1.5632157599905712,
          1.5772763674503605,
          1.5570926849508404,
          1.581131634400008,
          1.5617416132953483,
          1.5661638719545554,
          1.583852929269692,
          1.5581131747791548,
          1.5957590748212025,
          1.629663201504406,
          1.655062974145301,
          1.7005329130166025,
          1.6962239778608914,
          1.7165211652903694,
          1.720716595516122,
          1.7522394318575931,
          1.7848962516181823,
          1.8024719740906685,
          1.7881845268582712
         ],
         "yaxis": "y"
        }
       ],
       "layout": {
        "legend": {
         "title": {
          "text": "company"
         },
         "tracegroupgap": 0
        },
        "margin": {
         "t": 60
        },
        "template": {
         "data": {
          "bar": [
           {
            "error_x": {
             "color": "#2a3f5f"
            },
            "error_y": {
             "color": "#2a3f5f"
            },
            "marker": {
             "line": {
              "color": "#E5ECF6",
              "width": 0.5
             },
             "pattern": {
              "fillmode": "overlay",
              "size": 10,
              "solidity": 0.2
             }
            },
            "type": "bar"
           }
          ],
          "barpolar": [
           {
            "marker": {
             "line": {
              "color": "#E5ECF6",
              "width": 0.5
             },
             "pattern": {
              "fillmode": "overlay",
              "size": 10,
              "solidity": 0.2
             }
            },
            "type": "barpolar"
           }
          ],
          "carpet": [
           {
            "aaxis": {
             "endlinecolor": "#2a3f5f",
             "gridcolor": "white",
             "linecolor": "white",
             "minorgridcolor": "white",
             "startlinecolor": "#2a3f5f"
            },
            "baxis": {
             "endlinecolor": "#2a3f5f",
             "gridcolor": "white",
             "linecolor": "white",
             "minorgridcolor": "white",
             "startlinecolor": "#2a3f5f"
            },
            "type": "carpet"
           }
          ],
          "choropleth": [
           {
            "colorbar": {
             "outlinewidth": 0,
             "ticks": ""
            },
            "type": "choropleth"
           }
          ],
          "contour": [
           {
            "colorbar": {
             "outlinewidth": 0,
             "ticks": ""
            },
            "colorscale": [
             [
              0,
              "#0d0887"
             ],
             [
              0.1111111111111111,
              "#46039f"
             ],
             [
              0.2222222222222222,
              "#7201a8"
             ],
             [
              0.3333333333333333,
              "#9c179e"
             ],
             [
              0.4444444444444444,
              "#bd3786"
             ],
             [
              0.5555555555555556,
              "#d8576b"
             ],
             [
              0.6666666666666666,
              "#ed7953"
             ],
             [
              0.7777777777777778,
              "#fb9f3a"
             ],
             [
              0.8888888888888888,
              "#fdca26"
             ],
             [
              1,
              "#f0f921"
             ]
            ],
            "type": "contour"
           }
          ],
          "contourcarpet": [
           {
            "colorbar": {
             "outlinewidth": 0,
             "ticks": ""
            },
            "type": "contourcarpet"
           }
          ],
          "heatmap": [
           {
            "colorbar": {
             "outlinewidth": 0,
             "ticks": ""
            },
            "colorscale": [
             [
              0,
              "#0d0887"
             ],
             [
              0.1111111111111111,
              "#46039f"
             ],
             [
              0.2222222222222222,
              "#7201a8"
             ],
             [
              0.3333333333333333,
              "#9c179e"
             ],
             [
              0.4444444444444444,
              "#bd3786"
             ],
             [
              0.5555555555555556,
              "#d8576b"
             ],
             [
              0.6666666666666666,
              "#ed7953"
             ],
             [
              0.7777777777777778,
              "#fb9f3a"
             ],
             [
              0.8888888888888888,
              "#fdca26"
             ],
             [
              1,
              "#f0f921"
             ]
            ],
            "type": "heatmap"
           }
          ],
          "heatmapgl": [
           {
            "colorbar": {
             "outlinewidth": 0,
             "ticks": ""
            },
            "colorscale": [
             [
              0,
              "#0d0887"
             ],
             [
              0.1111111111111111,
              "#46039f"
             ],
             [
              0.2222222222222222,
              "#7201a8"
             ],
             [
              0.3333333333333333,
              "#9c179e"
             ],
             [
              0.4444444444444444,
              "#bd3786"
             ],
             [
              0.5555555555555556,
              "#d8576b"
             ],
             [
              0.6666666666666666,
              "#ed7953"
             ],
             [
              0.7777777777777778,
              "#fb9f3a"
             ],
             [
              0.8888888888888888,
              "#fdca26"
             ],
             [
              1,
              "#f0f921"
             ]
            ],
            "type": "heatmapgl"
           }
          ],
          "histogram": [
           {
            "marker": {
             "pattern": {
              "fillmode": "overlay",
              "size": 10,
              "solidity": 0.2
             }
            },
            "type": "histogram"
           }
          ],
          "histogram2d": [
           {
            "colorbar": {
             "outlinewidth": 0,
             "ticks": ""
            },
            "colorscale": [
             [
              0,
              "#0d0887"
             ],
             [
              0.1111111111111111,
              "#46039f"
             ],
             [
              0.2222222222222222,
              "#7201a8"
             ],
             [
              0.3333333333333333,
              "#9c179e"
             ],
             [
              0.4444444444444444,
              "#bd3786"
             ],
             [
              0.5555555555555556,
              "#d8576b"
             ],
             [
              0.6666666666666666,
              "#ed7953"
             ],
             [
              0.7777777777777778,
              "#fb9f3a"
             ],
             [
              0.8888888888888888,
              "#fdca26"
             ],
             [
              1,
              "#f0f921"
             ]
            ],
            "type": "histogram2d"
           }
          ],
          "histogram2dcontour": [
           {
            "colorbar": {
             "outlinewidth": 0,
             "ticks": ""
            },
            "colorscale": [
             [
              0,
              "#0d0887"
             ],
             [
              0.1111111111111111,
              "#46039f"
             ],
             [
              0.2222222222222222,
              "#7201a8"
             ],
             [
              0.3333333333333333,
              "#9c179e"
             ],
             [
              0.4444444444444444,
              "#bd3786"
             ],
             [
              0.5555555555555556,
              "#d8576b"
             ],
             [
              0.6666666666666666,
              "#ed7953"
             ],
             [
              0.7777777777777778,
              "#fb9f3a"
             ],
             [
              0.8888888888888888,
              "#fdca26"
             ],
             [
              1,
              "#f0f921"
             ]
            ],
            "type": "histogram2dcontour"
           }
          ],
          "mesh3d": [
           {
            "colorbar": {
             "outlinewidth": 0,
             "ticks": ""
            },
            "type": "mesh3d"
           }
          ],
          "parcoords": [
           {
            "line": {
             "colorbar": {
              "outlinewidth": 0,
              "ticks": ""
             }
            },
            "type": "parcoords"
           }
          ],
          "pie": [
           {
            "automargin": true,
            "type": "pie"
           }
          ],
          "scatter": [
           {
            "fillpattern": {
             "fillmode": "overlay",
             "size": 10,
             "solidity": 0.2
            },
            "type": "scatter"
           }
          ],
          "scatter3d": [
           {
            "line": {
             "colorbar": {
              "outlinewidth": 0,
              "ticks": ""
             }
            },
            "marker": {
             "colorbar": {
              "outlinewidth": 0,
              "ticks": ""
             }
            },
            "type": "scatter3d"
           }
          ],
          "scattercarpet": [
           {
            "marker": {
             "colorbar": {
              "outlinewidth": 0,
              "ticks": ""
             }
            },
            "type": "scattercarpet"
           }
          ],
          "scattergeo": [
           {
            "marker": {
             "colorbar": {
              "outlinewidth": 0,
              "ticks": ""
             }
            },
            "type": "scattergeo"
           }
          ],
          "scattergl": [
           {
            "marker": {
             "colorbar": {
              "outlinewidth": 0,
              "ticks": ""
             }
            },
            "type": "scattergl"
           }
          ],
          "scattermapbox": [
           {
            "marker": {
             "colorbar": {
              "outlinewidth": 0,
              "ticks": ""
             }
            },
            "type": "scattermapbox"
           }
          ],
          "scatterpolar": [
           {
            "marker": {
             "colorbar": {
              "outlinewidth": 0,
              "ticks": ""
             }
            },
            "type": "scatterpolar"
           }
          ],
          "scatterpolargl": [
           {
            "marker": {
             "colorbar": {
              "outlinewidth": 0,
              "ticks": ""
             }
            },
            "type": "scatterpolargl"
           }
          ],
          "scatterternary": [
           {
            "marker": {
             "colorbar": {
              "outlinewidth": 0,
              "ticks": ""
             }
            },
            "type": "scatterternary"
           }
          ],
          "surface": [
           {
            "colorbar": {
             "outlinewidth": 0,
             "ticks": ""
            },
            "colorscale": [
             [
              0,
              "#0d0887"
             ],
             [
              0.1111111111111111,
              "#46039f"
             ],
             [
              0.2222222222222222,
              "#7201a8"
             ],
             [
              0.3333333333333333,
              "#9c179e"
             ],
             [
              0.4444444444444444,
              "#bd3786"
             ],
             [
              0.5555555555555556,
              "#d8576b"
             ],
             [
              0.6666666666666666,
              "#ed7953"
             ],
             [
              0.7777777777777778,
              "#fb9f3a"
             ],
             [
              0.8888888888888888,
              "#fdca26"
             ],
             [
              1,
              "#f0f921"
             ]
            ],
            "type": "surface"
           }
          ],
          "table": [
           {
            "cells": {
             "fill": {
              "color": "#EBF0F8"
             },
             "line": {
              "color": "white"
             }
            },
            "header": {
             "fill": {
              "color": "#C8D4E3"
             },
             "line": {
              "color": "white"
             }
            },
            "type": "table"
           }
          ]
         },
         "layout": {
          "annotationdefaults": {
           "arrowcolor": "#2a3f5f",
           "arrowhead": 0,
           "arrowwidth": 1
          },
          "autotypenumbers": "strict",
          "coloraxis": {
           "colorbar": {
            "outlinewidth": 0,
            "ticks": ""
           }
          },
          "colorscale": {
           "diverging": [
            [
             0,
             "#8e0152"
            ],
            [
             0.1,
             "#c51b7d"
            ],
            [
             0.2,
             "#de77ae"
            ],
            [
             0.3,
             "#f1b6da"
            ],
            [
             0.4,
             "#fde0ef"
            ],
            [
             0.5,
             "#f7f7f7"
            ],
            [
             0.6,
             "#e6f5d0"
            ],
            [
             0.7,
             "#b8e186"
            ],
            [
             0.8,
             "#7fbc41"
            ],
            [
             0.9,
             "#4d9221"
            ],
            [
             1,
             "#276419"
            ]
           ],
           "sequential": [
            [
             0,
             "#0d0887"
            ],
            [
             0.1111111111111111,
             "#46039f"
            ],
            [
             0.2222222222222222,
             "#7201a8"
            ],
            [
             0.3333333333333333,
             "#9c179e"
            ],
            [
             0.4444444444444444,
             "#bd3786"
            ],
            [
             0.5555555555555556,
             "#d8576b"
            ],
            [
             0.6666666666666666,
             "#ed7953"
            ],
            [
             0.7777777777777778,
             "#fb9f3a"
            ],
            [
             0.8888888888888888,
             "#fdca26"
            ],
            [
             1,
             "#f0f921"
            ]
           ],
           "sequentialminus": [
            [
             0,
             "#0d0887"
            ],
            [
             0.1111111111111111,
             "#46039f"
            ],
            [
             0.2222222222222222,
             "#7201a8"
            ],
            [
             0.3333333333333333,
             "#9c179e"
            ],
            [
             0.4444444444444444,
             "#bd3786"
            ],
            [
             0.5555555555555556,
             "#d8576b"
            ],
            [
             0.6666666666666666,
             "#ed7953"
            ],
            [
             0.7777777777777778,
             "#fb9f3a"
            ],
            [
             0.8888888888888888,
             "#fdca26"
            ],
            [
             1,
             "#f0f921"
            ]
           ]
          },
          "colorway": [
           "#636efa",
           "#EF553B",
           "#00cc96",
           "#ab63fa",
           "#FFA15A",
           "#19d3f3",
           "#FF6692",
           "#B6E880",
           "#FF97FF",
           "#FECB52"
          ],
          "font": {
           "color": "#2a3f5f"
          },
          "geo": {
           "bgcolor": "white",
           "lakecolor": "white",
           "landcolor": "#E5ECF6",
           "showlakes": true,
           "showland": true,
           "subunitcolor": "white"
          },
          "hoverlabel": {
           "align": "left"
          },
          "hovermode": "closest",
          "mapbox": {
           "style": "light"
          },
          "paper_bgcolor": "white",
          "plot_bgcolor": "#E5ECF6",
          "polar": {
           "angularaxis": {
            "gridcolor": "white",
            "linecolor": "white",
            "ticks": ""
           },
           "bgcolor": "#E5ECF6",
           "radialaxis": {
            "gridcolor": "white",
            "linecolor": "white",
            "ticks": ""
           }
          },
          "scene": {
           "xaxis": {
            "backgroundcolor": "#E5ECF6",
            "gridcolor": "white",
            "gridwidth": 2,
            "linecolor": "white",
            "showbackground": true,
            "ticks": "",
            "zerolinecolor": "white"
           },
           "yaxis": {
            "backgroundcolor": "#E5ECF6",
            "gridcolor": "white",
            "gridwidth": 2,
            "linecolor": "white",
            "showbackground": true,
            "ticks": "",
            "zerolinecolor": "white"
           },
           "zaxis": {
            "backgroundcolor": "#E5ECF6",
            "gridcolor": "white",
            "gridwidth": 2,
            "linecolor": "white",
            "showbackground": true,
            "ticks": "",
            "zerolinecolor": "white"
           }
          },
          "shapedefaults": {
           "line": {
            "color": "#2a3f5f"
           }
          },
          "ternary": {
           "aaxis": {
            "gridcolor": "white",
            "linecolor": "white",
            "ticks": ""
           },
           "baxis": {
            "gridcolor": "white",
            "linecolor": "white",
            "ticks": ""
           },
           "bgcolor": "#E5ECF6",
           "caxis": {
            "gridcolor": "white",
            "linecolor": "white",
            "ticks": ""
           }
          },
          "title": {
           "x": 0.05
          },
          "xaxis": {
           "automargin": true,
           "gridcolor": "white",
           "linecolor": "white",
           "ticks": "",
           "title": {
            "standoff": 15
           },
           "zerolinecolor": "white",
           "zerolinewidth": 2
          },
          "yaxis": {
           "automargin": true,
           "gridcolor": "white",
           "linecolor": "white",
           "ticks": "",
           "title": {
            "standoff": 15
           },
           "zerolinecolor": "white",
           "zerolinewidth": 2
          }
         }
        },
        "xaxis": {
         "anchor": "y",
         "domain": [
          0,
          1
         ],
         "title": {
          "text": "date"
         }
        },
        "yaxis": {
         "anchor": "x",
         "domain": [
          0,
          1
         ],
         "title": {
          "text": "value"
         }
        }
       }
      }
     },
     "metadata": {},
     "output_type": "display_data"
    }
   ],
   "source": [
    "px.area(stocks)"
   ]
  }
 ],
 "metadata": {
  "kernelspec": {
   "display_name": "base",
   "language": "python",
   "name": "python3"
  },
  "language_info": {
   "codemirror_mode": {
    "name": "ipython",
    "version": 3
   },
   "file_extension": ".py",
   "mimetype": "text/x-python",
   "name": "python",
   "nbconvert_exporter": "python",
   "pygments_lexer": "ipython3",
   "version": "3.11.7"
  }
 },
 "nbformat": 4,
 "nbformat_minor": 2
}
